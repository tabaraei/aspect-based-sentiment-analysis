{
  "nbformat": 4,
  "nbformat_minor": 0,
  "metadata": {
    "colab": {
      "provenance": [],
      "include_colab_link": true
    },
    "kernelspec": {
      "name": "python3",
      "display_name": "Python 3"
    },
    "language_info": {
      "name": "python"
    }
  },
  "cells": [
    {
      "cell_type": "markdown",
      "metadata": {
        "id": "view-in-github",
        "colab_type": "text"
      },
      "source": [
        "<a href=\"https://colab.research.google.com/github/tabaraei/aspect-based-sentiment-analysis/blob/main/ABSA.ipynb\" target=\"_parent\"><img src=\"https://colab.research.google.com/assets/colab-badge.svg\" alt=\"Open In Colab\"/></a>"
      ]
    },
    {
      "cell_type": "markdown",
      "source": [
        "Use Born and explanations provided to understand why the opinion is positive or negative, and at the end compare it with pre-trained model."
      ],
      "metadata": {
        "id": "whEd2Tw255P4"
      }
    },
    {
      "cell_type": "markdown",
      "source": [
        "[Born Classifier](https://bornrule.eguidotti.com) is a text classification algorithm inspired by the notion of superposition of states in quantum\n",
        "physics. Born provides good classification performance, explainability, and computational efficiency. In this\n",
        "project, the goal is to exploit the Born explanation in order to use it for Aspect Based Sentiment Analysis. In\n",
        "particular, the main idea to to proceed as follows:\n",
        "1. Perform a sentiment analysis classification of documents using Born\n",
        "2. Extract the explanation features for each pair of documents and predicted labels\n",
        "3. Analyze the explanatory features in order to group them in candidate aspects\n",
        "4. Associate each aspect to a specific sentence or portion of the text\n",
        "5. Predict the sentiment for the sentence or text portion using the trained Born classifier\n",
        "6. Associate then a (potentially different) sentiment to each sentence or text portion according to the aspect\n",
        "7. Finally, evaluate the quality of the results for each aspect."
      ],
      "metadata": {
        "id": "5h3whMphSrR0"
      }
    },
    {
      "cell_type": "markdown",
      "source": [
        "## Libraries and Modules"
      ],
      "metadata": {
        "id": "L5UmzngdQGmH"
      }
    },
    {
      "cell_type": "code",
      "source": [
        "%%capture\n",
        "!pip install datasets\n",
        "!pip install bornrule\n",
        "\n",
        "from datasets import load_dataset\n",
        "import pandas as pd\n",
        "import numpy as np\n",
        "import matplotlib.pyplot as plt\n",
        "import seaborn as sns\n",
        "import warnings\n",
        "\n",
        "import nltk\n",
        "from nltk import pos_tag\n",
        "from nltk.tokenize import sent_tokenize, word_tokenize\n",
        "from sklearn.feature_extraction.text import CountVectorizer\n",
        "from sklearn.metrics import classification_report, confusion_matrix, ConfusionMatrixDisplay\n",
        "from bornrule import BornClassifier\n",
        "\n",
        "warnings.filterwarnings('ignore')\n",
        "nltk.download('punkt_tab')\n",
        "nltk.download('averaged_perceptron_tagger_eng')"
      ],
      "metadata": {
        "id": "kG31UMtRYkS4"
      },
      "execution_count": 1,
      "outputs": []
    },
    {
      "cell_type": "code",
      "source": [
        "def visualize_confusion_matrix(cm, pred_labels, true_labels):\n",
        "    plt.figure(figsize=(8, 4))\n",
        "    ax = sns.heatmap(cm, annot=True, fmt='d', cmap='crest', xticklabels=pred_labels, yticklabels=true_labels)\n",
        "    ax.set(xlabel='Predicted Labels', ylabel='True Labels', title='Confusion Matrix')\n",
        "\n",
        "def visualize_aspect_detection_evaluation(metrics_df):\n",
        "    plt.figure(figsize=(10, 6))\n",
        "    ax = sns.lineplot(data=metrics_df, x='Threshold', y='Value', hue='Metric', marker='o', palette='Set2')\n",
        "    ax.set_ylim(0, 1)\n",
        "    ax.set(xlabel='Threshold', ylabel='Metric Value', title='Evaluation Metrics vs Thresholds')"
      ],
      "metadata": {
        "id": "zrPfh9yLQM_6"
      },
      "execution_count": null,
      "outputs": []
    },
    {
      "cell_type": "markdown",
      "source": [
        "## Dataset"
      ],
      "metadata": {
        "id": "5cus_FyWS4pz"
      }
    },
    {
      "cell_type": "markdown",
      "source": [
        "Any dataset supporting ABSA. See for example [here](https://paperswithcode.com/datasets?task=aspect-based-sentiment-analysis&page=1)."
      ],
      "metadata": {
        "id": "BYc65dwHS23S"
      }
    },
    {
      "cell_type": "code",
      "source": [
        "def compute_overall_sentiment(aspect_sentiments):\n",
        "    pos_count = aspect_sentiments.count('positive')\n",
        "    neg_count = aspect_sentiments.count('negative')\n",
        "\n",
        "    if pos_count > neg_count:\n",
        "        return 'positive'\n",
        "    elif neg_count > pos_count:\n",
        "        return 'negative'\n",
        "    else:\n",
        "        return 'neutral'\n",
        "\n",
        "def create_dataset(dataset):\n",
        "    data = []\n",
        "    for entry in dataset:\n",
        "        document = entry['text']\n",
        "        aspects = [aspect['term'] for aspect in entry['aspectTerms']]\n",
        "        aspect_sentiments = [aspect['polarity'] for aspect in entry['aspectTerms']]\n",
        "        overall_sentiment = compute_overall_sentiment(aspect_sentiments)\n",
        "        data.append({\n",
        "            'document': document,\n",
        "            'aspects': aspects,\n",
        "            'aspect_sentiments': aspect_sentiments,\n",
        "            'overall_sentiment': overall_sentiment\n",
        "        })\n",
        "    return pd.DataFrame(data)"
      ],
      "metadata": {
        "id": "-krgYZiNW9wf"
      },
      "execution_count": 2,
      "outputs": []
    },
    {
      "cell_type": "code",
      "source": [
        "# Load the \"restaurants\" or \"laptops\" datasets from SemEval2014 in HuggingFace\n",
        "dataset = load_dataset('alexcadillon/SemEval2014Task4', 'restaurants')\n",
        "train_data, test_data = dataset['train'], dataset['test']\n",
        "\n",
        "# Transform the data\n",
        "train_df = create_dataset(train_data)\n",
        "test_df = create_dataset(test_data)\n",
        "\n",
        "# Show a sample of the data\n",
        "print(f'Train size: {train_data.shape}, Test size: {test_data.shape}')\n",
        "train_df.head()"
      ],
      "metadata": {
        "colab": {
          "base_uri": "https://localhost:8080/",
          "height": 224
        },
        "id": "cK2Tw-ToweYG",
        "outputId": "a6e8d7e2-2f44-41af-c87a-31616c72311a"
      },
      "execution_count": 119,
      "outputs": [
        {
          "output_type": "stream",
          "name": "stdout",
          "text": [
            "Train size: (3041, 4), Test size: (800, 4)\n"
          ]
        },
        {
          "output_type": "execute_result",
          "data": {
            "text/plain": [
              "                                            document                aspects  \\\n",
              "0               But the staff was so horrible to us.                [staff]   \n",
              "1  To be completely fair, the only redeeming fact...                 [food]   \n",
              "2  The food is uniformly exceptional, with a very...  [food, kitchen, menu]   \n",
              "3  Where Gabriela personaly greets you and recomm...                     []   \n",
              "4  For those that go once and don't enjoy it, all...                     []   \n",
              "\n",
              "               aspect_sentiments overall_sentiment  \n",
              "0                     [negative]          negative  \n",
              "1                     [positive]          positive  \n",
              "2  [positive, positive, neutral]          positive  \n",
              "3                             []           neutral  \n",
              "4                             []           neutral  "
            ],
            "text/html": [
              "\n",
              "  <div id=\"df-b8eb4439-5cf1-40fb-a1b5-e91667bc9ca9\" class=\"colab-df-container\">\n",
              "    <div>\n",
              "<style scoped>\n",
              "    .dataframe tbody tr th:only-of-type {\n",
              "        vertical-align: middle;\n",
              "    }\n",
              "\n",
              "    .dataframe tbody tr th {\n",
              "        vertical-align: top;\n",
              "    }\n",
              "\n",
              "    .dataframe thead th {\n",
              "        text-align: right;\n",
              "    }\n",
              "</style>\n",
              "<table border=\"1\" class=\"dataframe\">\n",
              "  <thead>\n",
              "    <tr style=\"text-align: right;\">\n",
              "      <th></th>\n",
              "      <th>document</th>\n",
              "      <th>aspects</th>\n",
              "      <th>aspect_sentiments</th>\n",
              "      <th>overall_sentiment</th>\n",
              "    </tr>\n",
              "  </thead>\n",
              "  <tbody>\n",
              "    <tr>\n",
              "      <th>0</th>\n",
              "      <td>But the staff was so horrible to us.</td>\n",
              "      <td>[staff]</td>\n",
              "      <td>[negative]</td>\n",
              "      <td>negative</td>\n",
              "    </tr>\n",
              "    <tr>\n",
              "      <th>1</th>\n",
              "      <td>To be completely fair, the only redeeming fact...</td>\n",
              "      <td>[food]</td>\n",
              "      <td>[positive]</td>\n",
              "      <td>positive</td>\n",
              "    </tr>\n",
              "    <tr>\n",
              "      <th>2</th>\n",
              "      <td>The food is uniformly exceptional, with a very...</td>\n",
              "      <td>[food, kitchen, menu]</td>\n",
              "      <td>[positive, positive, neutral]</td>\n",
              "      <td>positive</td>\n",
              "    </tr>\n",
              "    <tr>\n",
              "      <th>3</th>\n",
              "      <td>Where Gabriela personaly greets you and recomm...</td>\n",
              "      <td>[]</td>\n",
              "      <td>[]</td>\n",
              "      <td>neutral</td>\n",
              "    </tr>\n",
              "    <tr>\n",
              "      <th>4</th>\n",
              "      <td>For those that go once and don't enjoy it, all...</td>\n",
              "      <td>[]</td>\n",
              "      <td>[]</td>\n",
              "      <td>neutral</td>\n",
              "    </tr>\n",
              "  </tbody>\n",
              "</table>\n",
              "</div>\n",
              "    <div class=\"colab-df-buttons\">\n",
              "\n",
              "  <div class=\"colab-df-container\">\n",
              "    <button class=\"colab-df-convert\" onclick=\"convertToInteractive('df-b8eb4439-5cf1-40fb-a1b5-e91667bc9ca9')\"\n",
              "            title=\"Convert this dataframe to an interactive table.\"\n",
              "            style=\"display:none;\">\n",
              "\n",
              "  <svg xmlns=\"http://www.w3.org/2000/svg\" height=\"24px\" viewBox=\"0 -960 960 960\">\n",
              "    <path d=\"M120-120v-720h720v720H120Zm60-500h600v-160H180v160Zm220 220h160v-160H400v160Zm0 220h160v-160H400v160ZM180-400h160v-160H180v160Zm440 0h160v-160H620v160ZM180-180h160v-160H180v160Zm440 0h160v-160H620v160Z\"/>\n",
              "  </svg>\n",
              "    </button>\n",
              "\n",
              "  <style>\n",
              "    .colab-df-container {\n",
              "      display:flex;\n",
              "      gap: 12px;\n",
              "    }\n",
              "\n",
              "    .colab-df-convert {\n",
              "      background-color: #E8F0FE;\n",
              "      border: none;\n",
              "      border-radius: 50%;\n",
              "      cursor: pointer;\n",
              "      display: none;\n",
              "      fill: #1967D2;\n",
              "      height: 32px;\n",
              "      padding: 0 0 0 0;\n",
              "      width: 32px;\n",
              "    }\n",
              "\n",
              "    .colab-df-convert:hover {\n",
              "      background-color: #E2EBFA;\n",
              "      box-shadow: 0px 1px 2px rgba(60, 64, 67, 0.3), 0px 1px 3px 1px rgba(60, 64, 67, 0.15);\n",
              "      fill: #174EA6;\n",
              "    }\n",
              "\n",
              "    .colab-df-buttons div {\n",
              "      margin-bottom: 4px;\n",
              "    }\n",
              "\n",
              "    [theme=dark] .colab-df-convert {\n",
              "      background-color: #3B4455;\n",
              "      fill: #D2E3FC;\n",
              "    }\n",
              "\n",
              "    [theme=dark] .colab-df-convert:hover {\n",
              "      background-color: #434B5C;\n",
              "      box-shadow: 0px 1px 3px 1px rgba(0, 0, 0, 0.15);\n",
              "      filter: drop-shadow(0px 1px 2px rgba(0, 0, 0, 0.3));\n",
              "      fill: #FFFFFF;\n",
              "    }\n",
              "  </style>\n",
              "\n",
              "    <script>\n",
              "      const buttonEl =\n",
              "        document.querySelector('#df-b8eb4439-5cf1-40fb-a1b5-e91667bc9ca9 button.colab-df-convert');\n",
              "      buttonEl.style.display =\n",
              "        google.colab.kernel.accessAllowed ? 'block' : 'none';\n",
              "\n",
              "      async function convertToInteractive(key) {\n",
              "        const element = document.querySelector('#df-b8eb4439-5cf1-40fb-a1b5-e91667bc9ca9');\n",
              "        const dataTable =\n",
              "          await google.colab.kernel.invokeFunction('convertToInteractive',\n",
              "                                                    [key], {});\n",
              "        if (!dataTable) return;\n",
              "\n",
              "        const docLinkHtml = 'Like what you see? Visit the ' +\n",
              "          '<a target=\"_blank\" href=https://colab.research.google.com/notebooks/data_table.ipynb>data table notebook</a>'\n",
              "          + ' to learn more about interactive tables.';\n",
              "        element.innerHTML = '';\n",
              "        dataTable['output_type'] = 'display_data';\n",
              "        await google.colab.output.renderOutput(dataTable, element);\n",
              "        const docLink = document.createElement('div');\n",
              "        docLink.innerHTML = docLinkHtml;\n",
              "        element.appendChild(docLink);\n",
              "      }\n",
              "    </script>\n",
              "  </div>\n",
              "\n",
              "\n",
              "<div id=\"df-3df0cfce-9233-47dc-adc4-97d98d25c177\">\n",
              "  <button class=\"colab-df-quickchart\" onclick=\"quickchart('df-3df0cfce-9233-47dc-adc4-97d98d25c177')\"\n",
              "            title=\"Suggest charts\"\n",
              "            style=\"display:none;\">\n",
              "\n",
              "<svg xmlns=\"http://www.w3.org/2000/svg\" height=\"24px\"viewBox=\"0 0 24 24\"\n",
              "     width=\"24px\">\n",
              "    <g>\n",
              "        <path d=\"M19 3H5c-1.1 0-2 .9-2 2v14c0 1.1.9 2 2 2h14c1.1 0 2-.9 2-2V5c0-1.1-.9-2-2-2zM9 17H7v-7h2v7zm4 0h-2V7h2v10zm4 0h-2v-4h2v4z\"/>\n",
              "    </g>\n",
              "</svg>\n",
              "  </button>\n",
              "\n",
              "<style>\n",
              "  .colab-df-quickchart {\n",
              "      --bg-color: #E8F0FE;\n",
              "      --fill-color: #1967D2;\n",
              "      --hover-bg-color: #E2EBFA;\n",
              "      --hover-fill-color: #174EA6;\n",
              "      --disabled-fill-color: #AAA;\n",
              "      --disabled-bg-color: #DDD;\n",
              "  }\n",
              "\n",
              "  [theme=dark] .colab-df-quickchart {\n",
              "      --bg-color: #3B4455;\n",
              "      --fill-color: #D2E3FC;\n",
              "      --hover-bg-color: #434B5C;\n",
              "      --hover-fill-color: #FFFFFF;\n",
              "      --disabled-bg-color: #3B4455;\n",
              "      --disabled-fill-color: #666;\n",
              "  }\n",
              "\n",
              "  .colab-df-quickchart {\n",
              "    background-color: var(--bg-color);\n",
              "    border: none;\n",
              "    border-radius: 50%;\n",
              "    cursor: pointer;\n",
              "    display: none;\n",
              "    fill: var(--fill-color);\n",
              "    height: 32px;\n",
              "    padding: 0;\n",
              "    width: 32px;\n",
              "  }\n",
              "\n",
              "  .colab-df-quickchart:hover {\n",
              "    background-color: var(--hover-bg-color);\n",
              "    box-shadow: 0 1px 2px rgba(60, 64, 67, 0.3), 0 1px 3px 1px rgba(60, 64, 67, 0.15);\n",
              "    fill: var(--button-hover-fill-color);\n",
              "  }\n",
              "\n",
              "  .colab-df-quickchart-complete:disabled,\n",
              "  .colab-df-quickchart-complete:disabled:hover {\n",
              "    background-color: var(--disabled-bg-color);\n",
              "    fill: var(--disabled-fill-color);\n",
              "    box-shadow: none;\n",
              "  }\n",
              "\n",
              "  .colab-df-spinner {\n",
              "    border: 2px solid var(--fill-color);\n",
              "    border-color: transparent;\n",
              "    border-bottom-color: var(--fill-color);\n",
              "    animation:\n",
              "      spin 1s steps(1) infinite;\n",
              "  }\n",
              "\n",
              "  @keyframes spin {\n",
              "    0% {\n",
              "      border-color: transparent;\n",
              "      border-bottom-color: var(--fill-color);\n",
              "      border-left-color: var(--fill-color);\n",
              "    }\n",
              "    20% {\n",
              "      border-color: transparent;\n",
              "      border-left-color: var(--fill-color);\n",
              "      border-top-color: var(--fill-color);\n",
              "    }\n",
              "    30% {\n",
              "      border-color: transparent;\n",
              "      border-left-color: var(--fill-color);\n",
              "      border-top-color: var(--fill-color);\n",
              "      border-right-color: var(--fill-color);\n",
              "    }\n",
              "    40% {\n",
              "      border-color: transparent;\n",
              "      border-right-color: var(--fill-color);\n",
              "      border-top-color: var(--fill-color);\n",
              "    }\n",
              "    60% {\n",
              "      border-color: transparent;\n",
              "      border-right-color: var(--fill-color);\n",
              "    }\n",
              "    80% {\n",
              "      border-color: transparent;\n",
              "      border-right-color: var(--fill-color);\n",
              "      border-bottom-color: var(--fill-color);\n",
              "    }\n",
              "    90% {\n",
              "      border-color: transparent;\n",
              "      border-bottom-color: var(--fill-color);\n",
              "    }\n",
              "  }\n",
              "</style>\n",
              "\n",
              "  <script>\n",
              "    async function quickchart(key) {\n",
              "      const quickchartButtonEl =\n",
              "        document.querySelector('#' + key + ' button');\n",
              "      quickchartButtonEl.disabled = true;  // To prevent multiple clicks.\n",
              "      quickchartButtonEl.classList.add('colab-df-spinner');\n",
              "      try {\n",
              "        const charts = await google.colab.kernel.invokeFunction(\n",
              "            'suggestCharts', [key], {});\n",
              "      } catch (error) {\n",
              "        console.error('Error during call to suggestCharts:', error);\n",
              "      }\n",
              "      quickchartButtonEl.classList.remove('colab-df-spinner');\n",
              "      quickchartButtonEl.classList.add('colab-df-quickchart-complete');\n",
              "    }\n",
              "    (() => {\n",
              "      let quickchartButtonEl =\n",
              "        document.querySelector('#df-3df0cfce-9233-47dc-adc4-97d98d25c177 button');\n",
              "      quickchartButtonEl.style.display =\n",
              "        google.colab.kernel.accessAllowed ? 'block' : 'none';\n",
              "    })();\n",
              "  </script>\n",
              "</div>\n",
              "\n",
              "    </div>\n",
              "  </div>\n"
            ],
            "application/vnd.google.colaboratory.intrinsic+json": {
              "type": "dataframe",
              "variable_name": "train_df",
              "summary": "{\n  \"name\": \"train_df\",\n  \"rows\": 3041,\n  \"fields\": [\n    {\n      \"column\": \"document\",\n      \"properties\": {\n        \"dtype\": \"string\",\n        \"num_unique_values\": 3035,\n        \"samples\": [\n          \"My husbands was perfect, my was well done and dry.\",\n          \"Edible but really a ripoff at those prices given whats in the area.\",\n          \"This is by far my favorite place in the neighborhood.\"\n        ],\n        \"semantic_type\": \"\",\n        \"description\": \"\"\n      }\n    },\n    {\n      \"column\": \"aspects\",\n      \"properties\": {\n        \"dtype\": \"object\",\n        \"semantic_type\": \"\",\n        \"description\": \"\"\n      }\n    },\n    {\n      \"column\": \"aspect_sentiments\",\n      \"properties\": {\n        \"dtype\": \"object\",\n        \"semantic_type\": \"\",\n        \"description\": \"\"\n      }\n    },\n    {\n      \"column\": \"overall_sentiment\",\n      \"properties\": {\n        \"dtype\": \"category\",\n        \"num_unique_values\": 3,\n        \"samples\": [\n          \"negative\",\n          \"positive\",\n          \"neutral\"\n        ],\n        \"semantic_type\": \"\",\n        \"description\": \"\"\n      }\n    }\n  ]\n}"
            }
          },
          "metadata": {},
          "execution_count": 119
        }
      ]
    },
    {
      "cell_type": "code",
      "source": [
        "# Tokenization and Vectorization\n",
        "vec = CountVectorizer(tokenizer=word_tokenize, lowercase=True, token_pattern=None)\n",
        "X_train, y_train = vec.fit_transform(train_df['document']), train_df['overall_sentiment']\n",
        "X_test, y_test = vec.transform(test_df['document']), test_df['overall_sentiment']"
      ],
      "metadata": {
        "id": "9ZdUErD4Ob5x"
      },
      "execution_count": null,
      "outputs": []
    },
    {
      "cell_type": "markdown",
      "source": [
        "No stemming or lemma, since we want to keep the original token to look for the aspects in the documents."
      ],
      "metadata": {
        "id": "pmLLu7WOaP5k"
      }
    },
    {
      "cell_type": "markdown",
      "source": [
        "## Sentiment Analysis using Born"
      ],
      "metadata": {
        "id": "wKONB9zbutiD"
      }
    },
    {
      "cell_type": "markdown",
      "source": [
        "### Training and Overall Evaluation"
      ],
      "metadata": {
        "id": "7TJxT3v3ZNiE"
      }
    },
    {
      "cell_type": "markdown",
      "source": [
        "Create a sparse matrix where rows represent documents and columns represent unique tokens (words) in the vocabulary."
      ],
      "metadata": {
        "id": "Q_ZvNBfgCJ0D"
      }
    },
    {
      "cell_type": "code",
      "source": [
        "clf = BornClassifier()\n",
        "clf.fit(X_train, y_train)"
      ],
      "metadata": {
        "colab": {
          "base_uri": "https://localhost:8080/",
          "height": 80
        },
        "id": "6GHAr5ec21Nt",
        "outputId": "e69d1d1f-6481-4498-e581-b355b981f54f"
      },
      "execution_count": 5,
      "outputs": [
        {
          "output_type": "execute_result",
          "data": {
            "text/plain": [
              "BornClassifier()"
            ],
            "text/html": [
              "<style>#sk-container-id-1 {\n",
              "  /* Definition of color scheme common for light and dark mode */\n",
              "  --sklearn-color-text: #000;\n",
              "  --sklearn-color-text-muted: #666;\n",
              "  --sklearn-color-line: gray;\n",
              "  /* Definition of color scheme for unfitted estimators */\n",
              "  --sklearn-color-unfitted-level-0: #fff5e6;\n",
              "  --sklearn-color-unfitted-level-1: #f6e4d2;\n",
              "  --sklearn-color-unfitted-level-2: #ffe0b3;\n",
              "  --sklearn-color-unfitted-level-3: chocolate;\n",
              "  /* Definition of color scheme for fitted estimators */\n",
              "  --sklearn-color-fitted-level-0: #f0f8ff;\n",
              "  --sklearn-color-fitted-level-1: #d4ebff;\n",
              "  --sklearn-color-fitted-level-2: #b3dbfd;\n",
              "  --sklearn-color-fitted-level-3: cornflowerblue;\n",
              "\n",
              "  /* Specific color for light theme */\n",
              "  --sklearn-color-text-on-default-background: var(--sg-text-color, var(--theme-code-foreground, var(--jp-content-font-color1, black)));\n",
              "  --sklearn-color-background: var(--sg-background-color, var(--theme-background, var(--jp-layout-color0, white)));\n",
              "  --sklearn-color-border-box: var(--sg-text-color, var(--theme-code-foreground, var(--jp-content-font-color1, black)));\n",
              "  --sklearn-color-icon: #696969;\n",
              "\n",
              "  @media (prefers-color-scheme: dark) {\n",
              "    /* Redefinition of color scheme for dark theme */\n",
              "    --sklearn-color-text-on-default-background: var(--sg-text-color, var(--theme-code-foreground, var(--jp-content-font-color1, white)));\n",
              "    --sklearn-color-background: var(--sg-background-color, var(--theme-background, var(--jp-layout-color0, #111)));\n",
              "    --sklearn-color-border-box: var(--sg-text-color, var(--theme-code-foreground, var(--jp-content-font-color1, white)));\n",
              "    --sklearn-color-icon: #878787;\n",
              "  }\n",
              "}\n",
              "\n",
              "#sk-container-id-1 {\n",
              "  color: var(--sklearn-color-text);\n",
              "}\n",
              "\n",
              "#sk-container-id-1 pre {\n",
              "  padding: 0;\n",
              "}\n",
              "\n",
              "#sk-container-id-1 input.sk-hidden--visually {\n",
              "  border: 0;\n",
              "  clip: rect(1px 1px 1px 1px);\n",
              "  clip: rect(1px, 1px, 1px, 1px);\n",
              "  height: 1px;\n",
              "  margin: -1px;\n",
              "  overflow: hidden;\n",
              "  padding: 0;\n",
              "  position: absolute;\n",
              "  width: 1px;\n",
              "}\n",
              "\n",
              "#sk-container-id-1 div.sk-dashed-wrapped {\n",
              "  border: 1px dashed var(--sklearn-color-line);\n",
              "  margin: 0 0.4em 0.5em 0.4em;\n",
              "  box-sizing: border-box;\n",
              "  padding-bottom: 0.4em;\n",
              "  background-color: var(--sklearn-color-background);\n",
              "}\n",
              "\n",
              "#sk-container-id-1 div.sk-container {\n",
              "  /* jupyter's `normalize.less` sets `[hidden] { display: none; }`\n",
              "     but bootstrap.min.css set `[hidden] { display: none !important; }`\n",
              "     so we also need the `!important` here to be able to override the\n",
              "     default hidden behavior on the sphinx rendered scikit-learn.org.\n",
              "     See: https://github.com/scikit-learn/scikit-learn/issues/21755 */\n",
              "  display: inline-block !important;\n",
              "  position: relative;\n",
              "}\n",
              "\n",
              "#sk-container-id-1 div.sk-text-repr-fallback {\n",
              "  display: none;\n",
              "}\n",
              "\n",
              "div.sk-parallel-item,\n",
              "div.sk-serial,\n",
              "div.sk-item {\n",
              "  /* draw centered vertical line to link estimators */\n",
              "  background-image: linear-gradient(var(--sklearn-color-text-on-default-background), var(--sklearn-color-text-on-default-background));\n",
              "  background-size: 2px 100%;\n",
              "  background-repeat: no-repeat;\n",
              "  background-position: center center;\n",
              "}\n",
              "\n",
              "/* Parallel-specific style estimator block */\n",
              "\n",
              "#sk-container-id-1 div.sk-parallel-item::after {\n",
              "  content: \"\";\n",
              "  width: 100%;\n",
              "  border-bottom: 2px solid var(--sklearn-color-text-on-default-background);\n",
              "  flex-grow: 1;\n",
              "}\n",
              "\n",
              "#sk-container-id-1 div.sk-parallel {\n",
              "  display: flex;\n",
              "  align-items: stretch;\n",
              "  justify-content: center;\n",
              "  background-color: var(--sklearn-color-background);\n",
              "  position: relative;\n",
              "}\n",
              "\n",
              "#sk-container-id-1 div.sk-parallel-item {\n",
              "  display: flex;\n",
              "  flex-direction: column;\n",
              "}\n",
              "\n",
              "#sk-container-id-1 div.sk-parallel-item:first-child::after {\n",
              "  align-self: flex-end;\n",
              "  width: 50%;\n",
              "}\n",
              "\n",
              "#sk-container-id-1 div.sk-parallel-item:last-child::after {\n",
              "  align-self: flex-start;\n",
              "  width: 50%;\n",
              "}\n",
              "\n",
              "#sk-container-id-1 div.sk-parallel-item:only-child::after {\n",
              "  width: 0;\n",
              "}\n",
              "\n",
              "/* Serial-specific style estimator block */\n",
              "\n",
              "#sk-container-id-1 div.sk-serial {\n",
              "  display: flex;\n",
              "  flex-direction: column;\n",
              "  align-items: center;\n",
              "  background-color: var(--sklearn-color-background);\n",
              "  padding-right: 1em;\n",
              "  padding-left: 1em;\n",
              "}\n",
              "\n",
              "\n",
              "/* Toggleable style: style used for estimator/Pipeline/ColumnTransformer box that is\n",
              "clickable and can be expanded/collapsed.\n",
              "- Pipeline and ColumnTransformer use this feature and define the default style\n",
              "- Estimators will overwrite some part of the style using the `sk-estimator` class\n",
              "*/\n",
              "\n",
              "/* Pipeline and ColumnTransformer style (default) */\n",
              "\n",
              "#sk-container-id-1 div.sk-toggleable {\n",
              "  /* Default theme specific background. It is overwritten whether we have a\n",
              "  specific estimator or a Pipeline/ColumnTransformer */\n",
              "  background-color: var(--sklearn-color-background);\n",
              "}\n",
              "\n",
              "/* Toggleable label */\n",
              "#sk-container-id-1 label.sk-toggleable__label {\n",
              "  cursor: pointer;\n",
              "  display: flex;\n",
              "  width: 100%;\n",
              "  margin-bottom: 0;\n",
              "  padding: 0.5em;\n",
              "  box-sizing: border-box;\n",
              "  text-align: center;\n",
              "  align-items: start;\n",
              "  justify-content: space-between;\n",
              "  gap: 0.5em;\n",
              "}\n",
              "\n",
              "#sk-container-id-1 label.sk-toggleable__label .caption {\n",
              "  font-size: 0.6rem;\n",
              "  font-weight: lighter;\n",
              "  color: var(--sklearn-color-text-muted);\n",
              "}\n",
              "\n",
              "#sk-container-id-1 label.sk-toggleable__label-arrow:before {\n",
              "  /* Arrow on the left of the label */\n",
              "  content: \"▸\";\n",
              "  float: left;\n",
              "  margin-right: 0.25em;\n",
              "  color: var(--sklearn-color-icon);\n",
              "}\n",
              "\n",
              "#sk-container-id-1 label.sk-toggleable__label-arrow:hover:before {\n",
              "  color: var(--sklearn-color-text);\n",
              "}\n",
              "\n",
              "/* Toggleable content - dropdown */\n",
              "\n",
              "#sk-container-id-1 div.sk-toggleable__content {\n",
              "  max-height: 0;\n",
              "  max-width: 0;\n",
              "  overflow: hidden;\n",
              "  text-align: left;\n",
              "  /* unfitted */\n",
              "  background-color: var(--sklearn-color-unfitted-level-0);\n",
              "}\n",
              "\n",
              "#sk-container-id-1 div.sk-toggleable__content.fitted {\n",
              "  /* fitted */\n",
              "  background-color: var(--sklearn-color-fitted-level-0);\n",
              "}\n",
              "\n",
              "#sk-container-id-1 div.sk-toggleable__content pre {\n",
              "  margin: 0.2em;\n",
              "  border-radius: 0.25em;\n",
              "  color: var(--sklearn-color-text);\n",
              "  /* unfitted */\n",
              "  background-color: var(--sklearn-color-unfitted-level-0);\n",
              "}\n",
              "\n",
              "#sk-container-id-1 div.sk-toggleable__content.fitted pre {\n",
              "  /* unfitted */\n",
              "  background-color: var(--sklearn-color-fitted-level-0);\n",
              "}\n",
              "\n",
              "#sk-container-id-1 input.sk-toggleable__control:checked~div.sk-toggleable__content {\n",
              "  /* Expand drop-down */\n",
              "  max-height: 200px;\n",
              "  max-width: 100%;\n",
              "  overflow: auto;\n",
              "}\n",
              "\n",
              "#sk-container-id-1 input.sk-toggleable__control:checked~label.sk-toggleable__label-arrow:before {\n",
              "  content: \"▾\";\n",
              "}\n",
              "\n",
              "/* Pipeline/ColumnTransformer-specific style */\n",
              "\n",
              "#sk-container-id-1 div.sk-label input.sk-toggleable__control:checked~label.sk-toggleable__label {\n",
              "  color: var(--sklearn-color-text);\n",
              "  background-color: var(--sklearn-color-unfitted-level-2);\n",
              "}\n",
              "\n",
              "#sk-container-id-1 div.sk-label.fitted input.sk-toggleable__control:checked~label.sk-toggleable__label {\n",
              "  background-color: var(--sklearn-color-fitted-level-2);\n",
              "}\n",
              "\n",
              "/* Estimator-specific style */\n",
              "\n",
              "/* Colorize estimator box */\n",
              "#sk-container-id-1 div.sk-estimator input.sk-toggleable__control:checked~label.sk-toggleable__label {\n",
              "  /* unfitted */\n",
              "  background-color: var(--sklearn-color-unfitted-level-2);\n",
              "}\n",
              "\n",
              "#sk-container-id-1 div.sk-estimator.fitted input.sk-toggleable__control:checked~label.sk-toggleable__label {\n",
              "  /* fitted */\n",
              "  background-color: var(--sklearn-color-fitted-level-2);\n",
              "}\n",
              "\n",
              "#sk-container-id-1 div.sk-label label.sk-toggleable__label,\n",
              "#sk-container-id-1 div.sk-label label {\n",
              "  /* The background is the default theme color */\n",
              "  color: var(--sklearn-color-text-on-default-background);\n",
              "}\n",
              "\n",
              "/* On hover, darken the color of the background */\n",
              "#sk-container-id-1 div.sk-label:hover label.sk-toggleable__label {\n",
              "  color: var(--sklearn-color-text);\n",
              "  background-color: var(--sklearn-color-unfitted-level-2);\n",
              "}\n",
              "\n",
              "/* Label box, darken color on hover, fitted */\n",
              "#sk-container-id-1 div.sk-label.fitted:hover label.sk-toggleable__label.fitted {\n",
              "  color: var(--sklearn-color-text);\n",
              "  background-color: var(--sklearn-color-fitted-level-2);\n",
              "}\n",
              "\n",
              "/* Estimator label */\n",
              "\n",
              "#sk-container-id-1 div.sk-label label {\n",
              "  font-family: monospace;\n",
              "  font-weight: bold;\n",
              "  display: inline-block;\n",
              "  line-height: 1.2em;\n",
              "}\n",
              "\n",
              "#sk-container-id-1 div.sk-label-container {\n",
              "  text-align: center;\n",
              "}\n",
              "\n",
              "/* Estimator-specific */\n",
              "#sk-container-id-1 div.sk-estimator {\n",
              "  font-family: monospace;\n",
              "  border: 1px dotted var(--sklearn-color-border-box);\n",
              "  border-radius: 0.25em;\n",
              "  box-sizing: border-box;\n",
              "  margin-bottom: 0.5em;\n",
              "  /* unfitted */\n",
              "  background-color: var(--sklearn-color-unfitted-level-0);\n",
              "}\n",
              "\n",
              "#sk-container-id-1 div.sk-estimator.fitted {\n",
              "  /* fitted */\n",
              "  background-color: var(--sklearn-color-fitted-level-0);\n",
              "}\n",
              "\n",
              "/* on hover */\n",
              "#sk-container-id-1 div.sk-estimator:hover {\n",
              "  /* unfitted */\n",
              "  background-color: var(--sklearn-color-unfitted-level-2);\n",
              "}\n",
              "\n",
              "#sk-container-id-1 div.sk-estimator.fitted:hover {\n",
              "  /* fitted */\n",
              "  background-color: var(--sklearn-color-fitted-level-2);\n",
              "}\n",
              "\n",
              "/* Specification for estimator info (e.g. \"i\" and \"?\") */\n",
              "\n",
              "/* Common style for \"i\" and \"?\" */\n",
              "\n",
              ".sk-estimator-doc-link,\n",
              "a:link.sk-estimator-doc-link,\n",
              "a:visited.sk-estimator-doc-link {\n",
              "  float: right;\n",
              "  font-size: smaller;\n",
              "  line-height: 1em;\n",
              "  font-family: monospace;\n",
              "  background-color: var(--sklearn-color-background);\n",
              "  border-radius: 1em;\n",
              "  height: 1em;\n",
              "  width: 1em;\n",
              "  text-decoration: none !important;\n",
              "  margin-left: 0.5em;\n",
              "  text-align: center;\n",
              "  /* unfitted */\n",
              "  border: var(--sklearn-color-unfitted-level-1) 1pt solid;\n",
              "  color: var(--sklearn-color-unfitted-level-1);\n",
              "}\n",
              "\n",
              ".sk-estimator-doc-link.fitted,\n",
              "a:link.sk-estimator-doc-link.fitted,\n",
              "a:visited.sk-estimator-doc-link.fitted {\n",
              "  /* fitted */\n",
              "  border: var(--sklearn-color-fitted-level-1) 1pt solid;\n",
              "  color: var(--sklearn-color-fitted-level-1);\n",
              "}\n",
              "\n",
              "/* On hover */\n",
              "div.sk-estimator:hover .sk-estimator-doc-link:hover,\n",
              ".sk-estimator-doc-link:hover,\n",
              "div.sk-label-container:hover .sk-estimator-doc-link:hover,\n",
              ".sk-estimator-doc-link:hover {\n",
              "  /* unfitted */\n",
              "  background-color: var(--sklearn-color-unfitted-level-3);\n",
              "  color: var(--sklearn-color-background);\n",
              "  text-decoration: none;\n",
              "}\n",
              "\n",
              "div.sk-estimator.fitted:hover .sk-estimator-doc-link.fitted:hover,\n",
              ".sk-estimator-doc-link.fitted:hover,\n",
              "div.sk-label-container:hover .sk-estimator-doc-link.fitted:hover,\n",
              ".sk-estimator-doc-link.fitted:hover {\n",
              "  /* fitted */\n",
              "  background-color: var(--sklearn-color-fitted-level-3);\n",
              "  color: var(--sklearn-color-background);\n",
              "  text-decoration: none;\n",
              "}\n",
              "\n",
              "/* Span, style for the box shown on hovering the info icon */\n",
              ".sk-estimator-doc-link span {\n",
              "  display: none;\n",
              "  z-index: 9999;\n",
              "  position: relative;\n",
              "  font-weight: normal;\n",
              "  right: .2ex;\n",
              "  padding: .5ex;\n",
              "  margin: .5ex;\n",
              "  width: min-content;\n",
              "  min-width: 20ex;\n",
              "  max-width: 50ex;\n",
              "  color: var(--sklearn-color-text);\n",
              "  box-shadow: 2pt 2pt 4pt #999;\n",
              "  /* unfitted */\n",
              "  background: var(--sklearn-color-unfitted-level-0);\n",
              "  border: .5pt solid var(--sklearn-color-unfitted-level-3);\n",
              "}\n",
              "\n",
              ".sk-estimator-doc-link.fitted span {\n",
              "  /* fitted */\n",
              "  background: var(--sklearn-color-fitted-level-0);\n",
              "  border: var(--sklearn-color-fitted-level-3);\n",
              "}\n",
              "\n",
              ".sk-estimator-doc-link:hover span {\n",
              "  display: block;\n",
              "}\n",
              "\n",
              "/* \"?\"-specific style due to the `<a>` HTML tag */\n",
              "\n",
              "#sk-container-id-1 a.estimator_doc_link {\n",
              "  float: right;\n",
              "  font-size: 1rem;\n",
              "  line-height: 1em;\n",
              "  font-family: monospace;\n",
              "  background-color: var(--sklearn-color-background);\n",
              "  border-radius: 1rem;\n",
              "  height: 1rem;\n",
              "  width: 1rem;\n",
              "  text-decoration: none;\n",
              "  /* unfitted */\n",
              "  color: var(--sklearn-color-unfitted-level-1);\n",
              "  border: var(--sklearn-color-unfitted-level-1) 1pt solid;\n",
              "}\n",
              "\n",
              "#sk-container-id-1 a.estimator_doc_link.fitted {\n",
              "  /* fitted */\n",
              "  border: var(--sklearn-color-fitted-level-1) 1pt solid;\n",
              "  color: var(--sklearn-color-fitted-level-1);\n",
              "}\n",
              "\n",
              "/* On hover */\n",
              "#sk-container-id-1 a.estimator_doc_link:hover {\n",
              "  /* unfitted */\n",
              "  background-color: var(--sklearn-color-unfitted-level-3);\n",
              "  color: var(--sklearn-color-background);\n",
              "  text-decoration: none;\n",
              "}\n",
              "\n",
              "#sk-container-id-1 a.estimator_doc_link.fitted:hover {\n",
              "  /* fitted */\n",
              "  background-color: var(--sklearn-color-fitted-level-3);\n",
              "}\n",
              "</style><div id=\"sk-container-id-1\" class=\"sk-top-container\"><div class=\"sk-text-repr-fallback\"><pre>BornClassifier()</pre><b>In a Jupyter environment, please rerun this cell to show the HTML representation or trust the notebook. <br />On GitHub, the HTML representation is unable to render, please try loading this page with nbviewer.org.</b></div><div class=\"sk-container\" hidden><div class=\"sk-item\"><div class=\"sk-estimator fitted sk-toggleable\"><input class=\"sk-toggleable__control sk-hidden--visually\" id=\"sk-estimator-id-1\" type=\"checkbox\" checked><label for=\"sk-estimator-id-1\" class=\"sk-toggleable__label fitted sk-toggleable__label-arrow\"><div><div>BornClassifier</div></div><div><span class=\"sk-estimator-doc-link fitted\">i<span>Fitted</span></span></div></label><div class=\"sk-toggleable__content fitted\"><pre>BornClassifier()</pre></div> </div></div></div></div>"
            ]
          },
          "metadata": {},
          "execution_count": 5
        }
      ]
    },
    {
      "cell_type": "code",
      "source": [
        "y_pred = clf.predict(X_test)\n",
        "print(classification_report(y_test, y_pred))"
      ],
      "metadata": {
        "id": "PWnmG4hHZEcq",
        "outputId": "e113e929-81e6-4c50-b438-0f9ec1828390",
        "colab": {
          "base_uri": "https://localhost:8080/"
        }
      },
      "execution_count": 6,
      "outputs": [
        {
          "output_type": "stream",
          "name": "stdout",
          "text": [
            "              precision    recall  f1-score   support\n",
            "\n",
            "    negative       0.51      0.58      0.55       125\n",
            "     neutral       0.72      0.57      0.63       279\n",
            "    positive       0.74      0.82      0.78       396\n",
            "\n",
            "    accuracy                           0.70       800\n",
            "   macro avg       0.66      0.66      0.65       800\n",
            "weighted avg       0.70      0.70      0.69       800\n",
            "\n"
          ]
        }
      ]
    },
    {
      "cell_type": "code",
      "source": [
        "class_labels = sorted(train_df['overall_sentiment'].unique())\n",
        "cm = confusion_matrix(y_test, y_pred, labels=class_labels)\n",
        "\n",
        "visualize_confusion_matrix(cm, pred_labels=class_labels, true_labels=class_labels)"
      ],
      "metadata": {
        "colab": {
          "base_uri": "https://localhost:8080/",
          "height": 410
        },
        "id": "pS7ldehO6-X2",
        "outputId": "d5ca1cb6-b283-4ea7-c869-4466c27c2d74"
      },
      "execution_count": 90,
      "outputs": [
        {
          "output_type": "display_data",
          "data": {
            "text/plain": [
              "<Figure size 800x400 with 2 Axes>"
            ],
            "image/png": "[encoded data removed]"
          },
          "metadata": {}
        }
      ]
    },
    {
      "cell_type": "markdown",
      "source": [
        "### Sample Test Prediction"
      ],
      "metadata": {
        "id": "yW4QQDA9Yeoo"
      }
    },
    {
      "cell_type": "code",
      "source": [
        "document_id = 0\n",
        "test_df.iloc[document_id]"
      ],
      "metadata": {
        "colab": {
          "base_uri": "https://localhost:8080/",
          "height": 0
        },
        "id": "QJOp4FXlFl8a",
        "outputId": "5a7ec66b-69a8-4dd6-b35b-8e51bd3145cf"
      },
      "execution_count": 8,
      "outputs": [
        {
          "output_type": "execute_result",
          "data": {
            "text/plain": [
              "document             The bread is top notch as well.\n",
              "aspects                                      [bread]\n",
              "aspect_sentiments                         [positive]\n",
              "overall_sentiment                           positive\n",
              "Name: 0, dtype: object"
            ],
            "text/html": [
              "<div>\n",
              "<style scoped>\n",
              "    .dataframe tbody tr th:only-of-type {\n",
              "        vertical-align: middle;\n",
              "    }\n",
              "\n",
              "    .dataframe tbody tr th {\n",
              "        vertical-align: top;\n",
              "    }\n",
              "\n",
              "    .dataframe thead th {\n",
              "        text-align: right;\n",
              "    }\n",
              "</style>\n",
              "<table border=\"1\" class=\"dataframe\">\n",
              "  <thead>\n",
              "    <tr style=\"text-align: right;\">\n",
              "      <th></th>\n",
              "      <th>0</th>\n",
              "    </tr>\n",
              "  </thead>\n",
              "  <tbody>\n",
              "    <tr>\n",
              "      <th>document</th>\n",
              "      <td>The bread is top notch as well.</td>\n",
              "    </tr>\n",
              "    <tr>\n",
              "      <th>aspects</th>\n",
              "      <td>[bread]</td>\n",
              "    </tr>\n",
              "    <tr>\n",
              "      <th>aspect_sentiments</th>\n",
              "      <td>[positive]</td>\n",
              "    </tr>\n",
              "    <tr>\n",
              "      <th>overall_sentiment</th>\n",
              "      <td>positive</td>\n",
              "    </tr>\n",
              "  </tbody>\n",
              "</table>\n",
              "</div><br><label><b>dtype:</b> object</label>"
            ]
          },
          "metadata": {},
          "execution_count": 8
        }
      ]
    },
    {
      "cell_type": "code",
      "source": [
        "document = test_df.iloc[document_id]['document']\n",
        "vectorized_doc = vec.transform([document])\n",
        "pd.DataFrame(clf.predict_proba(vectorized_doc), columns=class_labels, index=['probability'])"
      ],
      "metadata": {
        "id": "9j58GuESaqQ2",
        "outputId": "7ba7035a-d5bc-42cc-e5af-d78f6d01b8e8",
        "colab": {
          "base_uri": "https://localhost:8080/",
          "height": 0
        }
      },
      "execution_count": 150,
      "outputs": [
        {
          "output_type": "execute_result",
          "data": {
            "text/plain": [
              "             negative   neutral  positive\n",
              "probability  0.270188  0.357623  0.372189"
            ],
            "text/html": [
              "\n",
              "  <div id=\"df-1793d52f-5260-42d2-ab23-068eb22318f5\" class=\"colab-df-container\">\n",
              "    <div>\n",
              "<style scoped>\n",
              "    .dataframe tbody tr th:only-of-type {\n",
              "        vertical-align: middle;\n",
              "    }\n",
              "\n",
              "    .dataframe tbody tr th {\n",
              "        vertical-align: top;\n",
              "    }\n",
              "\n",
              "    .dataframe thead th {\n",
              "        text-align: right;\n",
              "    }\n",
              "</style>\n",
              "<table border=\"1\" class=\"dataframe\">\n",
              "  <thead>\n",
              "    <tr style=\"text-align: right;\">\n",
              "      <th></th>\n",
              "      <th>negative</th>\n",
              "      <th>neutral</th>\n",
              "      <th>positive</th>\n",
              "    </tr>\n",
              "  </thead>\n",
              "  <tbody>\n",
              "    <tr>\n",
              "      <th>probability</th>\n",
              "      <td>0.270188</td>\n",
              "      <td>0.357623</td>\n",
              "      <td>0.372189</td>\n",
              "    </tr>\n",
              "  </tbody>\n",
              "</table>\n",
              "</div>\n",
              "    <div class=\"colab-df-buttons\">\n",
              "\n",
              "  <div class=\"colab-df-container\">\n",
              "    <button class=\"colab-df-convert\" onclick=\"convertToInteractive('df-1793d52f-5260-42d2-ab23-068eb22318f5')\"\n",
              "            title=\"Convert this dataframe to an interactive table.\"\n",
              "            style=\"display:none;\">\n",
              "\n",
              "  <svg xmlns=\"http://www.w3.org/2000/svg\" height=\"24px\" viewBox=\"0 -960 960 960\">\n",
              "    <path d=\"M120-120v-720h720v720H120Zm60-500h600v-160H180v160Zm220 220h160v-160H400v160Zm0 220h160v-160H400v160ZM180-400h160v-160H180v160Zm440 0h160v-160H620v160ZM180-180h160v-160H180v160Zm440 0h160v-160H620v160Z\"/>\n",
              "  </svg>\n",
              "    </button>\n",
              "\n",
              "  <style>\n",
              "    .colab-df-container {\n",
              "      display:flex;\n",
              "      gap: 12px;\n",
              "    }\n",
              "\n",
              "    .colab-df-convert {\n",
              "      background-color: #E8F0FE;\n",
              "      border: none;\n",
              "      border-radius: 50%;\n",
              "      cursor: pointer;\n",
              "      display: none;\n",
              "      fill: #1967D2;\n",
              "      height: 32px;\n",
              "      padding: 0 0 0 0;\n",
              "      width: 32px;\n",
              "    }\n",
              "\n",
              "    .colab-df-convert:hover {\n",
              "      background-color: #E2EBFA;\n",
              "      box-shadow: 0px 1px 2px rgba(60, 64, 67, 0.3), 0px 1px 3px 1px rgba(60, 64, 67, 0.15);\n",
              "      fill: #174EA6;\n",
              "    }\n",
              "\n",
              "    .colab-df-buttons div {\n",
              "      margin-bottom: 4px;\n",
              "    }\n",
              "\n",
              "    [theme=dark] .colab-df-convert {\n",
              "      background-color: #3B4455;\n",
              "      fill: #D2E3FC;\n",
              "    }\n",
              "\n",
              "    [theme=dark] .colab-df-convert:hover {\n",
              "      background-color: #434B5C;\n",
              "      box-shadow: 0px 1px 3px 1px rgba(0, 0, 0, 0.15);\n",
              "      filter: drop-shadow(0px 1px 2px rgba(0, 0, 0, 0.3));\n",
              "      fill: #FFFFFF;\n",
              "    }\n",
              "  </style>\n",
              "\n",
              "    <script>\n",
              "      const buttonEl =\n",
              "        document.querySelector('#df-1793d52f-5260-42d2-ab23-068eb22318f5 button.colab-df-convert');\n",
              "      buttonEl.style.display =\n",
              "        google.colab.kernel.accessAllowed ? 'block' : 'none';\n",
              "\n",
              "      async function convertToInteractive(key) {\n",
              "        const element = document.querySelector('#df-1793d52f-5260-42d2-ab23-068eb22318f5');\n",
              "        const dataTable =\n",
              "          await google.colab.kernel.invokeFunction('convertToInteractive',\n",
              "                                                    [key], {});\n",
              "        if (!dataTable) return;\n",
              "\n",
              "        const docLinkHtml = 'Like what you see? Visit the ' +\n",
              "          '<a target=\"_blank\" href=https://colab.research.google.com/notebooks/data_table.ipynb>data table notebook</a>'\n",
              "          + ' to learn more about interactive tables.';\n",
              "        element.innerHTML = '';\n",
              "        dataTable['output_type'] = 'display_data';\n",
              "        await google.colab.output.renderOutput(dataTable, element);\n",
              "        const docLink = document.createElement('div');\n",
              "        docLink.innerHTML = docLinkHtml;\n",
              "        element.appendChild(docLink);\n",
              "      }\n",
              "    </script>\n",
              "  </div>\n",
              "\n",
              "\n",
              "    </div>\n",
              "  </div>\n"
            ],
            "application/vnd.google.colaboratory.intrinsic+json": {
              "type": "dataframe",
              "summary": "{\n  \"name\": \"pd\",\n  \"rows\": 1,\n  \"fields\": [\n    {\n      \"column\": \"negative\",\n      \"properties\": {\n        \"dtype\": \"number\",\n        \"std\": null,\n        \"min\": 0.27018781545696685,\n        \"max\": 0.27018781545696685,\n        \"num_unique_values\": 1,\n        \"samples\": [\n          0.27018781545696685\n        ],\n        \"semantic_type\": \"\",\n        \"description\": \"\"\n      }\n    },\n    {\n      \"column\": \"neutral\",\n      \"properties\": {\n        \"dtype\": \"number\",\n        \"std\": null,\n        \"min\": 0.3576231763730559,\n        \"max\": 0.3576231763730559,\n        \"num_unique_values\": 1,\n        \"samples\": [\n          0.3576231763730559\n        ],\n        \"semantic_type\": \"\",\n        \"description\": \"\"\n      }\n    },\n    {\n      \"column\": \"positive\",\n      \"properties\": {\n        \"dtype\": \"number\",\n        \"std\": null,\n        \"min\": 0.37218900816997724,\n        \"max\": 0.37218900816997724,\n        \"num_unique_values\": 1,\n        \"samples\": [\n          0.37218900816997724\n        ],\n        \"semantic_type\": \"\",\n        \"description\": \"\"\n      }\n    }\n  ]\n}"
            }
          },
          "metadata": {},
          "execution_count": 150
        }
      ]
    },
    {
      "cell_type": "code",
      "source": [
        "prediction = clf.predict(X_test[document_id])[0]\n",
        "print(f'Predicted Sentiment: {prediction}')"
      ],
      "metadata": {
        "id": "j2O2DPBffH3-",
        "outputId": "0d89d916-3015-4918-b675-cb1fabb181e8",
        "colab": {
          "base_uri": "https://localhost:8080/"
        }
      },
      "execution_count": 10,
      "outputs": [
        {
          "output_type": "stream",
          "name": "stdout",
          "text": [
            "Predicted Sentiment: positive\n"
          ]
        }
      ]
    },
    {
      "cell_type": "markdown",
      "source": [
        "### Global Explanatory Features"
      ],
      "metadata": {
        "id": "c3W1wpWBO0xI"
      }
    },
    {
      "cell_type": "code",
      "source": [
        "features = vec.get_feature_names_out()\n",
        "explain = pd.DataFrame(clf.explain().toarray(), index=features, columns=class_labels)"
      ],
      "metadata": {
        "id": "MBIaXi5RO8OK"
      },
      "execution_count": null,
      "outputs": []
    },
    {
      "cell_type": "code",
      "source": [
        "explain['positive'].sort_values(ascending=False).head()"
      ],
      "metadata": {
        "id": "EJW8Xbl1O8vT"
      },
      "execution_count": null,
      "outputs": []
    },
    {
      "cell_type": "code",
      "source": [
        "explain['negative'].sort_values(ascending=False).head()"
      ],
      "metadata": {
        "id": "4Mz48skGO88X"
      },
      "execution_count": null,
      "outputs": []
    },
    {
      "cell_type": "markdown",
      "source": [
        "## Aspect Detection"
      ],
      "metadata": {
        "id": "W4IcSArgZ-2z"
      }
    },
    {
      "cell_type": "code",
      "source": [
        "class AspectDetection:\n",
        "    def __init__(self, clf, vec, train_df, X_train):\n",
        "        self.clf = clf\n",
        "        self.vec = vec\n",
        "        self.train_df = train_df\n",
        "        self.X_train = X_train\n",
        "\n",
        "    def is_noun(self, word):\n",
        "        pos = pos_tag(word_tokenize(word))[0][1]\n",
        "        return pos in ['NN', 'NNS', 'NNP', 'NNPS']\n",
        "\n",
        "    def get_candidates(self, clf, vectorized_doc, threshold_aspect=0.004):\n",
        "        '''\n",
        "        For a given vectoried document, first we compute its overall sentiment, based\n",
        "        on which we retrieve the corresponding explanatory features. Then, we keep the\n",
        "        non-zero features (controlled by threshold) and sort them in descending\n",
        "        order as candidates.\n",
        "        '''\n",
        "        features = vec.get_feature_names_out()\n",
        "        prediction = clf.predict(vectorized_doc)[0]\n",
        "        local_explain = pd.DataFrame(clf.explain(vectorized_doc).toarray(), index=features, columns=class_labels)\n",
        "        candidates = local_explain[prediction][local_explain[prediction] > threshold_aspect]\n",
        "\n",
        "        candidate_aspects = candidates[candidates.index.to_series().apply(self.is_noun)]\n",
        "        return candidate_aspects.index.tolist()\n",
        "\n",
        "    def shorten_aspect_tokens(self, set1, set2):\n",
        "        '''\n",
        "        This function aims to match the tokens in set1 with the tokens in set2 in cases\n",
        "        that the string in one set is substring in another. For example, when dealing\n",
        "        with evaluation of aspects such as \"battery life\", it could be seen equivalent\n",
        "        to \"battery\" or \"battery life expectancy\" for a more accurate evaluation.\n",
        "        '''\n",
        "        set1_reduced = set()\n",
        "        for t in set1:\n",
        "            match_found = False\n",
        "            for c in set2:\n",
        "                if t in c:\n",
        "                    set1_reduced.add(t)\n",
        "                    match_found = True\n",
        "                    break\n",
        "                elif c in t:\n",
        "                    set1_reduced.add(c)\n",
        "                    match_found = True\n",
        "                    break\n",
        "            if not match_found:\n",
        "                set1_reduced.add(t)\n",
        "        return set1_reduced\n",
        "\n",
        "    def evaluate_aspect_detection(self, threshold_aspect):\n",
        "        '''\n",
        "        True Positive (TP): Elements in both candidate_set and true_set.\n",
        "        False Positive (FP): Elements in candidate_set but not in true_set.\n",
        "        False Negative (FN): Elements in true_set but not in candidate_set.\n",
        "        True Negative (TN): Rewarded when both sets are empty\n",
        "        '''\n",
        "        TP, FP, TN, FN = 0, 0, 0, 0\n",
        "        true_aspects = self.train_df['aspects'].tolist()\n",
        "        candidate_aspects = [self.get_candidates(self.clf, vectorized_doc=self.X_train[idx], threshold_aspect=threshold_aspect)\n",
        "                            for idx in self.train_df.index]\n",
        "\n",
        "        for candidate_aspect, true_aspect in zip(candidate_aspects, true_aspects):\n",
        "            candidate_aspect = self.shorten_aspect_tokens(set(candidate_aspect), set(true_aspect))\n",
        "            true_aspect = self.shorten_aspect_tokens(set(true_aspect), set(candidate_aspect))\n",
        "\n",
        "            TP += len(candidate_aspect & true_aspect)\n",
        "            FP += len(candidate_aspect - true_aspect)\n",
        "            FN += len(true_aspect - candidate_aspect)\n",
        "            TN += 1 if not candidate_aspect and not true_aspect else 0\n",
        "\n",
        "        confusion_matrix = pd.DataFrame(np.array([[TP, FN],[FP, TN]]),\n",
        "            index=['Aspect', 'Non-Aspect'],\n",
        "            columns=['Aspect', 'Non-Aspect'])\n",
        "\n",
        "        accuracy = (TP + TN) / (TP + TN + FP + FN)\n",
        "        precision = TP / (TP + FP) if (TP + FP) > 0 else 0\n",
        "        recall = TP / (TP + FN) if (TP + FN) > 0 else 0\n",
        "        f1 = 2 * precision * recall / (precision + recall) if precision + recall > 0 else 0\n",
        "        evaluation_metrics = {'confusion_matrix': confusion_matrix, 'accuracy': accuracy,\n",
        "                              'precision': precision, 'recall': recall, 'f1': f1}\n",
        "        return evaluation_metrics\n",
        "\n",
        "\n",
        "    def optimize_threshold_aspect(self):\n",
        "        pass\n",
        "\n",
        "    def get_sentence_for_aspect(self, document, aspects):\n",
        "        sentences = pd.Series(sent_tokenize(document))\n",
        "        return [{aspect: sentences[sentences.str.contains(aspect)].iloc[0]} for aspect in aspects]\n",
        "\n",
        "\n",
        "AD = AspectDetection(clf, vec, train_df, X_train)"
      ],
      "metadata": {
        "id": "OMMUuZ7KbfvP"
      },
      "execution_count": 134,
      "outputs": []
    },
    {
      "cell_type": "markdown",
      "source": [
        "### Shorten Candidate/True Aspect Tokens"
      ],
      "metadata": {
        "id": "_Mm5CxymGHIw"
      }
    },
    {
      "cell_type": "code",
      "source": [
        "candidate_aspect = {'noodles', 'bread with olive oil', 'tomato'}\n",
        "true_aspect = {'noodles soup', 'bread', 'eggs'}\n",
        "candidate_aspect = AD.reduce_aspect_tokens(candidate_aspect, true_aspect)\n",
        "true_aspect = AD.reduce_aspect_tokens(true_aspect, candidate_aspect)\n",
        "\n",
        "print(f'Candidate Aspects: {candidate_aspect}')\n",
        "print(f'True Aspects: {true_aspect}')"
      ],
      "metadata": {
        "id": "GCxqVBgHwmP4",
        "outputId": "3cf35ce4-0c3d-4d55-f857-73a7bfa0e2b1",
        "colab": {
          "base_uri": "https://localhost:8080/"
        }
      },
      "execution_count": 83,
      "outputs": [
        {
          "output_type": "stream",
          "name": "stdout",
          "text": [
            "Candidate Aspects: {'tomato', 'noodles', 'bread'}\n",
            "True Aspects: {'noodles', 'eggs', 'bread'}\n"
          ]
        }
      ]
    },
    {
      "cell_type": "markdown",
      "source": [
        "### Optimize Aspect Detection Threshold"
      ],
      "metadata": {
        "id": "WXOkHxjLrJf9"
      }
    },
    {
      "cell_type": "code",
      "source": [
        "evaluation_metrics_list = list()\n",
        "aspect_thresholds = np.linspace(0.001, 0.01, 3)\n",
        "best_aspect_threshold = None\n",
        "best_f1_score = 0\n",
        "\n",
        "for aspect_threshold in aspect_thresholds:\n",
        "    evaluation_metrics = AD.evaluate_aspect_detection(aspect_threshold)\n",
        "    del evaluation_metrics['confusion_matrix']\n",
        "    if evaluation_metrics['f1'] > best_f1_score:\n",
        "        best_f1_score = evaluation_metrics['f1']\n",
        "        best_aspect_threshold = aspect_threshold\n",
        "    evaluation_metrics_list.append(evaluation_metrics)\n",
        "\n",
        "print(f'Best Aspect Threshold: {best_aspect_threshold}')\n",
        "print(f'F1-Score: {best_f1_score}')"
      ],
      "metadata": {
        "id": "XvqmLPju48qx",
        "outputId": "b2381349-d285-4741-f79d-4667b46ca5a9",
        "colab": {
          "base_uri": "https://localhost:8080/"
        }
      },
      "execution_count": 132,
      "outputs": [
        {
          "output_type": "stream",
          "name": "stdout",
          "text": [
            "Best Aspect Threshold: 0.001\n",
            "F1-Score: 0.42456326098464797\n"
          ]
        }
      ]
    },
    {
      "cell_type": "code",
      "source": [
        "metrics_df = pd.DataFrame(evaluation_metrics_list)\n",
        "metrics_df['Threshold'] = aspect_thresholds\n",
        "metrics_df = metrics_df.melt(id_vars='Threshold', var_name='Metric', value_name='Value')\n",
        "\n",
        "visualize_aspect_detection_evaluation(metrics_df)"
      ],
      "metadata": {
        "id": "1TXKz1udABun",
        "outputId": "094b6df6-9d4b-4a82-b77e-0cbd122a45df",
        "colab": {
          "base_uri": "https://localhost:8080/",
          "height": 564
        }
      },
      "execution_count": 133,
      "outputs": [
        {
          "output_type": "display_data",
          "data": {
            "text/plain": [
              "<Figure size 1000x600 with 1 Axes>"
            ],
            "image/png": "[encoded data removed]"
          },
          "metadata": {}
        }
      ]
    },
    {
      "cell_type": "markdown",
      "source": [
        "### Overall Aspect Detection Evaluation"
      ],
      "metadata": {
        "id": "54szvdn6GQo9"
      }
    },
    {
      "cell_type": "code",
      "source": [
        "evaluation_metrics = AD.evaluate_aspect_detection(best_aspect_threshold)\n",
        "cm = evaluation_metrics['confusion_matrix']\n",
        "del evaluation_metrics['confusion_matrix']\n",
        "pd.DataFrame([evaluation_metrics], index=['value'])"
      ],
      "metadata": {
        "id": "Re5rbQF7Hn_d",
        "outputId": "1dfe3335-f3ff-4743-df0e-54bf76b1e16c",
        "colab": {
          "base_uri": "https://localhost:8080/",
          "height": 81
        }
      },
      "execution_count": 140,
      "outputs": [
        {
          "output_type": "execute_result",
          "data": {
            "text/plain": [
              "       accuracy  precision    recall        f1\n",
              "value  0.279894   0.307555  0.685275  0.424563"
            ],
            "text/html": [
              "\n",
              "  <div id=\"df-9b332427-953a-46a4-a3dd-bf3227d53b51\" class=\"colab-df-container\">\n",
              "    <div>\n",
              "<style scoped>\n",
              "    .dataframe tbody tr th:only-of-type {\n",
              "        vertical-align: middle;\n",
              "    }\n",
              "\n",
              "    .dataframe tbody tr th {\n",
              "        vertical-align: top;\n",
              "    }\n",
              "\n",
              "    .dataframe thead th {\n",
              "        text-align: right;\n",
              "    }\n",
              "</style>\n",
              "<table border=\"1\" class=\"dataframe\">\n",
              "  <thead>\n",
              "    <tr style=\"text-align: right;\">\n",
              "      <th></th>\n",
              "      <th>accuracy</th>\n",
              "      <th>precision</th>\n",
              "      <th>recall</th>\n",
              "      <th>f1</th>\n",
              "    </tr>\n",
              "  </thead>\n",
              "  <tbody>\n",
              "    <tr>\n",
              "      <th>value</th>\n",
              "      <td>0.279894</td>\n",
              "      <td>0.307555</td>\n",
              "      <td>0.685275</td>\n",
              "      <td>0.424563</td>\n",
              "    </tr>\n",
              "  </tbody>\n",
              "</table>\n",
              "</div>\n",
              "    <div class=\"colab-df-buttons\">\n",
              "\n",
              "  <div class=\"colab-df-container\">\n",
              "    <button class=\"colab-df-convert\" onclick=\"convertToInteractive('df-9b332427-953a-46a4-a3dd-bf3227d53b51')\"\n",
              "            title=\"Convert this dataframe to an interactive table.\"\n",
              "            style=\"display:none;\">\n",
              "\n",
              "  <svg xmlns=\"http://www.w3.org/2000/svg\" height=\"24px\" viewBox=\"0 -960 960 960\">\n",
              "    <path d=\"M120-120v-720h720v720H120Zm60-500h600v-160H180v160Zm220 220h160v-160H400v160Zm0 220h160v-160H400v160ZM180-400h160v-160H180v160Zm440 0h160v-160H620v160ZM180-180h160v-160H180v160Zm440 0h160v-160H620v160Z\"/>\n",
              "  </svg>\n",
              "    </button>\n",
              "\n",
              "  <style>\n",
              "    .colab-df-container {\n",
              "      display:flex;\n",
              "      gap: 12px;\n",
              "    }\n",
              "\n",
              "    .colab-df-convert {\n",
              "      background-color: #E8F0FE;\n",
              "      border: none;\n",
              "      border-radius: 50%;\n",
              "      cursor: pointer;\n",
              "      display: none;\n",
              "      fill: #1967D2;\n",
              "      height: 32px;\n",
              "      padding: 0 0 0 0;\n",
              "      width: 32px;\n",
              "    }\n",
              "\n",
              "    .colab-df-convert:hover {\n",
              "      background-color: #E2EBFA;\n",
              "      box-shadow: 0px 1px 2px rgba(60, 64, 67, 0.3), 0px 1px 3px 1px rgba(60, 64, 67, 0.15);\n",
              "      fill: #174EA6;\n",
              "    }\n",
              "\n",
              "    .colab-df-buttons div {\n",
              "      margin-bottom: 4px;\n",
              "    }\n",
              "\n",
              "    [theme=dark] .colab-df-convert {\n",
              "      background-color: #3B4455;\n",
              "      fill: #D2E3FC;\n",
              "    }\n",
              "\n",
              "    [theme=dark] .colab-df-convert:hover {\n",
              "      background-color: #434B5C;\n",
              "      box-shadow: 0px 1px 3px 1px rgba(0, 0, 0, 0.15);\n",
              "      filter: drop-shadow(0px 1px 2px rgba(0, 0, 0, 0.3));\n",
              "      fill: #FFFFFF;\n",
              "    }\n",
              "  </style>\n",
              "\n",
              "    <script>\n",
              "      const buttonEl =\n",
              "        document.querySelector('#df-9b332427-953a-46a4-a3dd-bf3227d53b51 button.colab-df-convert');\n",
              "      buttonEl.style.display =\n",
              "        google.colab.kernel.accessAllowed ? 'block' : 'none';\n",
              "\n",
              "      async function convertToInteractive(key) {\n",
              "        const element = document.querySelector('#df-9b332427-953a-46a4-a3dd-bf3227d53b51');\n",
              "        const dataTable =\n",
              "          await google.colab.kernel.invokeFunction('convertToInteractive',\n",
              "                                                    [key], {});\n",
              "        if (!dataTable) return;\n",
              "\n",
              "        const docLinkHtml = 'Like what you see? Visit the ' +\n",
              "          '<a target=\"_blank\" href=https://colab.research.google.com/notebooks/data_table.ipynb>data table notebook</a>'\n",
              "          + ' to learn more about interactive tables.';\n",
              "        element.innerHTML = '';\n",
              "        dataTable['output_type'] = 'display_data';\n",
              "        await google.colab.output.renderOutput(dataTable, element);\n",
              "        const docLink = document.createElement('div');\n",
              "        docLink.innerHTML = docLinkHtml;\n",
              "        element.appendChild(docLink);\n",
              "      }\n",
              "    </script>\n",
              "  </div>\n",
              "\n",
              "\n",
              "    </div>\n",
              "  </div>\n"
            ],
            "application/vnd.google.colaboratory.intrinsic+json": {
              "type": "dataframe",
              "summary": "{\n  \"name\": \"pd\",\n  \"rows\": 1,\n  \"fields\": [\n    {\n      \"column\": \"accuracy\",\n      \"properties\": {\n        \"dtype\": \"number\",\n        \"std\": null,\n        \"min\": 0.27989400463729713,\n        \"max\": 0.27989400463729713,\n        \"num_unique_values\": 1,\n        \"samples\": [\n          0.27989400463729713\n        ],\n        \"semantic_type\": \"\",\n        \"description\": \"\"\n      }\n    },\n    {\n      \"column\": \"precision\",\n      \"properties\": {\n        \"dtype\": \"number\",\n        \"std\": null,\n        \"min\": 0.30755464655503006,\n        \"max\": 0.30755464655503006,\n        \"num_unique_values\": 1,\n        \"samples\": [\n          0.30755464655503006\n        ],\n        \"semantic_type\": \"\",\n        \"description\": \"\"\n      }\n    },\n    {\n      \"column\": \"recall\",\n      \"properties\": {\n        \"dtype\": \"number\",\n        \"std\": null,\n        \"min\": 0.6852748504699516,\n        \"max\": 0.6852748504699516,\n        \"num_unique_values\": 1,\n        \"samples\": [\n          0.6852748504699516\n        ],\n        \"semantic_type\": \"\",\n        \"description\": \"\"\n      }\n    },\n    {\n      \"column\": \"f1\",\n      \"properties\": {\n        \"dtype\": \"number\",\n        \"std\": null,\n        \"min\": 0.42456326098464797,\n        \"max\": 0.42456326098464797,\n        \"num_unique_values\": 1,\n        \"samples\": [\n          0.42456326098464797\n        ],\n        \"semantic_type\": \"\",\n        \"description\": \"\"\n      }\n    }\n  ]\n}"
            }
          },
          "metadata": {},
          "execution_count": 140
        }
      ]
    },
    {
      "cell_type": "code",
      "source": [
        "visualize_confusion_matrix(cm, pred_labels=cm.columns, true_labels=cm.index)"
      ],
      "metadata": {
        "id": "EkKo4Iuj0DzE",
        "outputId": "d69a56d7-f8df-4207-b3e3-b46f1c057280",
        "colab": {
          "base_uri": "https://localhost:8080/",
          "height": 410
        }
      },
      "execution_count": 142,
      "outputs": [
        {
          "output_type": "display_data",
          "data": {
            "text/plain": [
              "<Figure size 800x400 with 2 Axes>"
            ],
            "image/png": "[encoded data removed]"
          },
          "metadata": {}
        }
      ]
    },
    {
      "cell_type": "code",
      "source": [
        "# true_aspects = train_df['aspects'].tolist()\n",
        "# candidate_aspects = [AD.get_candidates(clf, vectorized_doc=X_train[idx]) for idx in train_df.index]\n",
        "# for i in range(len(candidate_aspects)):\n",
        "#     print(i, candidate_aspects[i], true_aspects[i])"
      ],
      "metadata": {
        "id": "WjBrv8JGtxk2"
      },
      "execution_count": 99,
      "outputs": []
    },
    {
      "cell_type": "markdown",
      "source": [
        "## Association of Aspects to Text"
      ],
      "metadata": {
        "id": "aI0pkil0KTDi"
      }
    },
    {
      "cell_type": "code",
      "source": [
        "document_id = 3\n",
        "document = test_df.loc[document_id, 'document']\n",
        "test_df.iloc[document_id]"
      ],
      "metadata": {
        "id": "x2WhDAQOKpyW",
        "outputId": "94d70136-d766-45bd-9d54-bd7938a93130",
        "colab": {
          "base_uri": "https://localhost:8080/",
          "height": 210
        }
      },
      "execution_count": 143,
      "outputs": [
        {
          "output_type": "execute_result",
          "data": {
            "text/plain": [
              "document             Did I mention that the coffee is OUTSTANDING?\n",
              "aspects                                                   [coffee]\n",
              "aspect_sentiments                                       [positive]\n",
              "overall_sentiment                                         positive\n",
              "Name: 3, dtype: object"
            ],
            "text/html": [
              "<div>\n",
              "<style scoped>\n",
              "    .dataframe tbody tr th:only-of-type {\n",
              "        vertical-align: middle;\n",
              "    }\n",
              "\n",
              "    .dataframe tbody tr th {\n",
              "        vertical-align: top;\n",
              "    }\n",
              "\n",
              "    .dataframe thead th {\n",
              "        text-align: right;\n",
              "    }\n",
              "</style>\n",
              "<table border=\"1\" class=\"dataframe\">\n",
              "  <thead>\n",
              "    <tr style=\"text-align: right;\">\n",
              "      <th></th>\n",
              "      <th>3</th>\n",
              "    </tr>\n",
              "  </thead>\n",
              "  <tbody>\n",
              "    <tr>\n",
              "      <th>document</th>\n",
              "      <td>Did I mention that the coffee is OUTSTANDING?</td>\n",
              "    </tr>\n",
              "    <tr>\n",
              "      <th>aspects</th>\n",
              "      <td>[coffee]</td>\n",
              "    </tr>\n",
              "    <tr>\n",
              "      <th>aspect_sentiments</th>\n",
              "      <td>[positive]</td>\n",
              "    </tr>\n",
              "    <tr>\n",
              "      <th>overall_sentiment</th>\n",
              "      <td>positive</td>\n",
              "    </tr>\n",
              "  </tbody>\n",
              "</table>\n",
              "</div><br><label><b>dtype:</b> object</label>"
            ]
          },
          "metadata": {},
          "execution_count": 143
        }
      ]
    },
    {
      "cell_type": "code",
      "source": [
        "vectorized_doc = X_test[document_id]\n",
        "candidate_aspects = AD.get_candidates(clf, vectorized_doc, best_aspect_threshold)\n",
        "candidate_aspects"
      ],
      "metadata": {
        "id": "t6zWR4nSKqPg",
        "outputId": "fa09314b-12a5-4455-e9f4-bfebf450cf8c",
        "colab": {
          "base_uri": "https://localhost:8080/"
        }
      },
      "execution_count": 148,
      "outputs": [
        {
          "output_type": "execute_result",
          "data": {
            "text/plain": [
              "['coffee', 'i']"
            ]
          },
          "metadata": {},
          "execution_count": 148
        }
      ]
    },
    {
      "cell_type": "code",
      "source": [
        "aspect_sentence_pairs = AD.get_sentence_for_aspect(document, candidate_aspects)\n",
        "for idx, pair in enumerate(aspect_sentence_pairs):\n",
        "    for aspect, sentence in pair.items():\n",
        "        prediction = clf.predict(vec.transform([sentence]))[0]\n",
        "        print(f'Sentence: {sentence}\\nAspect: {aspect}\\nPrediction: {prediction}')\n",
        "        if idx != len(aspect_sentence_pairs) - 1: print('-' * 80)"
      ],
      "metadata": {
        "id": "hrzFTDyNKhws",
        "outputId": "1559a4f3-88b4-4993-a5d3-eefd791f44dd",
        "colab": {
          "base_uri": "https://localhost:8080/"
        }
      },
      "execution_count": 149,
      "outputs": [
        {
          "output_type": "stream",
          "name": "stdout",
          "text": [
            "Sentence: Did I mention that the coffee is OUTSTANDING?\n",
            "Aspect: coffee\n",
            "Prediction: positive\n",
            "--------------------------------------------------------------------------------\n",
            "Sentence: Did I mention that the coffee is OUTSTANDING?\n",
            "Aspect: i\n",
            "Prediction: positive\n"
          ]
        }
      ]
    },
    {
      "cell_type": "markdown",
      "source": [
        "## TODO"
      ],
      "metadata": {
        "id": "7hztE2zfLWY5"
      }
    },
    {
      "cell_type": "code",
      "source": [
        "# fix POS (use spaCy)\n",
        "# try bigrams + mutual info"
      ],
      "metadata": {
        "id": "nV0-u9IjLX7w"
      },
      "execution_count": null,
      "outputs": []
    },
    {
      "cell_type": "markdown",
      "source": [
        "## NLTK"
      ],
      "metadata": {
        "id": "2uLKdwQ242W1"
      }
    },
    {
      "cell_type": "code",
      "source": [
        "sample_text = \"I love this product! It's amazing.\""
      ],
      "metadata": {
        "id": "2bBCsynuI31d"
      },
      "execution_count": null,
      "outputs": []
    },
    {
      "cell_type": "code",
      "source": [
        "import nltk\n",
        "from nltk.sentiment import SentimentIntensityAnalyzer\n",
        "\n",
        "_ = nltk.download('vader_lexicon', quiet=True)\n",
        "sentiment_analyzer = SentimentIntensityAnalyzer()\n",
        "sentiment_analyzer.polarity_scores(sample_text)"
      ],
      "metadata": {
        "id": "wRkLeOy9443w",
        "outputId": "75891053-c748-4930-da8f-631a94aef2e2",
        "colab": {
          "base_uri": "https://localhost:8080/"
        }
      },
      "execution_count": null,
      "outputs": [
        {
          "output_type": "execute_result",
          "data": {
            "text/plain": [
              "{'neg': 0.0, 'neu': 0.266, 'pos': 0.734, 'compound': 0.8516}"
            ]
          },
          "metadata": {},
          "execution_count": 9
        }
      ]
    },
    {
      "cell_type": "markdown",
      "source": [
        "## RoBERTa"
      ],
      "metadata": {
        "id": "euGol-GQ7VPq"
      }
    },
    {
      "cell_type": "code",
      "source": [
        "sample_text = \"I love this product! It's amazing.\""
      ],
      "metadata": {
        "id": "ybbm-PaJI2NB"
      },
      "execution_count": null,
      "outputs": []
    },
    {
      "cell_type": "code",
      "source": [
        "from transformers import AutoTokenizer, AutoModelForSequenceClassification\n",
        "from scipy.special import softmax\n",
        "\n",
        "MODEL = \"cardiffnlp/twitter-roberta-base-sentiment\"\n",
        "tokenizer = AutoTokenizer.from_pretrained(MODEL)\n",
        "model = AutoModelForSequenceClassification.from_pretrained(MODEL)"
      ],
      "metadata": {
        "id": "7_3eI53s7Wza"
      },
      "execution_count": null,
      "outputs": []
    },
    {
      "cell_type": "code",
      "source": [
        "encoded_text = tokenizer(sample_text, return_tensors='pt')\n",
        "output = model(**encoded_text)[0][0]\n",
        "scores = softmax(output.detach().numpy())\n",
        "neg, neu, pos = scores\n",
        "scores"
      ],
      "metadata": {
        "id": "BBXPITiR8ArE",
        "outputId": "32b5cd20-623a-434b-c846-f2589ddf50c7",
        "colab": {
          "base_uri": "https://localhost:8080/"
        }
      },
      "execution_count": null,
      "outputs": [
        {
          "output_type": "execute_result",
          "data": {
            "text/plain": [
              "array([0.00212159, 0.00545376, 0.9924246 ], dtype=float32)"
            ]
          },
          "metadata": {},
          "execution_count": 23
        }
      ]
    },
    {
      "cell_type": "markdown",
      "source": [
        "## References"
      ],
      "metadata": {
        "id": "eQx9Kn8BTGZi"
      }
    },
    {
      "cell_type": "markdown",
      "source": [
        "- Emanuele Guidotti and Alfio Ferrara. Text Classification with Born’s Rule. Advances in Neural Information\n",
        "Processing Systems, 2022.\n",
        "- Schouten, K., & Frasincar, F. (2015). Survey on aspect-level sentiment analysis. IEEE Transactions on\n",
        "Knowledge and Data Engineering, 28(3), 813-830. [link](https://ieeexplore.ieee.org/document/7286808)\n",
        "- Rana, T. A., & Cheah, Y. N. (2016). Aspect extraction in sentiment analysis: comparative analysis and survey.\n",
        "Artificial Intelligence Review, 46(4), 459-483. [link](https://link.springer.com/article/10.1007/s10462-016-9472-z)"
      ],
      "metadata": {
        "id": "ZDvBhAteTGXN"
      }
    }
  ]
}