{
  "nbformat": 4,
  "nbformat_minor": 0,
  "metadata": {
    "colab": {
      "provenance": [],
      "include_colab_link": true
    },
    "kernelspec": {
      "name": "python3",
      "display_name": "Python 3"
    },
    "language_info": {
      "name": "python"
    }
  },
  "cells": [
    {
      "cell_type": "markdown",
      "metadata": {
        "id": "view-in-github",
        "colab_type": "text"
      },
      "source": [
        "<a href=\"https://colab.research.google.com/github/tabaraei/aspect-based-sentiment-analysis/blob/main/ABSA.ipynb\" target=\"_parent\"><img src=\"https://colab.research.google.com/assets/colab-badge.svg\" alt=\"Open In Colab\"/></a>"
      ]
    },
    {
      "cell_type": "markdown",
      "source": [
        "Use Born and explanations provided to understand why the opinion is positive or negative, and at the end compare it with pre-trained model."
      ],
      "metadata": {
        "id": "whEd2Tw255P4"
      }
    },
    {
      "cell_type": "markdown",
      "source": [
        "[Born Classifier](https://bornrule.eguidotti.com) is a text classification algorithm inspired by the notion of superposition of states in quantum\n",
        "physics. Born provides good classification performance, explainability, and computational efficiency. In this\n",
        "project, the goal is to exploit the Born explanation in order to use it for Aspect Based Sentiment Analysis. In\n",
        "particular, the main idea to to proceed as follows:\n",
        "1. Perform a sentiment analysis classification of documents using Born ✅\n",
        "2. Extract the explanation features for each pair of documents and predicted labels ✅\n",
        "3. Analyze the explanatory features in order to group them in candidate aspects ✅\n",
        "- 3.1. Find the best threshold for aspects ✅\n",
        "- 3.2. Evaluate the aspects with the best threshold ✅\n",
        "4. Associate each aspect to a specific sentence or portion of the text\n",
        "- 4.1. Find TP aspects\n",
        "- 4.2. Find their associate sentiment using index of `Aspects` in` Aspect_Sentiments`\n",
        "- 4.3. Get the sentence of each candidate aspect, and predict their sentiment\n",
        "- 4.4. Evaluate\n",
        "5. Predict the sentiment for the sentence or text portion using the trained Born classifier\n",
        "6. Associate then a (potentially different) sentiment to each sentence or text portion according to the aspect\n",
        "7. Finally, evaluate the quality of the results for each aspect.\n",
        "\n",
        "\n",
        "\n",
        "TODO:\n",
        "- add EDA visualizations\n",
        "- add explanations\n",
        "- finalize the sections of notebook\n",
        "- ToC\n",
        "\n"
      ],
      "metadata": {
        "id": "5h3whMphSrR0"
      }
    },
    {
      "cell_type": "markdown",
      "source": [
        "## Libraries and Modules"
      ],
      "metadata": {
        "id": "L5UmzngdQGmH"
      }
    },
    {
      "cell_type": "code",
      "source": [
        "%%capture\n",
        "!python -m spacy download en_core_web_lg\n",
        "!pip install datasets\n",
        "!pip install bornrule\n",
        "\n",
        "from google.colab import drive\n",
        "from datasets import load_dataset\n",
        "import kagglehub\n",
        "import os\n",
        "import warnings\n",
        "import joblib\n",
        "import re\n",
        "import string\n",
        "\n",
        "import numpy as np\n",
        "import pandas as pd\n",
        "from IPython.display import display\n",
        "import matplotlib.pyplot as plt\n",
        "import seaborn as sns\n",
        "from tqdm.notebook import tqdm\n",
        "\n",
        "from sklearn.model_selection import train_test_split\n",
        "from sklearn.feature_extraction.text import CountVectorizer\n",
        "from sklearn.metrics import classification_report, confusion_matrix, ConfusionMatrixDisplay\n",
        "\n",
        "import nltk\n",
        "from nltk.tokenize import word_tokenize\n",
        "from nltk.sentiment import SentimentIntensityAnalyzer\n",
        "\n",
        "import spacy\n",
        "from bornrule import BornClassifier\n",
        "from transformers import AutoTokenizer, AutoModelForSequenceClassification\n",
        "from scipy.special import softmax\n",
        "\n",
        "\n",
        "drive.mount('/content/drive')\n",
        "tqdm.pandas()\n",
        "warnings.filterwarnings('ignore')\n",
        "SAVE_DRIVE_PATH = '/content/drive/MyDrive/Data/ABSA'\n",
        "\n",
        "nlp = spacy.load('en_core_web_lg')\n",
        "nltk.download('vader_lexicon', quiet=True)\n",
        "nltk.download('punkt_tab')"
      ],
      "metadata": {
        "id": "uEPVLCbQBrgy"
      },
      "execution_count": 49,
      "outputs": []
    },
    {
      "cell_type": "code",
      "source": [
        "class Visualization:\n",
        "    def confusion_matrix(self, cm, pred_labels, true_labels):\n",
        "        plt.figure(figsize=(8, 4))\n",
        "        ax = sns.heatmap(cm, annot=True, fmt='d', cmap='crest', xticklabels=pred_labels, yticklabels=true_labels)\n",
        "        ax.set(xlabel='Predicted Labels', ylabel='True Labels', title='Confusion Matrix')\n",
        "\n",
        "    def aspect_detection_evaluation(self, df, best_aspect_threshold):\n",
        "        plt.figure(figsize=(10, 6))\n",
        "        ax = sns.lineplot(data=df, x='Threshold', y='Value', hue='Metric', marker='', palette='Set2')\n",
        "        ax.set_ylim(0, 1)\n",
        "        ax.set(xlabel='Threshold', ylabel='Metric Value', title='Evaluation Metrics vs Thresholds')\n",
        "        plt.axvline(x=best_aspect_threshold, color='grey', linestyle='--')\n",
        "\n",
        "visualize = Visualization()"
      ],
      "metadata": {
        "id": "ioI0hDbSw_lM"
      },
      "execution_count": 20,
      "outputs": []
    },
    {
      "cell_type": "markdown",
      "source": [
        "## Datasets"
      ],
      "metadata": {
        "id": "RxfiVaoXfVR8"
      }
    },
    {
      "cell_type": "markdown",
      "source": [
        "### Amazon Reviews Dataset (Sentiment Analysis)"
      ],
      "metadata": {
        "id": "idVInPXZJU_J"
      }
    },
    {
      "cell_type": "code",
      "source": [
        "class AmazonReviewsDataset:\n",
        "    def __init__(self):\n",
        "        self.KAGGLE_DATASET_PATH = 'snap/amazon-fine-food-reviews'\n",
        "        self.create_dataset()\n",
        "        self.class_labels = sorted(self.dataset['Sentiment'].unique())\n",
        "\n",
        "    def map_score_to_sentiment(self, score):\n",
        "        if score < 3: return 'negative'\n",
        "        elif score == 3: return 'neutral'\n",
        "        elif score > 3: return 'positive'\n",
        "\n",
        "    def create_dataset(self):\n",
        "        # Define the dataset path in Kaggle and current directory\n",
        "        kaggle_path = kagglehub.dataset_download(self.KAGGLE_DATASET_PATH)\n",
        "        path = os.path.join(kaggle_path, 'Reviews.csv')\n",
        "\n",
        "        # Load and transform the dataset\n",
        "        self.dataset = pd.read_csv(path)\n",
        "        self.dataset['Sentiment'] = self.dataset['Score'].apply(self.map_score_to_sentiment)\n",
        "        self.dataset = self.dataset.rename(columns={'Text': 'Document'})[['Document', 'Sentiment']]\n",
        "\n",
        "        # Prepare the train/test splits\n",
        "        self.train_df, self.test_df = \\\n",
        "            train_test_split(self.dataset, test_size=0.2, random_state=42, stratify=self.dataset['Sentiment'])\n",
        "        self.train_df = self.train_df.reset_index(drop=True)\n",
        "        self.test_df = self.test_df.reset_index(drop=True)"
      ],
      "metadata": {
        "id": "_ZEW2_Gb63h2"
      },
      "execution_count": 25,
      "outputs": []
    },
    {
      "cell_type": "code",
      "source": [
        "amazon = AmazonReviewsDataset()\n",
        "amazon.dataset.head()"
      ],
      "metadata": {
        "id": "nXR59HTjGcOi",
        "outputId": "b48d0d08-8860-479d-d91a-8d3790e59a1b",
        "colab": {
          "base_uri": "https://localhost:8080/",
          "height": 0
        }
      },
      "execution_count": 26,
      "outputs": [
        {
          "output_type": "execute_result",
          "data": {
            "text/plain": [
              "                                            Document Sentiment\n",
              "0  I have bought several of the Vitality canned d...  positive\n",
              "1  Product arrived labeled as Jumbo Salted Peanut...  negative\n",
              "2  This is a confection that has been around a fe...  positive\n",
              "3  If you are looking for the secret ingredient i...  negative\n",
              "4  Great taffy at a great price.  There was a wid...  positive"
            ],
            "text/html": [
              "\n",
              "  <div id=\"df-1382ac22-7952-4c18-b2f3-eef6a2f99d71\" class=\"colab-df-container\">\n",
              "    <div>\n",
              "<style scoped>\n",
              "    .dataframe tbody tr th:only-of-type {\n",
              "        vertical-align: middle;\n",
              "    }\n",
              "\n",
              "    .dataframe tbody tr th {\n",
              "        vertical-align: top;\n",
              "    }\n",
              "\n",
              "    .dataframe thead th {\n",
              "        text-align: right;\n",
              "    }\n",
              "</style>\n",
              "<table border=\"1\" class=\"dataframe\">\n",
              "  <thead>\n",
              "    <tr style=\"text-align: right;\">\n",
              "      <th></th>\n",
              "      <th>Document</th>\n",
              "      <th>Sentiment</th>\n",
              "    </tr>\n",
              "  </thead>\n",
              "  <tbody>\n",
              "    <tr>\n",
              "      <th>0</th>\n",
              "      <td>I have bought several of the Vitality canned d...</td>\n",
              "      <td>positive</td>\n",
              "    </tr>\n",
              "    <tr>\n",
              "      <th>1</th>\n",
              "      <td>Product arrived labeled as Jumbo Salted Peanut...</td>\n",
              "      <td>negative</td>\n",
              "    </tr>\n",
              "    <tr>\n",
              "      <th>2</th>\n",
              "      <td>This is a confection that has been around a fe...</td>\n",
              "      <td>positive</td>\n",
              "    </tr>\n",
              "    <tr>\n",
              "      <th>3</th>\n",
              "      <td>If you are looking for the secret ingredient i...</td>\n",
              "      <td>negative</td>\n",
              "    </tr>\n",
              "    <tr>\n",
              "      <th>4</th>\n",
              "      <td>Great taffy at a great price.  There was a wid...</td>\n",
              "      <td>positive</td>\n",
              "    </tr>\n",
              "  </tbody>\n",
              "</table>\n",
              "</div>\n",
              "    <div class=\"colab-df-buttons\">\n",
              "\n",
              "  <div class=\"colab-df-container\">\n",
              "    <button class=\"colab-df-convert\" onclick=\"convertToInteractive('df-1382ac22-7952-4c18-b2f3-eef6a2f99d71')\"\n",
              "            title=\"Convert this dataframe to an interactive table.\"\n",
              "            style=\"display:none;\">\n",
              "\n",
              "  <svg xmlns=\"http://www.w3.org/2000/svg\" height=\"24px\" viewBox=\"0 -960 960 960\">\n",
              "    <path d=\"M120-120v-720h720v720H120Zm60-500h600v-160H180v160Zm220 220h160v-160H400v160Zm0 220h160v-160H400v160ZM180-400h160v-160H180v160Zm440 0h160v-160H620v160ZM180-180h160v-160H180v160Zm440 0h160v-160H620v160Z\"/>\n",
              "  </svg>\n",
              "    </button>\n",
              "\n",
              "  <style>\n",
              "    .colab-df-container {\n",
              "      display:flex;\n",
              "      gap: 12px;\n",
              "    }\n",
              "\n",
              "    .colab-df-convert {\n",
              "      background-color: #E8F0FE;\n",
              "      border: none;\n",
              "      border-radius: 50%;\n",
              "      cursor: pointer;\n",
              "      display: none;\n",
              "      fill: #1967D2;\n",
              "      height: 32px;\n",
              "      padding: 0 0 0 0;\n",
              "      width: 32px;\n",
              "    }\n",
              "\n",
              "    .colab-df-convert:hover {\n",
              "      background-color: #E2EBFA;\n",
              "      box-shadow: 0px 1px 2px rgba(60, 64, 67, 0.3), 0px 1px 3px 1px rgba(60, 64, 67, 0.15);\n",
              "      fill: #174EA6;\n",
              "    }\n",
              "\n",
              "    .colab-df-buttons div {\n",
              "      margin-bottom: 4px;\n",
              "    }\n",
              "\n",
              "    [theme=dark] .colab-df-convert {\n",
              "      background-color: #3B4455;\n",
              "      fill: #D2E3FC;\n",
              "    }\n",
              "\n",
              "    [theme=dark] .colab-df-convert:hover {\n",
              "      background-color: #434B5C;\n",
              "      box-shadow: 0px 1px 3px 1px rgba(0, 0, 0, 0.15);\n",
              "      filter: drop-shadow(0px 1px 2px rgba(0, 0, 0, 0.3));\n",
              "      fill: #FFFFFF;\n",
              "    }\n",
              "  </style>\n",
              "\n",
              "    <script>\n",
              "      const buttonEl =\n",
              "        document.querySelector('#df-1382ac22-7952-4c18-b2f3-eef6a2f99d71 button.colab-df-convert');\n",
              "      buttonEl.style.display =\n",
              "        google.colab.kernel.accessAllowed ? 'block' : 'none';\n",
              "\n",
              "      async function convertToInteractive(key) {\n",
              "        const element = document.querySelector('#df-1382ac22-7952-4c18-b2f3-eef6a2f99d71');\n",
              "        const dataTable =\n",
              "          await google.colab.kernel.invokeFunction('convertToInteractive',\n",
              "                                                    [key], {});\n",
              "        if (!dataTable) return;\n",
              "\n",
              "        const docLinkHtml = 'Like what you see? Visit the ' +\n",
              "          '<a target=\"_blank\" href=https://colab.research.google.com/notebooks/data_table.ipynb>data table notebook</a>'\n",
              "          + ' to learn more about interactive tables.';\n",
              "        element.innerHTML = '';\n",
              "        dataTable['output_type'] = 'display_data';\n",
              "        await google.colab.output.renderOutput(dataTable, element);\n",
              "        const docLink = document.createElement('div');\n",
              "        docLink.innerHTML = docLinkHtml;\n",
              "        element.appendChild(docLink);\n",
              "      }\n",
              "    </script>\n",
              "  </div>\n",
              "\n",
              "\n",
              "<div id=\"df-83b523a8-7e15-4c49-94b0-55cebc6542c5\">\n",
              "  <button class=\"colab-df-quickchart\" onclick=\"quickchart('df-83b523a8-7e15-4c49-94b0-55cebc6542c5')\"\n",
              "            title=\"Suggest charts\"\n",
              "            style=\"display:none;\">\n",
              "\n",
              "<svg xmlns=\"http://www.w3.org/2000/svg\" height=\"24px\"viewBox=\"0 0 24 24\"\n",
              "     width=\"24px\">\n",
              "    <g>\n",
              "        <path d=\"M19 3H5c-1.1 0-2 .9-2 2v14c0 1.1.9 2 2 2h14c1.1 0 2-.9 2-2V5c0-1.1-.9-2-2-2zM9 17H7v-7h2v7zm4 0h-2V7h2v10zm4 0h-2v-4h2v4z\"/>\n",
              "    </g>\n",
              "</svg>\n",
              "  </button>\n",
              "\n",
              "<style>\n",
              "  .colab-df-quickchart {\n",
              "      --bg-color: #E8F0FE;\n",
              "      --fill-color: #1967D2;\n",
              "      --hover-bg-color: #E2EBFA;\n",
              "      --hover-fill-color: #174EA6;\n",
              "      --disabled-fill-color: #AAA;\n",
              "      --disabled-bg-color: #DDD;\n",
              "  }\n",
              "\n",
              "  [theme=dark] .colab-df-quickchart {\n",
              "      --bg-color: #3B4455;\n",
              "      --fill-color: #D2E3FC;\n",
              "      --hover-bg-color: #434B5C;\n",
              "      --hover-fill-color: #FFFFFF;\n",
              "      --disabled-bg-color: #3B4455;\n",
              "      --disabled-fill-color: #666;\n",
              "  }\n",
              "\n",
              "  .colab-df-quickchart {\n",
              "    background-color: var(--bg-color);\n",
              "    border: none;\n",
              "    border-radius: 50%;\n",
              "    cursor: pointer;\n",
              "    display: none;\n",
              "    fill: var(--fill-color);\n",
              "    height: 32px;\n",
              "    padding: 0;\n",
              "    width: 32px;\n",
              "  }\n",
              "\n",
              "  .colab-df-quickchart:hover {\n",
              "    background-color: var(--hover-bg-color);\n",
              "    box-shadow: 0 1px 2px rgba(60, 64, 67, 0.3), 0 1px 3px 1px rgba(60, 64, 67, 0.15);\n",
              "    fill: var(--button-hover-fill-color);\n",
              "  }\n",
              "\n",
              "  .colab-df-quickchart-complete:disabled,\n",
              "  .colab-df-quickchart-complete:disabled:hover {\n",
              "    background-color: var(--disabled-bg-color);\n",
              "    fill: var(--disabled-fill-color);\n",
              "    box-shadow: none;\n",
              "  }\n",
              "\n",
              "  .colab-df-spinner {\n",
              "    border: 2px solid var(--fill-color);\n",
              "    border-color: transparent;\n",
              "    border-bottom-color: var(--fill-color);\n",
              "    animation:\n",
              "      spin 1s steps(1) infinite;\n",
              "  }\n",
              "\n",
              "  @keyframes spin {\n",
              "    0% {\n",
              "      border-color: transparent;\n",
              "      border-bottom-color: var(--fill-color);\n",
              "      border-left-color: var(--fill-color);\n",
              "    }\n",
              "    20% {\n",
              "      border-color: transparent;\n",
              "      border-left-color: var(--fill-color);\n",
              "      border-top-color: var(--fill-color);\n",
              "    }\n",
              "    30% {\n",
              "      border-color: transparent;\n",
              "      border-left-color: var(--fill-color);\n",
              "      border-top-color: var(--fill-color);\n",
              "      border-right-color: var(--fill-color);\n",
              "    }\n",
              "    40% {\n",
              "      border-color: transparent;\n",
              "      border-right-color: var(--fill-color);\n",
              "      border-top-color: var(--fill-color);\n",
              "    }\n",
              "    60% {\n",
              "      border-color: transparent;\n",
              "      border-right-color: var(--fill-color);\n",
              "    }\n",
              "    80% {\n",
              "      border-color: transparent;\n",
              "      border-right-color: var(--fill-color);\n",
              "      border-bottom-color: var(--fill-color);\n",
              "    }\n",
              "    90% {\n",
              "      border-color: transparent;\n",
              "      border-bottom-color: var(--fill-color);\n",
              "    }\n",
              "  }\n",
              "</style>\n",
              "\n",
              "  <script>\n",
              "    async function quickchart(key) {\n",
              "      const quickchartButtonEl =\n",
              "        document.querySelector('#' + key + ' button');\n",
              "      quickchartButtonEl.disabled = true;  // To prevent multiple clicks.\n",
              "      quickchartButtonEl.classList.add('colab-df-spinner');\n",
              "      try {\n",
              "        const charts = await google.colab.kernel.invokeFunction(\n",
              "            'suggestCharts', [key], {});\n",
              "      } catch (error) {\n",
              "        console.error('Error during call to suggestCharts:', error);\n",
              "      }\n",
              "      quickchartButtonEl.classList.remove('colab-df-spinner');\n",
              "      quickchartButtonEl.classList.add('colab-df-quickchart-complete');\n",
              "    }\n",
              "    (() => {\n",
              "      let quickchartButtonEl =\n",
              "        document.querySelector('#df-83b523a8-7e15-4c49-94b0-55cebc6542c5 button');\n",
              "      quickchartButtonEl.style.display =\n",
              "        google.colab.kernel.accessAllowed ? 'block' : 'none';\n",
              "    })();\n",
              "  </script>\n",
              "</div>\n",
              "\n",
              "    </div>\n",
              "  </div>\n"
            ],
            "application/vnd.google.colaboratory.intrinsic+json": {
              "type": "dataframe",
              "summary": "{\n  \"name\": \"amazon\",\n  \"rows\": 5,\n  \"fields\": [\n    {\n      \"column\": \"Document\",\n      \"properties\": {\n        \"dtype\": \"string\",\n        \"num_unique_values\": 5,\n        \"samples\": [\n          \"Product arrived labeled as Jumbo Salted Peanuts...the peanuts were actually small sized unsalted. Not sure if this was an error or if the vendor intended to represent the product as \\\"Jumbo\\\".\",\n          \"Great taffy at a great price.  There was a wide assortment of yummy taffy.  Delivery was very quick.  If your a taffy lover, this is a deal.\",\n          \"This is a confection that has been around a few centuries.  It is a light, pillowy citrus gelatin with nuts - in this case Filberts. And it is cut into tiny squares and then liberally coated with powdered sugar.  And it is a tiny mouthful of heaven.  Not too chewy, and very flavorful.  I highly recommend this yummy treat.  If you are familiar with the story of C.S. Lewis' \\\"The Lion, The Witch, and The Wardrobe\\\" - this is the treat that seduces Edmund into selling out his Brother and Sisters to the Witch.\"\n        ],\n        \"semantic_type\": \"\",\n        \"description\": \"\"\n      }\n    },\n    {\n      \"column\": \"Sentiment\",\n      \"properties\": {\n        \"dtype\": \"category\",\n        \"num_unique_values\": 2,\n        \"samples\": [\n          \"negative\",\n          \"positive\"\n        ],\n        \"semantic_type\": \"\",\n        \"description\": \"\"\n      }\n    }\n  ]\n}"
            }
          },
          "metadata": {},
          "execution_count": 26
        }
      ]
    },
    {
      "cell_type": "markdown",
      "source": [
        "### SemEval2014 Dataset (Aspect-based Sentiment Analysis)"
      ],
      "metadata": {
        "id": "5cus_FyWS4pz"
      }
    },
    {
      "cell_type": "markdown",
      "source": [
        "Any dataset supporting ABSA. See for example [here](https://paperswithcode.com/datasets?task=aspect-based-sentiment-analysis&page=1)."
      ],
      "metadata": {
        "id": "BYc65dwHS23S"
      }
    },
    {
      "cell_type": "code",
      "source": [
        "class SemEval2014Dataset:\n",
        "    def __init__(self, task='restaurants'):\n",
        "        # Load the \"restaurants\" or \"laptops\" datasets from SemEval2014 in HuggingFace\n",
        "        self.HUGGING_FACE_DATASET_PATH = 'alexcadillon/SemEval2014Task4'\n",
        "        self.task = task\n",
        "        self.create_dataset()\n",
        "        self.class_labels = sorted(self.dataset['Sentiment'].unique())\n",
        "\n",
        "    def compute_overall_sentiment(self, aspect_sentiments):\n",
        "        pos_count = aspect_sentiments.count('positive')\n",
        "        neg_count = aspect_sentiments.count('negative')\n",
        "\n",
        "        if pos_count > neg_count:\n",
        "            return 'positive'\n",
        "        elif neg_count > pos_count:\n",
        "            return 'negative'\n",
        "        else:\n",
        "            return 'neutral'\n",
        "\n",
        "    def transform_dataset(self, df):\n",
        "        data = []\n",
        "        for entry in df:\n",
        "            document = entry['text']\n",
        "            aspects = [aspect['term'] for aspect in entry['aspectTerms']]\n",
        "            aspect_sentiments = [aspect['polarity'] for aspect in entry['aspectTerms']]\n",
        "            overall_sentiment = self.compute_overall_sentiment(aspect_sentiments)\n",
        "            data.append({\n",
        "                'Document': document,\n",
        "                'Aspects': aspects,\n",
        "                'Aspect_Sentiments': aspect_sentiments,\n",
        "                'Sentiment': overall_sentiment\n",
        "            })\n",
        "        return pd.DataFrame(data)\n",
        "\n",
        "    def create_dataset(self):\n",
        "        dataset = load_dataset(self.HUGGING_FACE_DATASET_PATH, self.task)\n",
        "        self.train_df = self.transform_dataset(dataset['train'])\n",
        "        self.test_df = self.transform_dataset(dataset['test'])\n",
        "        self.dataset = pd.concat([self.train_df, self.test_df], ignore_index=True)"
      ],
      "metadata": {
        "id": "J6EpLY8GJ-UF"
      },
      "execution_count": 27,
      "outputs": []
    },
    {
      "cell_type": "code",
      "source": [
        "semeval = SemEval2014Dataset(task='restaurants')\n",
        "semeval.dataset.head()"
      ],
      "metadata": {
        "id": "KVwawd1_Onyw",
        "outputId": "08168ae3-a5ec-4306-878e-9e93be437508",
        "colab": {
          "base_uri": "https://localhost:8080/",
          "height": 0
        }
      },
      "execution_count": 28,
      "outputs": [
        {
          "output_type": "execute_result",
          "data": {
            "text/plain": [
              "                                            Document                Aspects  \\\n",
              "0               But the staff was so horrible to us.                [staff]   \n",
              "1  To be completely fair, the only redeeming fact...                 [food]   \n",
              "2  The food is uniformly exceptional, with a very...  [food, kitchen, menu]   \n",
              "3  Where Gabriela personaly greets you and recomm...                     []   \n",
              "4  For those that go once and don't enjoy it, all...                     []   \n",
              "\n",
              "               Aspect_Sentiments Sentiment  \n",
              "0                     [negative]  negative  \n",
              "1                     [positive]  positive  \n",
              "2  [positive, positive, neutral]  positive  \n",
              "3                             []   neutral  \n",
              "4                             []   neutral  "
            ],
            "text/html": [
              "\n",
              "  <div id=\"df-c069b20e-58fc-4385-a6ff-54a0111f4511\" class=\"colab-df-container\">\n",
              "    <div>\n",
              "<style scoped>\n",
              "    .dataframe tbody tr th:only-of-type {\n",
              "        vertical-align: middle;\n",
              "    }\n",
              "\n",
              "    .dataframe tbody tr th {\n",
              "        vertical-align: top;\n",
              "    }\n",
              "\n",
              "    .dataframe thead th {\n",
              "        text-align: right;\n",
              "    }\n",
              "</style>\n",
              "<table border=\"1\" class=\"dataframe\">\n",
              "  <thead>\n",
              "    <tr style=\"text-align: right;\">\n",
              "      <th></th>\n",
              "      <th>Document</th>\n",
              "      <th>Aspects</th>\n",
              "      <th>Aspect_Sentiments</th>\n",
              "      <th>Sentiment</th>\n",
              "    </tr>\n",
              "  </thead>\n",
              "  <tbody>\n",
              "    <tr>\n",
              "      <th>0</th>\n",
              "      <td>But the staff was so horrible to us.</td>\n",
              "      <td>[staff]</td>\n",
              "      <td>[negative]</td>\n",
              "      <td>negative</td>\n",
              "    </tr>\n",
              "    <tr>\n",
              "      <th>1</th>\n",
              "      <td>To be completely fair, the only redeeming fact...</td>\n",
              "      <td>[food]</td>\n",
              "      <td>[positive]</td>\n",
              "      <td>positive</td>\n",
              "    </tr>\n",
              "    <tr>\n",
              "      <th>2</th>\n",
              "      <td>The food is uniformly exceptional, with a very...</td>\n",
              "      <td>[food, kitchen, menu]</td>\n",
              "      <td>[positive, positive, neutral]</td>\n",
              "      <td>positive</td>\n",
              "    </tr>\n",
              "    <tr>\n",
              "      <th>3</th>\n",
              "      <td>Where Gabriela personaly greets you and recomm...</td>\n",
              "      <td>[]</td>\n",
              "      <td>[]</td>\n",
              "      <td>neutral</td>\n",
              "    </tr>\n",
              "    <tr>\n",
              "      <th>4</th>\n",
              "      <td>For those that go once and don't enjoy it, all...</td>\n",
              "      <td>[]</td>\n",
              "      <td>[]</td>\n",
              "      <td>neutral</td>\n",
              "    </tr>\n",
              "  </tbody>\n",
              "</table>\n",
              "</div>\n",
              "    <div class=\"colab-df-buttons\">\n",
              "\n",
              "  <div class=\"colab-df-container\">\n",
              "    <button class=\"colab-df-convert\" onclick=\"convertToInteractive('df-c069b20e-58fc-4385-a6ff-54a0111f4511')\"\n",
              "            title=\"Convert this dataframe to an interactive table.\"\n",
              "            style=\"display:none;\">\n",
              "\n",
              "  <svg xmlns=\"http://www.w3.org/2000/svg\" height=\"24px\" viewBox=\"0 -960 960 960\">\n",
              "    <path d=\"M120-120v-720h720v720H120Zm60-500h600v-160H180v160Zm220 220h160v-160H400v160Zm0 220h160v-160H400v160ZM180-400h160v-160H180v160Zm440 0h160v-160H620v160ZM180-180h160v-160H180v160Zm440 0h160v-160H620v160Z\"/>\n",
              "  </svg>\n",
              "    </button>\n",
              "\n",
              "  <style>\n",
              "    .colab-df-container {\n",
              "      display:flex;\n",
              "      gap: 12px;\n",
              "    }\n",
              "\n",
              "    .colab-df-convert {\n",
              "      background-color: #E8F0FE;\n",
              "      border: none;\n",
              "      border-radius: 50%;\n",
              "      cursor: pointer;\n",
              "      display: none;\n",
              "      fill: #1967D2;\n",
              "      height: 32px;\n",
              "      padding: 0 0 0 0;\n",
              "      width: 32px;\n",
              "    }\n",
              "\n",
              "    .colab-df-convert:hover {\n",
              "      background-color: #E2EBFA;\n",
              "      box-shadow: 0px 1px 2px rgba(60, 64, 67, 0.3), 0px 1px 3px 1px rgba(60, 64, 67, 0.15);\n",
              "      fill: #174EA6;\n",
              "    }\n",
              "\n",
              "    .colab-df-buttons div {\n",
              "      margin-bottom: 4px;\n",
              "    }\n",
              "\n",
              "    [theme=dark] .colab-df-convert {\n",
              "      background-color: #3B4455;\n",
              "      fill: #D2E3FC;\n",
              "    }\n",
              "\n",
              "    [theme=dark] .colab-df-convert:hover {\n",
              "      background-color: #434B5C;\n",
              "      box-shadow: 0px 1px 3px 1px rgba(0, 0, 0, 0.15);\n",
              "      filter: drop-shadow(0px 1px 2px rgba(0, 0, 0, 0.3));\n",
              "      fill: #FFFFFF;\n",
              "    }\n",
              "  </style>\n",
              "\n",
              "    <script>\n",
              "      const buttonEl =\n",
              "        document.querySelector('#df-c069b20e-58fc-4385-a6ff-54a0111f4511 button.colab-df-convert');\n",
              "      buttonEl.style.display =\n",
              "        google.colab.kernel.accessAllowed ? 'block' : 'none';\n",
              "\n",
              "      async function convertToInteractive(key) {\n",
              "        const element = document.querySelector('#df-c069b20e-58fc-4385-a6ff-54a0111f4511');\n",
              "        const dataTable =\n",
              "          await google.colab.kernel.invokeFunction('convertToInteractive',\n",
              "                                                    [key], {});\n",
              "        if (!dataTable) return;\n",
              "\n",
              "        const docLinkHtml = 'Like what you see? Visit the ' +\n",
              "          '<a target=\"_blank\" href=https://colab.research.google.com/notebooks/data_table.ipynb>data table notebook</a>'\n",
              "          + ' to learn more about interactive tables.';\n",
              "        element.innerHTML = '';\n",
              "        dataTable['output_type'] = 'display_data';\n",
              "        await google.colab.output.renderOutput(dataTable, element);\n",
              "        const docLink = document.createElement('div');\n",
              "        docLink.innerHTML = docLinkHtml;\n",
              "        element.appendChild(docLink);\n",
              "      }\n",
              "    </script>\n",
              "  </div>\n",
              "\n",
              "\n",
              "<div id=\"df-6601959e-522c-4db8-bf85-9322e47cea80\">\n",
              "  <button class=\"colab-df-quickchart\" onclick=\"quickchart('df-6601959e-522c-4db8-bf85-9322e47cea80')\"\n",
              "            title=\"Suggest charts\"\n",
              "            style=\"display:none;\">\n",
              "\n",
              "<svg xmlns=\"http://www.w3.org/2000/svg\" height=\"24px\"viewBox=\"0 0 24 24\"\n",
              "     width=\"24px\">\n",
              "    <g>\n",
              "        <path d=\"M19 3H5c-1.1 0-2 .9-2 2v14c0 1.1.9 2 2 2h14c1.1 0 2-.9 2-2V5c0-1.1-.9-2-2-2zM9 17H7v-7h2v7zm4 0h-2V7h2v10zm4 0h-2v-4h2v4z\"/>\n",
              "    </g>\n",
              "</svg>\n",
              "  </button>\n",
              "\n",
              "<style>\n",
              "  .colab-df-quickchart {\n",
              "      --bg-color: #E8F0FE;\n",
              "      --fill-color: #1967D2;\n",
              "      --hover-bg-color: #E2EBFA;\n",
              "      --hover-fill-color: #174EA6;\n",
              "      --disabled-fill-color: #AAA;\n",
              "      --disabled-bg-color: #DDD;\n",
              "  }\n",
              "\n",
              "  [theme=dark] .colab-df-quickchart {\n",
              "      --bg-color: #3B4455;\n",
              "      --fill-color: #D2E3FC;\n",
              "      --hover-bg-color: #434B5C;\n",
              "      --hover-fill-color: #FFFFFF;\n",
              "      --disabled-bg-color: #3B4455;\n",
              "      --disabled-fill-color: #666;\n",
              "  }\n",
              "\n",
              "  .colab-df-quickchart {\n",
              "    background-color: var(--bg-color);\n",
              "    border: none;\n",
              "    border-radius: 50%;\n",
              "    cursor: pointer;\n",
              "    display: none;\n",
              "    fill: var(--fill-color);\n",
              "    height: 32px;\n",
              "    padding: 0;\n",
              "    width: 32px;\n",
              "  }\n",
              "\n",
              "  .colab-df-quickchart:hover {\n",
              "    background-color: var(--hover-bg-color);\n",
              "    box-shadow: 0 1px 2px rgba(60, 64, 67, 0.3), 0 1px 3px 1px rgba(60, 64, 67, 0.15);\n",
              "    fill: var(--button-hover-fill-color);\n",
              "  }\n",
              "\n",
              "  .colab-df-quickchart-complete:disabled,\n",
              "  .colab-df-quickchart-complete:disabled:hover {\n",
              "    background-color: var(--disabled-bg-color);\n",
              "    fill: var(--disabled-fill-color);\n",
              "    box-shadow: none;\n",
              "  }\n",
              "\n",
              "  .colab-df-spinner {\n",
              "    border: 2px solid var(--fill-color);\n",
              "    border-color: transparent;\n",
              "    border-bottom-color: var(--fill-color);\n",
              "    animation:\n",
              "      spin 1s steps(1) infinite;\n",
              "  }\n",
              "\n",
              "  @keyframes spin {\n",
              "    0% {\n",
              "      border-color: transparent;\n",
              "      border-bottom-color: var(--fill-color);\n",
              "      border-left-color: var(--fill-color);\n",
              "    }\n",
              "    20% {\n",
              "      border-color: transparent;\n",
              "      border-left-color: var(--fill-color);\n",
              "      border-top-color: var(--fill-color);\n",
              "    }\n",
              "    30% {\n",
              "      border-color: transparent;\n",
              "      border-left-color: var(--fill-color);\n",
              "      border-top-color: var(--fill-color);\n",
              "      border-right-color: var(--fill-color);\n",
              "    }\n",
              "    40% {\n",
              "      border-color: transparent;\n",
              "      border-right-color: var(--fill-color);\n",
              "      border-top-color: var(--fill-color);\n",
              "    }\n",
              "    60% {\n",
              "      border-color: transparent;\n",
              "      border-right-color: var(--fill-color);\n",
              "    }\n",
              "    80% {\n",
              "      border-color: transparent;\n",
              "      border-right-color: var(--fill-color);\n",
              "      border-bottom-color: var(--fill-color);\n",
              "    }\n",
              "    90% {\n",
              "      border-color: transparent;\n",
              "      border-bottom-color: var(--fill-color);\n",
              "    }\n",
              "  }\n",
              "</style>\n",
              "\n",
              "  <script>\n",
              "    async function quickchart(key) {\n",
              "      const quickchartButtonEl =\n",
              "        document.querySelector('#' + key + ' button');\n",
              "      quickchartButtonEl.disabled = true;  // To prevent multiple clicks.\n",
              "      quickchartButtonEl.classList.add('colab-df-spinner');\n",
              "      try {\n",
              "        const charts = await google.colab.kernel.invokeFunction(\n",
              "            'suggestCharts', [key], {});\n",
              "      } catch (error) {\n",
              "        console.error('Error during call to suggestCharts:', error);\n",
              "      }\n",
              "      quickchartButtonEl.classList.remove('colab-df-spinner');\n",
              "      quickchartButtonEl.classList.add('colab-df-quickchart-complete');\n",
              "    }\n",
              "    (() => {\n",
              "      let quickchartButtonEl =\n",
              "        document.querySelector('#df-6601959e-522c-4db8-bf85-9322e47cea80 button');\n",
              "      quickchartButtonEl.style.display =\n",
              "        google.colab.kernel.accessAllowed ? 'block' : 'none';\n",
              "    })();\n",
              "  </script>\n",
              "</div>\n",
              "\n",
              "    </div>\n",
              "  </div>\n"
            ],
            "application/vnd.google.colaboratory.intrinsic+json": {
              "type": "dataframe",
              "summary": "{\n  \"name\": \"semeval\",\n  \"rows\": 5,\n  \"fields\": [\n    {\n      \"column\": \"Document\",\n      \"properties\": {\n        \"dtype\": \"string\",\n        \"num_unique_values\": 5,\n        \"samples\": [\n          \"To be completely fair, the only redeeming factor was the food, which was above average, but couldn't make up for all the other deficiencies of Teodora.\",\n          \"For those that go once and don't enjoy it, all I can say is that they just don't get it.\",\n          \"The food is uniformly exceptional, with a very capable kitchen which will proudly whip up whatever you feel like eating, whether it's on the menu or not.\"\n        ],\n        \"semantic_type\": \"\",\n        \"description\": \"\"\n      }\n    },\n    {\n      \"column\": \"Aspects\",\n      \"properties\": {\n        \"dtype\": \"object\",\n        \"semantic_type\": \"\",\n        \"description\": \"\"\n      }\n    },\n    {\n      \"column\": \"Aspect_Sentiments\",\n      \"properties\": {\n        \"dtype\": \"object\",\n        \"semantic_type\": \"\",\n        \"description\": \"\"\n      }\n    },\n    {\n      \"column\": \"Sentiment\",\n      \"properties\": {\n        \"dtype\": \"string\",\n        \"num_unique_values\": 3,\n        \"samples\": [\n          \"negative\",\n          \"positive\",\n          \"neutral\"\n        ],\n        \"semantic_type\": \"\",\n        \"description\": \"\"\n      }\n    }\n  ]\n}"
            }
          },
          "metadata": {},
          "execution_count": 28
        }
      ]
    },
    {
      "cell_type": "markdown",
      "source": [
        "## Sentiment Analysis using Born"
      ],
      "metadata": {
        "id": "wKONB9zbutiD"
      }
    },
    {
      "cell_type": "code",
      "source": [
        "class SentimentAnalysis:\n",
        "    def __init__(self, train_df, test_df, class_labels):\n",
        "        self.train_df = train_df\n",
        "        self.test_df = test_df\n",
        "        self.class_labels = class_labels\n",
        "        self.vectorize_documents()\n",
        "\n",
        "    def vectorize_documents(self):\n",
        "        self.vec = CountVectorizer(tokenizer=word_tokenize, lowercase=True, token_pattern=None)\n",
        "        self.X_train = self.vec.fit_transform(self.train_df['Document'])\n",
        "        self.X_test = self.vec.transform(self.test_df['Document'])\n",
        "        self.y_train = self.train_df['Sentiment']\n",
        "        self.y_test = self.test_df['Sentiment']\n",
        "        self.features = self.vec.get_feature_names_out()\n",
        "        print(f'Number of features: {len(self.features)}\\n')\n",
        "\n",
        "    def train_and_test(self):\n",
        "        self.clf = BornClassifier()\n",
        "        self.clf.fit(self.X_train, self.y_train)\n",
        "        self.global_explain = pd.DataFrame(self.clf.explain().toarray(), index=self.features, columns=self.class_labels)\n",
        "\n",
        "        self.y_pred = self.clf.predict(self.X_test)\n",
        "        print(classification_report(self.y_test, self.y_pred))\n",
        "\n",
        "    def visualize_confusion_matrix(self):\n",
        "        cm = confusion_matrix(self.y_test, self.y_pred, labels=self.class_labels)\n",
        "        visualize.confusion_matrix(cm, pred_labels=self.class_labels, true_labels=self.class_labels)\n",
        "\n",
        "    def analyze_prediction_for_document(self, document_id, train_or_test='test'):\n",
        "        if train_or_test == 'train':\n",
        "            df = self.train_df\n",
        "            X = self.X_train\n",
        "        elif train_or_test == 'test':\n",
        "            df = self.test_df\n",
        "            X = self.X_test\n",
        "\n",
        "        document = df.loc[document_id, 'Document']\n",
        "        sentiment = df.loc[document_id, 'Sentiment']\n",
        "        vectorized_doc = X[document_id]\n",
        "        prediction = self.clf.predict(vectorized_doc)[0]\n",
        "        print(f'Document: {document}\\nTrue Sentiment: {sentiment}\\nPrediction: {prediction}\\n')\n",
        "        return pd.DataFrame(self.clf.predict_proba(vectorized_doc), columns=self.class_labels, index=['probability'])\n",
        "\n",
        "    def get_global_explain(self):\n",
        "        positive = self.global_explain['positive'].sort_values(ascending=False)\n",
        "        neutral = self.global_explain['neutral'].sort_values(ascending=False)\n",
        "        negative = self.global_explain['negative'].sort_values(ascending=False)\n",
        "        return negative, neutral, positive"
      ],
      "metadata": {
        "id": "kwg-3aH1Z-Zj"
      },
      "execution_count": 29,
      "outputs": []
    },
    {
      "cell_type": "markdown",
      "source": [
        "### Train and Test on `AmazonReviewsDataset`\n",
        "\n"
      ],
      "metadata": {
        "id": "hkws_vOHYb9t"
      }
    },
    {
      "cell_type": "code",
      "source": [
        "load_dataset = True\n",
        "\n",
        "if load_dataset:\n",
        "    amazon_sentiment_analysis = joblib.load(f'{SAVE_DRIVE_PATH}/amazon_sentiment_analysis.pkl')\n",
        "else:\n",
        "    amazon_sentiment_analysis = SentimentAnalysis(\n",
        "        train_df=amazon.train_df,\n",
        "        test_df=amazon.test_df,\n",
        "        class_labels=amazon.class_labels\n",
        "    )\n",
        "    joblib.dump(amazon_sentiment_analysis, f'{SAVE_DRIVE_PATH}/amazon_sentiment_analysis.pkl')\n",
        "\n",
        "amazon_sentiment_analysis.train_and_test()\n",
        "amazon_sentiment_analysis.visualize_confusion_matrix()"
      ],
      "metadata": {
        "id": "5UpXvHlBZCxH",
        "outputId": "1989c467-76fd-4c8a-cf0d-a7bac75f8576",
        "colab": {
          "base_uri": "https://localhost:8080/",
          "height": 0
        }
      },
      "execution_count": 30,
      "outputs": [
        {
          "output_type": "stream",
          "name": "stdout",
          "text": [
            "              precision    recall  f1-score   support\n",
            "\n",
            "    negative       0.61      0.71      0.65     16407\n",
            "     neutral       0.29      0.46      0.36      8528\n",
            "    positive       0.94      0.86      0.90     88756\n",
            "\n",
            "    accuracy                           0.81    113691\n",
            "   macro avg       0.61      0.67      0.64    113691\n",
            "weighted avg       0.84      0.81      0.82    113691\n",
            "\n"
          ]
        },
        {
          "output_type": "display_data",
          "data": {
            "text/plain": [
              "<Figure size 800x400 with 2 Axes>"
            ],
            "image/png": "[encoded data removed]"
          },
          "metadata": {}
        }
      ]
    },
    {
      "cell_type": "code",
      "source": [
        "amazon_sentiment_analysis.analyze_prediction_for_document(document_id=0, train_or_test='test')"
      ],
      "metadata": {
        "colab": {
          "base_uri": "https://localhost:8080/",
          "height": 0
        },
        "id": "yR5u4E4Rh9bz",
        "outputId": "400110a5-63c8-47b6-a794-8b2d1ef6a6d9"
      },
      "execution_count": 31,
      "outputs": [
        {
          "output_type": "stream",
          "name": "stdout",
          "text": [
            "Document: I do enjoy most of the Popchip flavours.  This one has a nice balance and I don't get tired too quickly of this flavor.  Better than the jalape&ntilde;o flavor, but I still prefer the multi-pack.\n",
            "True Sentiment: positive\n",
            "Prediction: neutral\n",
            "\n"
          ]
        },
        {
          "output_type": "execute_result",
          "data": {
            "text/plain": [
              "             negative  neutral  positive\n",
              "probability   0.25085  0.39631  0.352841"
            ],
            "text/html": [
              "\n",
              "  <div id=\"df-bf3586a2-c413-4852-8ee3-94e266de08ba\" class=\"colab-df-container\">\n",
              "    <div>\n",
              "<style scoped>\n",
              "    .dataframe tbody tr th:only-of-type {\n",
              "        vertical-align: middle;\n",
              "    }\n",
              "\n",
              "    .dataframe tbody tr th {\n",
              "        vertical-align: top;\n",
              "    }\n",
              "\n",
              "    .dataframe thead th {\n",
              "        text-align: right;\n",
              "    }\n",
              "</style>\n",
              "<table border=\"1\" class=\"dataframe\">\n",
              "  <thead>\n",
              "    <tr style=\"text-align: right;\">\n",
              "      <th></th>\n",
              "      <th>negative</th>\n",
              "      <th>neutral</th>\n",
              "      <th>positive</th>\n",
              "    </tr>\n",
              "  </thead>\n",
              "  <tbody>\n",
              "    <tr>\n",
              "      <th>probability</th>\n",
              "      <td>0.25085</td>\n",
              "      <td>0.39631</td>\n",
              "      <td>0.352841</td>\n",
              "    </tr>\n",
              "  </tbody>\n",
              "</table>\n",
              "</div>\n",
              "    <div class=\"colab-df-buttons\">\n",
              "\n",
              "  <div class=\"colab-df-container\">\n",
              "    <button class=\"colab-df-convert\" onclick=\"convertToInteractive('df-bf3586a2-c413-4852-8ee3-94e266de08ba')\"\n",
              "            title=\"Convert this dataframe to an interactive table.\"\n",
              "            style=\"display:none;\">\n",
              "\n",
              "  <svg xmlns=\"http://www.w3.org/2000/svg\" height=\"24px\" viewBox=\"0 -960 960 960\">\n",
              "    <path d=\"M120-120v-720h720v720H120Zm60-500h600v-160H180v160Zm220 220h160v-160H400v160Zm0 220h160v-160H400v160ZM180-400h160v-160H180v160Zm440 0h160v-160H620v160ZM180-180h160v-160H180v160Zm440 0h160v-160H620v160Z\"/>\n",
              "  </svg>\n",
              "    </button>\n",
              "\n",
              "  <style>\n",
              "    .colab-df-container {\n",
              "      display:flex;\n",
              "      gap: 12px;\n",
              "    }\n",
              "\n",
              "    .colab-df-convert {\n",
              "      background-color: #E8F0FE;\n",
              "      border: none;\n",
              "      border-radius: 50%;\n",
              "      cursor: pointer;\n",
              "      display: none;\n",
              "      fill: #1967D2;\n",
              "      height: 32px;\n",
              "      padding: 0 0 0 0;\n",
              "      width: 32px;\n",
              "    }\n",
              "\n",
              "    .colab-df-convert:hover {\n",
              "      background-color: #E2EBFA;\n",
              "      box-shadow: 0px 1px 2px rgba(60, 64, 67, 0.3), 0px 1px 3px 1px rgba(60, 64, 67, 0.15);\n",
              "      fill: #174EA6;\n",
              "    }\n",
              "\n",
              "    .colab-df-buttons div {\n",
              "      margin-bottom: 4px;\n",
              "    }\n",
              "\n",
              "    [theme=dark] .colab-df-convert {\n",
              "      background-color: #3B4455;\n",
              "      fill: #D2E3FC;\n",
              "    }\n",
              "\n",
              "    [theme=dark] .colab-df-convert:hover {\n",
              "      background-color: #434B5C;\n",
              "      box-shadow: 0px 1px 3px 1px rgba(0, 0, 0, 0.15);\n",
              "      filter: drop-shadow(0px 1px 2px rgba(0, 0, 0, 0.3));\n",
              "      fill: #FFFFFF;\n",
              "    }\n",
              "  </style>\n",
              "\n",
              "    <script>\n",
              "      const buttonEl =\n",
              "        document.querySelector('#df-bf3586a2-c413-4852-8ee3-94e266de08ba button.colab-df-convert');\n",
              "      buttonEl.style.display =\n",
              "        google.colab.kernel.accessAllowed ? 'block' : 'none';\n",
              "\n",
              "      async function convertToInteractive(key) {\n",
              "        const element = document.querySelector('#df-bf3586a2-c413-4852-8ee3-94e266de08ba');\n",
              "        const dataTable =\n",
              "          await google.colab.kernel.invokeFunction('convertToInteractive',\n",
              "                                                    [key], {});\n",
              "        if (!dataTable) return;\n",
              "\n",
              "        const docLinkHtml = 'Like what you see? Visit the ' +\n",
              "          '<a target=\"_blank\" href=https://colab.research.google.com/notebooks/data_table.ipynb>data table notebook</a>'\n",
              "          + ' to learn more about interactive tables.';\n",
              "        element.innerHTML = '';\n",
              "        dataTable['output_type'] = 'display_data';\n",
              "        await google.colab.output.renderOutput(dataTable, element);\n",
              "        const docLink = document.createElement('div');\n",
              "        docLink.innerHTML = docLinkHtml;\n",
              "        element.appendChild(docLink);\n",
              "      }\n",
              "    </script>\n",
              "  </div>\n",
              "\n",
              "\n",
              "    </div>\n",
              "  </div>\n"
            ],
            "application/vnd.google.colaboratory.intrinsic+json": {
              "type": "dataframe",
              "summary": "{\n  \"name\": \"amazon_sentiment_analysis\",\n  \"rows\": 1,\n  \"fields\": [\n    {\n      \"column\": \"negative\",\n      \"properties\": {\n        \"dtype\": \"number\",\n        \"std\": null,\n        \"min\": 0.25084971808451034,\n        \"max\": 0.25084971808451034,\n        \"num_unique_values\": 1,\n        \"samples\": [\n          0.25084971808451034\n        ],\n        \"semantic_type\": \"\",\n        \"description\": \"\"\n      }\n    },\n    {\n      \"column\": \"neutral\",\n      \"properties\": {\n        \"dtype\": \"number\",\n        \"std\": null,\n        \"min\": 0.3963096650790699,\n        \"max\": 0.3963096650790699,\n        \"num_unique_values\": 1,\n        \"samples\": [\n          0.3963096650790699\n        ],\n        \"semantic_type\": \"\",\n        \"description\": \"\"\n      }\n    },\n    {\n      \"column\": \"positive\",\n      \"properties\": {\n        \"dtype\": \"number\",\n        \"std\": null,\n        \"min\": 0.35284061683641954,\n        \"max\": 0.35284061683641954,\n        \"num_unique_values\": 1,\n        \"samples\": [\n          0.35284061683641954\n        ],\n        \"semantic_type\": \"\",\n        \"description\": \"\"\n      }\n    }\n  ]\n}"
            }
          },
          "metadata": {},
          "execution_count": 31
        }
      ]
    },
    {
      "cell_type": "code",
      "source": [
        "negative, neutral, positive = amazon_sentiment_analysis.get_global_explain()\n",
        "display(positive.head()), display(neutral.head()), display(negative.head())"
      ],
      "metadata": {
        "colab": {
          "base_uri": "https://localhost:8080/",
          "height": 0
        },
        "id": "lKiVjNn5BSFX",
        "outputId": "192bab74-ce3a-4238-ff6e-f241b461807f"
      },
      "execution_count": 32,
      "outputs": [
        {
          "output_type": "display_data",
          "data": {
            "text/plain": [
              "great        0.014215\n",
              "perfect      0.012682\n",
              "highly       0.012353\n",
              "!            0.011893\n",
              "delicious    0.011545\n",
              "Name: positive, dtype: float64"
            ],
            "text/html": [
              "<div>\n",
              "<style scoped>\n",
              "    .dataframe tbody tr th:only-of-type {\n",
              "        vertical-align: middle;\n",
              "    }\n",
              "\n",
              "    .dataframe tbody tr th {\n",
              "        vertical-align: top;\n",
              "    }\n",
              "\n",
              "    .dataframe thead th {\n",
              "        text-align: right;\n",
              "    }\n",
              "</style>\n",
              "<table border=\"1\" class=\"dataframe\">\n",
              "  <thead>\n",
              "    <tr style=\"text-align: right;\">\n",
              "      <th></th>\n",
              "      <th>positive</th>\n",
              "    </tr>\n",
              "  </thead>\n",
              "  <tbody>\n",
              "    <tr>\n",
              "      <th>great</th>\n",
              "      <td>0.014215</td>\n",
              "    </tr>\n",
              "    <tr>\n",
              "      <th>perfect</th>\n",
              "      <td>0.012682</td>\n",
              "    </tr>\n",
              "    <tr>\n",
              "      <th>highly</th>\n",
              "      <td>0.012353</td>\n",
              "    </tr>\n",
              "    <tr>\n",
              "      <th>!</th>\n",
              "      <td>0.011893</td>\n",
              "    </tr>\n",
              "    <tr>\n",
              "      <th>delicious</th>\n",
              "      <td>0.011545</td>\n",
              "    </tr>\n",
              "  </tbody>\n",
              "</table>\n",
              "</div><br><label><b>dtype:</b> float64</label>"
            ]
          },
          "metadata": {}
        },
        {
          "output_type": "display_data",
          "data": {
            "text/plain": [
              "great    0.008677\n",
              "ok       0.007700\n",
              "okay     0.006528\n",
              "!        0.006258\n",
              "ok.      0.005647\n",
              "Name: neutral, dtype: float64"
            ],
            "text/html": [
              "<div>\n",
              "<style scoped>\n",
              "    .dataframe tbody tr th:only-of-type {\n",
              "        vertical-align: middle;\n",
              "    }\n",
              "\n",
              "    .dataframe tbody tr th {\n",
              "        vertical-align: top;\n",
              "    }\n",
              "\n",
              "    .dataframe thead th {\n",
              "        text-align: right;\n",
              "    }\n",
              "</style>\n",
              "<table border=\"1\" class=\"dataframe\">\n",
              "  <thead>\n",
              "    <tr style=\"text-align: right;\">\n",
              "      <th></th>\n",
              "      <th>neutral</th>\n",
              "    </tr>\n",
              "  </thead>\n",
              "  <tbody>\n",
              "    <tr>\n",
              "      <th>great</th>\n",
              "      <td>0.008677</td>\n",
              "    </tr>\n",
              "    <tr>\n",
              "      <th>ok</th>\n",
              "      <td>0.007700</td>\n",
              "    </tr>\n",
              "    <tr>\n",
              "      <th>okay</th>\n",
              "      <td>0.006528</td>\n",
              "    </tr>\n",
              "    <tr>\n",
              "      <th>!</th>\n",
              "      <td>0.006258</td>\n",
              "    </tr>\n",
              "    <tr>\n",
              "      <th>ok.</th>\n",
              "      <td>0.005647</td>\n",
              "    </tr>\n",
              "  </tbody>\n",
              "</table>\n",
              "</div><br><label><b>dtype:</b> float64</label>"
            ]
          },
          "metadata": {}
        },
        {
          "output_type": "display_data",
          "data": {
            "text/plain": [
              "worst       0.012565\n",
              "waste       0.012276\n",
              "awful       0.011344\n",
              "threw       0.010751\n",
              "terrible    0.010601\n",
              "Name: negative, dtype: float64"
            ],
            "text/html": [
              "<div>\n",
              "<style scoped>\n",
              "    .dataframe tbody tr th:only-of-type {\n",
              "        vertical-align: middle;\n",
              "    }\n",
              "\n",
              "    .dataframe tbody tr th {\n",
              "        vertical-align: top;\n",
              "    }\n",
              "\n",
              "    .dataframe thead th {\n",
              "        text-align: right;\n",
              "    }\n",
              "</style>\n",
              "<table border=\"1\" class=\"dataframe\">\n",
              "  <thead>\n",
              "    <tr style=\"text-align: right;\">\n",
              "      <th></th>\n",
              "      <th>negative</th>\n",
              "    </tr>\n",
              "  </thead>\n",
              "  <tbody>\n",
              "    <tr>\n",
              "      <th>worst</th>\n",
              "      <td>0.012565</td>\n",
              "    </tr>\n",
              "    <tr>\n",
              "      <th>waste</th>\n",
              "      <td>0.012276</td>\n",
              "    </tr>\n",
              "    <tr>\n",
              "      <th>awful</th>\n",
              "      <td>0.011344</td>\n",
              "    </tr>\n",
              "    <tr>\n",
              "      <th>threw</th>\n",
              "      <td>0.010751</td>\n",
              "    </tr>\n",
              "    <tr>\n",
              "      <th>terrible</th>\n",
              "      <td>0.010601</td>\n",
              "    </tr>\n",
              "  </tbody>\n",
              "</table>\n",
              "</div><br><label><b>dtype:</b> float64</label>"
            ]
          },
          "metadata": {}
        },
        {
          "output_type": "execute_result",
          "data": {
            "text/plain": [
              "(None, None, None)"
            ]
          },
          "metadata": {},
          "execution_count": 32
        }
      ]
    },
    {
      "cell_type": "markdown",
      "source": [
        "### Train and Test on `SemEval2014Dataset`"
      ],
      "metadata": {
        "id": "C32O4Z-pYs_B"
      }
    },
    {
      "cell_type": "code",
      "source": [
        "load_dataset = True\n",
        "\n",
        "if load_dataset:\n",
        "    semeval_sentiment_analysis = joblib.load(f'{SAVE_DRIVE_PATH}/semeval_sentiment_analysis.pkl')\n",
        "else:\n",
        "    semeval_sentiment_analysis = SentimentAnalysis(\n",
        "        train_df=semeval.train_df,\n",
        "        test_df=semeval.test_df,\n",
        "        class_labels=semeval.class_labels\n",
        "    )\n",
        "    joblib.dump(semeval_sentiment_analysis, f'{SAVE_DRIVE_PATH}/semeval_sentiment_analysis.pkl')\n",
        "\n",
        "semeval_sentiment_analysis.train_and_test()\n",
        "semeval_sentiment_analysis.visualize_confusion_matrix()"
      ],
      "metadata": {
        "id": "oXQ4iNfmZDIz",
        "outputId": "f9c87123-100d-487d-af6e-fa93e13c6907",
        "colab": {
          "base_uri": "https://localhost:8080/",
          "height": 0
        }
      },
      "execution_count": 33,
      "outputs": [
        {
          "output_type": "stream",
          "name": "stdout",
          "text": [
            "              precision    recall  f1-score   support\n",
            "\n",
            "    negative       0.51      0.58      0.55       125\n",
            "     neutral       0.72      0.57      0.63       279\n",
            "    positive       0.74      0.82      0.78       396\n",
            "\n",
            "    accuracy                           0.70       800\n",
            "   macro avg       0.66      0.66      0.65       800\n",
            "weighted avg       0.70      0.70      0.69       800\n",
            "\n"
          ]
        },
        {
          "output_type": "display_data",
          "data": {
            "text/plain": [
              "<Figure size 800x400 with 2 Axes>"
            ],
            "image/png": "[encoded data removed]"
          },
          "metadata": {}
        }
      ]
    },
    {
      "cell_type": "code",
      "source": [
        "semeval_sentiment_analysis.analyze_prediction_for_document(document_id=0, train_or_test='test')"
      ],
      "metadata": {
        "colab": {
          "base_uri": "https://localhost:8080/",
          "height": 0
        },
        "id": "dgGzJ1EPh-Vn",
        "outputId": "fd3f08be-7694-49b3-a4d3-d04578f5e163"
      },
      "execution_count": 34,
      "outputs": [
        {
          "output_type": "stream",
          "name": "stdout",
          "text": [
            "Document: The bread is top notch as well.\n",
            "True Sentiment: positive\n",
            "Prediction: positive\n",
            "\n"
          ]
        },
        {
          "output_type": "execute_result",
          "data": {
            "text/plain": [
              "             negative   neutral  positive\n",
              "probability  0.146435  0.174319  0.679246"
            ],
            "text/html": [
              "\n",
              "  <div id=\"df-6a05672b-301b-4e49-9005-d5ee261240a6\" class=\"colab-df-container\">\n",
              "    <div>\n",
              "<style scoped>\n",
              "    .dataframe tbody tr th:only-of-type {\n",
              "        vertical-align: middle;\n",
              "    }\n",
              "\n",
              "    .dataframe tbody tr th {\n",
              "        vertical-align: top;\n",
              "    }\n",
              "\n",
              "    .dataframe thead th {\n",
              "        text-align: right;\n",
              "    }\n",
              "</style>\n",
              "<table border=\"1\" class=\"dataframe\">\n",
              "  <thead>\n",
              "    <tr style=\"text-align: right;\">\n",
              "      <th></th>\n",
              "      <th>negative</th>\n",
              "      <th>neutral</th>\n",
              "      <th>positive</th>\n",
              "    </tr>\n",
              "  </thead>\n",
              "  <tbody>\n",
              "    <tr>\n",
              "      <th>probability</th>\n",
              "      <td>0.146435</td>\n",
              "      <td>0.174319</td>\n",
              "      <td>0.679246</td>\n",
              "    </tr>\n",
              "  </tbody>\n",
              "</table>\n",
              "</div>\n",
              "    <div class=\"colab-df-buttons\">\n",
              "\n",
              "  <div class=\"colab-df-container\">\n",
              "    <button class=\"colab-df-convert\" onclick=\"convertToInteractive('df-6a05672b-301b-4e49-9005-d5ee261240a6')\"\n",
              "            title=\"Convert this dataframe to an interactive table.\"\n",
              "            style=\"display:none;\">\n",
              "\n",
              "  <svg xmlns=\"http://www.w3.org/2000/svg\" height=\"24px\" viewBox=\"0 -960 960 960\">\n",
              "    <path d=\"M120-120v-720h720v720H120Zm60-500h600v-160H180v160Zm220 220h160v-160H400v160Zm0 220h160v-160H400v160ZM180-400h160v-160H180v160Zm440 0h160v-160H620v160ZM180-180h160v-160H180v160Zm440 0h160v-160H620v160Z\"/>\n",
              "  </svg>\n",
              "    </button>\n",
              "\n",
              "  <style>\n",
              "    .colab-df-container {\n",
              "      display:flex;\n",
              "      gap: 12px;\n",
              "    }\n",
              "\n",
              "    .colab-df-convert {\n",
              "      background-color: #E8F0FE;\n",
              "      border: none;\n",
              "      border-radius: 50%;\n",
              "      cursor: pointer;\n",
              "      display: none;\n",
              "      fill: #1967D2;\n",
              "      height: 32px;\n",
              "      padding: 0 0 0 0;\n",
              "      width: 32px;\n",
              "    }\n",
              "\n",
              "    .colab-df-convert:hover {\n",
              "      background-color: #E2EBFA;\n",
              "      box-shadow: 0px 1px 2px rgba(60, 64, 67, 0.3), 0px 1px 3px 1px rgba(60, 64, 67, 0.15);\n",
              "      fill: #174EA6;\n",
              "    }\n",
              "\n",
              "    .colab-df-buttons div {\n",
              "      margin-bottom: 4px;\n",
              "    }\n",
              "\n",
              "    [theme=dark] .colab-df-convert {\n",
              "      background-color: #3B4455;\n",
              "      fill: #D2E3FC;\n",
              "    }\n",
              "\n",
              "    [theme=dark] .colab-df-convert:hover {\n",
              "      background-color: #434B5C;\n",
              "      box-shadow: 0px 1px 3px 1px rgba(0, 0, 0, 0.15);\n",
              "      filter: drop-shadow(0px 1px 2px rgba(0, 0, 0, 0.3));\n",
              "      fill: #FFFFFF;\n",
              "    }\n",
              "  </style>\n",
              "\n",
              "    <script>\n",
              "      const buttonEl =\n",
              "        document.querySelector('#df-6a05672b-301b-4e49-9005-d5ee261240a6 button.colab-df-convert');\n",
              "      buttonEl.style.display =\n",
              "        google.colab.kernel.accessAllowed ? 'block' : 'none';\n",
              "\n",
              "      async function convertToInteractive(key) {\n",
              "        const element = document.querySelector('#df-6a05672b-301b-4e49-9005-d5ee261240a6');\n",
              "        const dataTable =\n",
              "          await google.colab.kernel.invokeFunction('convertToInteractive',\n",
              "                                                    [key], {});\n",
              "        if (!dataTable) return;\n",
              "\n",
              "        const docLinkHtml = 'Like what you see? Visit the ' +\n",
              "          '<a target=\"_blank\" href=https://colab.research.google.com/notebooks/data_table.ipynb>data table notebook</a>'\n",
              "          + ' to learn more about interactive tables.';\n",
              "        element.innerHTML = '';\n",
              "        dataTable['output_type'] = 'display_data';\n",
              "        await google.colab.output.renderOutput(dataTable, element);\n",
              "        const docLink = document.createElement('div');\n",
              "        docLink.innerHTML = docLinkHtml;\n",
              "        element.appendChild(docLink);\n",
              "      }\n",
              "    </script>\n",
              "  </div>\n",
              "\n",
              "\n",
              "    </div>\n",
              "  </div>\n"
            ],
            "application/vnd.google.colaboratory.intrinsic+json": {
              "type": "dataframe",
              "summary": "{\n  \"name\": \"semeval_sentiment_analysis\",\n  \"rows\": 1,\n  \"fields\": [\n    {\n      \"column\": \"negative\",\n      \"properties\": {\n        \"dtype\": \"number\",\n        \"std\": null,\n        \"min\": 0.14643503247298287,\n        \"max\": 0.14643503247298287,\n        \"num_unique_values\": 1,\n        \"samples\": [\n          0.14643503247298287\n        ],\n        \"semantic_type\": \"\",\n        \"description\": \"\"\n      }\n    },\n    {\n      \"column\": \"neutral\",\n      \"properties\": {\n        \"dtype\": \"number\",\n        \"std\": null,\n        \"min\": 0.1743188251194589,\n        \"max\": 0.1743188251194589,\n        \"num_unique_values\": 1,\n        \"samples\": [\n          0.1743188251194589\n        ],\n        \"semantic_type\": \"\",\n        \"description\": \"\"\n      }\n    },\n    {\n      \"column\": \"positive\",\n      \"properties\": {\n        \"dtype\": \"number\",\n        \"std\": null,\n        \"min\": 0.6792461424075581,\n        \"max\": 0.6792461424075581,\n        \"num_unique_values\": 1,\n        \"samples\": [\n          0.6792461424075581\n        ],\n        \"semantic_type\": \"\",\n        \"description\": \"\"\n      }\n    }\n  ]\n}"
            }
          },
          "metadata": {},
          "execution_count": 34
        }
      ]
    },
    {
      "cell_type": "code",
      "source": [
        "negative, neutral, positive = semeval_sentiment_analysis.get_global_explain()\n",
        "display(negative.head()), display(neutral.head()), display(positive.head())"
      ],
      "metadata": {
        "colab": {
          "base_uri": "https://localhost:8080/",
          "height": 0
        },
        "id": "u078W6CcA-JA",
        "outputId": "f680db1e-1f85-4528-90a4-59e1c51fd11c"
      },
      "execution_count": 35,
      "outputs": [
        {
          "output_type": "display_data",
          "data": {
            "text/plain": [
              "awful      0.034837\n",
              "bland      0.029271\n",
              "waiting    0.028652\n",
              "lousy      0.026456\n",
              "worst      0.026351\n",
              "Name: negative, dtype: float64"
            ],
            "text/html": [
              "<div>\n",
              "<style scoped>\n",
              "    .dataframe tbody tr th:only-of-type {\n",
              "        vertical-align: middle;\n",
              "    }\n",
              "\n",
              "    .dataframe tbody tr th {\n",
              "        vertical-align: top;\n",
              "    }\n",
              "\n",
              "    .dataframe thead th {\n",
              "        text-align: right;\n",
              "    }\n",
              "</style>\n",
              "<table border=\"1\" class=\"dataframe\">\n",
              "  <thead>\n",
              "    <tr style=\"text-align: right;\">\n",
              "      <th></th>\n",
              "      <th>negative</th>\n",
              "    </tr>\n",
              "  </thead>\n",
              "  <tbody>\n",
              "    <tr>\n",
              "      <th>awful</th>\n",
              "      <td>0.034837</td>\n",
              "    </tr>\n",
              "    <tr>\n",
              "      <th>bland</th>\n",
              "      <td>0.029271</td>\n",
              "    </tr>\n",
              "    <tr>\n",
              "      <th>waiting</th>\n",
              "      <td>0.028652</td>\n",
              "    </tr>\n",
              "    <tr>\n",
              "      <th>lousy</th>\n",
              "      <td>0.026456</td>\n",
              "    </tr>\n",
              "    <tr>\n",
              "      <th>worst</th>\n",
              "      <td>0.026351</td>\n",
              "    </tr>\n",
              "  </tbody>\n",
              "</table>\n",
              "</div><br><label><b>dtype:</b> float64</label>"
            ]
          },
          "metadata": {}
        },
        {
          "output_type": "display_data",
          "data": {
            "text/plain": [
              "pleasantly      0.027895\n",
              "unbelievable    0.026978\n",
              "kudos           0.023363\n",
              "recommended     0.023135\n",
              "highly          0.022633\n",
              "Name: neutral, dtype: float64"
            ],
            "text/html": [
              "<div>\n",
              "<style scoped>\n",
              "    .dataframe tbody tr th:only-of-type {\n",
              "        vertical-align: middle;\n",
              "    }\n",
              "\n",
              "    .dataframe tbody tr th {\n",
              "        vertical-align: top;\n",
              "    }\n",
              "\n",
              "    .dataframe thead th {\n",
              "        text-align: right;\n",
              "    }\n",
              "</style>\n",
              "<table border=\"1\" class=\"dataframe\">\n",
              "  <thead>\n",
              "    <tr style=\"text-align: right;\">\n",
              "      <th></th>\n",
              "      <th>neutral</th>\n",
              "    </tr>\n",
              "  </thead>\n",
              "  <tbody>\n",
              "    <tr>\n",
              "      <th>pleasantly</th>\n",
              "      <td>0.027895</td>\n",
              "    </tr>\n",
              "    <tr>\n",
              "      <th>unbelievable</th>\n",
              "      <td>0.026978</td>\n",
              "    </tr>\n",
              "    <tr>\n",
              "      <th>kudos</th>\n",
              "      <td>0.023363</td>\n",
              "    </tr>\n",
              "    <tr>\n",
              "      <th>recommended</th>\n",
              "      <td>0.023135</td>\n",
              "    </tr>\n",
              "    <tr>\n",
              "      <th>highly</th>\n",
              "      <td>0.022633</td>\n",
              "    </tr>\n",
              "  </tbody>\n",
              "</table>\n",
              "</div><br><label><b>dtype:</b> float64</label>"
            ]
          },
          "metadata": {}
        },
        {
          "output_type": "display_data",
          "data": {
            "text/plain": [
              "friendly      0.034340\n",
              "attentive     0.033205\n",
              "reasonable    0.032684\n",
              "great         0.030946\n",
              "yummy         0.028073\n",
              "Name: positive, dtype: float64"
            ],
            "text/html": [
              "<div>\n",
              "<style scoped>\n",
              "    .dataframe tbody tr th:only-of-type {\n",
              "        vertical-align: middle;\n",
              "    }\n",
              "\n",
              "    .dataframe tbody tr th {\n",
              "        vertical-align: top;\n",
              "    }\n",
              "\n",
              "    .dataframe thead th {\n",
              "        text-align: right;\n",
              "    }\n",
              "</style>\n",
              "<table border=\"1\" class=\"dataframe\">\n",
              "  <thead>\n",
              "    <tr style=\"text-align: right;\">\n",
              "      <th></th>\n",
              "      <th>positive</th>\n",
              "    </tr>\n",
              "  </thead>\n",
              "  <tbody>\n",
              "    <tr>\n",
              "      <th>friendly</th>\n",
              "      <td>0.034340</td>\n",
              "    </tr>\n",
              "    <tr>\n",
              "      <th>attentive</th>\n",
              "      <td>0.033205</td>\n",
              "    </tr>\n",
              "    <tr>\n",
              "      <th>reasonable</th>\n",
              "      <td>0.032684</td>\n",
              "    </tr>\n",
              "    <tr>\n",
              "      <th>great</th>\n",
              "      <td>0.030946</td>\n",
              "    </tr>\n",
              "    <tr>\n",
              "      <th>yummy</th>\n",
              "      <td>0.028073</td>\n",
              "    </tr>\n",
              "  </tbody>\n",
              "</table>\n",
              "</div><br><label><b>dtype:</b> float64</label>"
            ]
          },
          "metadata": {}
        },
        {
          "output_type": "execute_result",
          "data": {
            "text/plain": [
              "(None, None, None)"
            ]
          },
          "metadata": {},
          "execution_count": 35
        }
      ]
    },
    {
      "cell_type": "markdown",
      "source": [
        "### Train on `AmazonReviewsDataset`, Test on `SemEval2014Dataset`"
      ],
      "metadata": {
        "id": "DXAeiL-QYtpO"
      }
    },
    {
      "cell_type": "code",
      "source": [
        "load_dataset = True\n",
        "\n",
        "if load_dataset:\n",
        "    joint_sentiment_analysis = joblib.load(f'{SAVE_DRIVE_PATH}/joint_sentiment_analysis.pkl')\n",
        "else:\n",
        "    joint_sentiment_analysis = SentimentAnalysis(\n",
        "        train_df=amazon.dataset,\n",
        "        test_df=semeval.dataset,\n",
        "        class_labels=amazon.class_labels\n",
        "    )\n",
        "    joblib.dump(joint_sentiment_analysis, f'{SAVE_DRIVE_PATH}/joint_sentiment_analysis.pkl')\n",
        "\n",
        "joint_sentiment_analysis.train_and_test()\n",
        "joint_sentiment_analysis.visualize_confusion_matrix()"
      ],
      "metadata": {
        "id": "M5_rlHBOZDkJ",
        "outputId": "ee6bb822-f451-4463-b9a2-bb0120bbec26",
        "colab": {
          "base_uri": "https://localhost:8080/",
          "height": 0
        }
      },
      "execution_count": 36,
      "outputs": [
        {
          "output_type": "stream",
          "name": "stdout",
          "text": [
            "              precision    recall  f1-score   support\n",
            "\n",
            "    negative       0.32      0.51      0.39       575\n",
            "     neutral       0.47      0.16      0.24      1653\n",
            "    positive       0.55      0.80      0.65      1613\n",
            "\n",
            "    accuracy                           0.48      3841\n",
            "   macro avg       0.45      0.49      0.43      3841\n",
            "weighted avg       0.48      0.48      0.44      3841\n",
            "\n"
          ]
        },
        {
          "output_type": "display_data",
          "data": {
            "text/plain": [
              "<Figure size 800x400 with 2 Axes>"
            ],
            "image/png": "[encoded data removed]"
          },
          "metadata": {}
        }
      ]
    },
    {
      "cell_type": "code",
      "source": [
        "joint_sentiment_analysis.analyze_prediction_for_document(document_id=0, train_or_test='test')"
      ],
      "metadata": {
        "colab": {
          "base_uri": "https://localhost:8080/",
          "height": 0
        },
        "id": "LmM9R0-Oh_M7",
        "outputId": "e77174af-10b5-4b5c-86f8-89a6a97bf715"
      },
      "execution_count": 37,
      "outputs": [
        {
          "output_type": "stream",
          "name": "stdout",
          "text": [
            "Document: But the staff was so horrible to us.\n",
            "True Sentiment: negative\n",
            "Prediction: negative\n",
            "\n"
          ]
        },
        {
          "output_type": "execute_result",
          "data": {
            "text/plain": [
              "             negative   neutral  positive\n",
              "probability   0.58473  0.271331  0.143939"
            ],
            "text/html": [
              "\n",
              "  <div id=\"df-8a77062e-5d1c-41b8-a7b0-f818d7a0b501\" class=\"colab-df-container\">\n",
              "    <div>\n",
              "<style scoped>\n",
              "    .dataframe tbody tr th:only-of-type {\n",
              "        vertical-align: middle;\n",
              "    }\n",
              "\n",
              "    .dataframe tbody tr th {\n",
              "        vertical-align: top;\n",
              "    }\n",
              "\n",
              "    .dataframe thead th {\n",
              "        text-align: right;\n",
              "    }\n",
              "</style>\n",
              "<table border=\"1\" class=\"dataframe\">\n",
              "  <thead>\n",
              "    <tr style=\"text-align: right;\">\n",
              "      <th></th>\n",
              "      <th>negative</th>\n",
              "      <th>neutral</th>\n",
              "      <th>positive</th>\n",
              "    </tr>\n",
              "  </thead>\n",
              "  <tbody>\n",
              "    <tr>\n",
              "      <th>probability</th>\n",
              "      <td>0.58473</td>\n",
              "      <td>0.271331</td>\n",
              "      <td>0.143939</td>\n",
              "    </tr>\n",
              "  </tbody>\n",
              "</table>\n",
              "</div>\n",
              "    <div class=\"colab-df-buttons\">\n",
              "\n",
              "  <div class=\"colab-df-container\">\n",
              "    <button class=\"colab-df-convert\" onclick=\"convertToInteractive('df-8a77062e-5d1c-41b8-a7b0-f818d7a0b501')\"\n",
              "            title=\"Convert this dataframe to an interactive table.\"\n",
              "            style=\"display:none;\">\n",
              "\n",
              "  <svg xmlns=\"http://www.w3.org/2000/svg\" height=\"24px\" viewBox=\"0 -960 960 960\">\n",
              "    <path d=\"M120-120v-720h720v720H120Zm60-500h600v-160H180v160Zm220 220h160v-160H400v160Zm0 220h160v-160H400v160ZM180-400h160v-160H180v160Zm440 0h160v-160H620v160ZM180-180h160v-160H180v160Zm440 0h160v-160H620v160Z\"/>\n",
              "  </svg>\n",
              "    </button>\n",
              "\n",
              "  <style>\n",
              "    .colab-df-container {\n",
              "      display:flex;\n",
              "      gap: 12px;\n",
              "    }\n",
              "\n",
              "    .colab-df-convert {\n",
              "      background-color: #E8F0FE;\n",
              "      border: none;\n",
              "      border-radius: 50%;\n",
              "      cursor: pointer;\n",
              "      display: none;\n",
              "      fill: #1967D2;\n",
              "      height: 32px;\n",
              "      padding: 0 0 0 0;\n",
              "      width: 32px;\n",
              "    }\n",
              "\n",
              "    .colab-df-convert:hover {\n",
              "      background-color: #E2EBFA;\n",
              "      box-shadow: 0px 1px 2px rgba(60, 64, 67, 0.3), 0px 1px 3px 1px rgba(60, 64, 67, 0.15);\n",
              "      fill: #174EA6;\n",
              "    }\n",
              "\n",
              "    .colab-df-buttons div {\n",
              "      margin-bottom: 4px;\n",
              "    }\n",
              "\n",
              "    [theme=dark] .colab-df-convert {\n",
              "      background-color: #3B4455;\n",
              "      fill: #D2E3FC;\n",
              "    }\n",
              "\n",
              "    [theme=dark] .colab-df-convert:hover {\n",
              "      background-color: #434B5C;\n",
              "      box-shadow: 0px 1px 3px 1px rgba(0, 0, 0, 0.15);\n",
              "      filter: drop-shadow(0px 1px 2px rgba(0, 0, 0, 0.3));\n",
              "      fill: #FFFFFF;\n",
              "    }\n",
              "  </style>\n",
              "\n",
              "    <script>\n",
              "      const buttonEl =\n",
              "        document.querySelector('#df-8a77062e-5d1c-41b8-a7b0-f818d7a0b501 button.colab-df-convert');\n",
              "      buttonEl.style.display =\n",
              "        google.colab.kernel.accessAllowed ? 'block' : 'none';\n",
              "\n",
              "      async function convertToInteractive(key) {\n",
              "        const element = document.querySelector('#df-8a77062e-5d1c-41b8-a7b0-f818d7a0b501');\n",
              "        const dataTable =\n",
              "          await google.colab.kernel.invokeFunction('convertToInteractive',\n",
              "                                                    [key], {});\n",
              "        if (!dataTable) return;\n",
              "\n",
              "        const docLinkHtml = 'Like what you see? Visit the ' +\n",
              "          '<a target=\"_blank\" href=https://colab.research.google.com/notebooks/data_table.ipynb>data table notebook</a>'\n",
              "          + ' to learn more about interactive tables.';\n",
              "        element.innerHTML = '';\n",
              "        dataTable['output_type'] = 'display_data';\n",
              "        await google.colab.output.renderOutput(dataTable, element);\n",
              "        const docLink = document.createElement('div');\n",
              "        docLink.innerHTML = docLinkHtml;\n",
              "        element.appendChild(docLink);\n",
              "      }\n",
              "    </script>\n",
              "  </div>\n",
              "\n",
              "\n",
              "    </div>\n",
              "  </div>\n"
            ],
            "application/vnd.google.colaboratory.intrinsic+json": {
              "type": "dataframe",
              "summary": "{\n  \"name\": \"joint_sentiment_analysis\",\n  \"rows\": 1,\n  \"fields\": [\n    {\n      \"column\": \"negative\",\n      \"properties\": {\n        \"dtype\": \"number\",\n        \"std\": null,\n        \"min\": 0.5847296316447668,\n        \"max\": 0.5847296316447668,\n        \"num_unique_values\": 1,\n        \"samples\": [\n          0.5847296316447668\n        ],\n        \"semantic_type\": \"\",\n        \"description\": \"\"\n      }\n    },\n    {\n      \"column\": \"neutral\",\n      \"properties\": {\n        \"dtype\": \"number\",\n        \"std\": null,\n        \"min\": 0.2713311692784099,\n        \"max\": 0.2713311692784099,\n        \"num_unique_values\": 1,\n        \"samples\": [\n          0.2713311692784099\n        ],\n        \"semantic_type\": \"\",\n        \"description\": \"\"\n      }\n    },\n    {\n      \"column\": \"positive\",\n      \"properties\": {\n        \"dtype\": \"number\",\n        \"std\": null,\n        \"min\": 0.1439391990768232,\n        \"max\": 0.1439391990768232,\n        \"num_unique_values\": 1,\n        \"samples\": [\n          0.1439391990768232\n        ],\n        \"semantic_type\": \"\",\n        \"description\": \"\"\n      }\n    }\n  ]\n}"
            }
          },
          "metadata": {},
          "execution_count": 37
        }
      ]
    },
    {
      "cell_type": "code",
      "source": [
        "negative, neutral, positive = joint_sentiment_analysis.get_global_explain()\n",
        "display(negative.head()), display(neutral.head()), display(positive.head())"
      ],
      "metadata": {
        "colab": {
          "base_uri": "https://localhost:8080/",
          "height": 0
        },
        "id": "xU-rtytwBWpI",
        "outputId": "fd4ee8d3-3bcc-4e4a-9f4d-958676f9d32c"
      },
      "execution_count": 38,
      "outputs": [
        {
          "output_type": "display_data",
          "data": {
            "text/plain": [
              "worst       0.012461\n",
              "waste       0.012040\n",
              "awful       0.011083\n",
              "threw       0.010737\n",
              "horrible    0.010479\n",
              "Name: negative, dtype: float64"
            ],
            "text/html": [
              "<div>\n",
              "<style scoped>\n",
              "    .dataframe tbody tr th:only-of-type {\n",
              "        vertical-align: middle;\n",
              "    }\n",
              "\n",
              "    .dataframe tbody tr th {\n",
              "        vertical-align: top;\n",
              "    }\n",
              "\n",
              "    .dataframe thead th {\n",
              "        text-align: right;\n",
              "    }\n",
              "</style>\n",
              "<table border=\"1\" class=\"dataframe\">\n",
              "  <thead>\n",
              "    <tr style=\"text-align: right;\">\n",
              "      <th></th>\n",
              "      <th>negative</th>\n",
              "    </tr>\n",
              "  </thead>\n",
              "  <tbody>\n",
              "    <tr>\n",
              "      <th>worst</th>\n",
              "      <td>0.012461</td>\n",
              "    </tr>\n",
              "    <tr>\n",
              "      <th>waste</th>\n",
              "      <td>0.012040</td>\n",
              "    </tr>\n",
              "    <tr>\n",
              "      <th>awful</th>\n",
              "      <td>0.011083</td>\n",
              "    </tr>\n",
              "    <tr>\n",
              "      <th>threw</th>\n",
              "      <td>0.010737</td>\n",
              "    </tr>\n",
              "    <tr>\n",
              "      <th>horrible</th>\n",
              "      <td>0.010479</td>\n",
              "    </tr>\n",
              "  </tbody>\n",
              "</table>\n",
              "</div><br><label><b>dtype:</b> float64</label>"
            ]
          },
          "metadata": {}
        },
        {
          "output_type": "display_data",
          "data": {
            "text/plain": [
              "great    0.008721\n",
              "ok       0.008186\n",
              "okay     0.006739\n",
              "!        0.006372\n",
              "best     0.005635\n",
              "Name: neutral, dtype: float64"
            ],
            "text/html": [
              "<div>\n",
              "<style scoped>\n",
              "    .dataframe tbody tr th:only-of-type {\n",
              "        vertical-align: middle;\n",
              "    }\n",
              "\n",
              "    .dataframe tbody tr th {\n",
              "        vertical-align: top;\n",
              "    }\n",
              "\n",
              "    .dataframe thead th {\n",
              "        text-align: right;\n",
              "    }\n",
              "</style>\n",
              "<table border=\"1\" class=\"dataframe\">\n",
              "  <thead>\n",
              "    <tr style=\"text-align: right;\">\n",
              "      <th></th>\n",
              "      <th>neutral</th>\n",
              "    </tr>\n",
              "  </thead>\n",
              "  <tbody>\n",
              "    <tr>\n",
              "      <th>great</th>\n",
              "      <td>0.008721</td>\n",
              "    </tr>\n",
              "    <tr>\n",
              "      <th>ok</th>\n",
              "      <td>0.008186</td>\n",
              "    </tr>\n",
              "    <tr>\n",
              "      <th>okay</th>\n",
              "      <td>0.006739</td>\n",
              "    </tr>\n",
              "    <tr>\n",
              "      <th>!</th>\n",
              "      <td>0.006372</td>\n",
              "    </tr>\n",
              "    <tr>\n",
              "      <th>best</th>\n",
              "      <td>0.005635</td>\n",
              "    </tr>\n",
              "  </tbody>\n",
              "</table>\n",
              "</div><br><label><b>dtype:</b> float64</label>"
            ]
          },
          "metadata": {}
        },
        {
          "output_type": "display_data",
          "data": {
            "text/plain": [
              "great        0.014302\n",
              "perfect      0.012832\n",
              "highly       0.012280\n",
              "!            0.012257\n",
              "delicious    0.011616\n",
              "Name: positive, dtype: float64"
            ],
            "text/html": [
              "<div>\n",
              "<style scoped>\n",
              "    .dataframe tbody tr th:only-of-type {\n",
              "        vertical-align: middle;\n",
              "    }\n",
              "\n",
              "    .dataframe tbody tr th {\n",
              "        vertical-align: top;\n",
              "    }\n",
              "\n",
              "    .dataframe thead th {\n",
              "        text-align: right;\n",
              "    }\n",
              "</style>\n",
              "<table border=\"1\" class=\"dataframe\">\n",
              "  <thead>\n",
              "    <tr style=\"text-align: right;\">\n",
              "      <th></th>\n",
              "      <th>positive</th>\n",
              "    </tr>\n",
              "  </thead>\n",
              "  <tbody>\n",
              "    <tr>\n",
              "      <th>great</th>\n",
              "      <td>0.014302</td>\n",
              "    </tr>\n",
              "    <tr>\n",
              "      <th>perfect</th>\n",
              "      <td>0.012832</td>\n",
              "    </tr>\n",
              "    <tr>\n",
              "      <th>highly</th>\n",
              "      <td>0.012280</td>\n",
              "    </tr>\n",
              "    <tr>\n",
              "      <th>!</th>\n",
              "      <td>0.012257</td>\n",
              "    </tr>\n",
              "    <tr>\n",
              "      <th>delicious</th>\n",
              "      <td>0.011616</td>\n",
              "    </tr>\n",
              "  </tbody>\n",
              "</table>\n",
              "</div><br><label><b>dtype:</b> float64</label>"
            ]
          },
          "metadata": {}
        },
        {
          "output_type": "execute_result",
          "data": {
            "text/plain": [
              "(None, None, None)"
            ]
          },
          "metadata": {},
          "execution_count": 38
        }
      ]
    },
    {
      "cell_type": "markdown",
      "source": [
        "## Aspect Detection"
      ],
      "metadata": {
        "id": "W4IcSArgZ-2z"
      }
    },
    {
      "cell_type": "code",
      "source": [
        "class AspectDetection:\n",
        "    def __init__(self, sentiment_analysis):\n",
        "        self.clf = sentiment_analysis.clf\n",
        "        self.vec = sentiment_analysis.vec\n",
        "        self.features = sentiment_analysis.features\n",
        "        self.class_labels = sentiment_analysis.class_labels\n",
        "        self.train_df = sentiment_analysis.train_df\n",
        "        self.test_df = sentiment_analysis.test_df\n",
        "        self.X_train = sentiment_analysis.X_train\n",
        "        self.X_test = sentiment_analysis.X_test\n",
        "\n",
        "        self.train_df['TOKENS'], self.train_df['NOUNS'] = zip(*self.train_df['Document'].apply(self.detect_nouns).tolist())\n",
        "        self.test_df['TOKENS'], self.test_df['NOUNS'] = zip(*self.test_df['Document'].apply(self.detect_nouns).tolist())\n",
        "\n",
        "        self.train_df['PREDICTION'] = self.clf.predict(self.X_train)\n",
        "        self.test_df['PREDICTION'] = self.clf.predict(self.X_test)\n",
        "\n",
        "    def detect_nouns(self, document):\n",
        "        doc = nlp(document)\n",
        "        tokens = [token.text.lower() for token in doc]\n",
        "        nouns = [token.text.lower() for token in doc if token.pos_ in ['NOUN', 'PROPN']]\n",
        "        return tokens, nouns\n",
        "\n",
        "    def shorten_aspect_tokens(self, set1, set2):\n",
        "        '''\n",
        "        This function aims to match the tokens in set1 with the tokens in set2 in cases\n",
        "        that the string in one set is substring in another. For example, when dealing\n",
        "        with evaluation of aspects such as \"battery life\", it could be seen equivalent\n",
        "        to \"battery\" or \"battery life expectancy\" for a more accurate evaluation.\n",
        "        '''\n",
        "        set1_reduced = set()\n",
        "        for t in set1:\n",
        "            match_found = False\n",
        "            for c in set2:\n",
        "                if t in c:\n",
        "                    set1_reduced.add(t)\n",
        "                    match_found = True\n",
        "                    break\n",
        "                elif c in t:\n",
        "                    set1_reduced.add(c)\n",
        "                    match_found = True\n",
        "                    break\n",
        "            if not match_found:\n",
        "                set1_reduced.add(t)\n",
        "        return set1_reduced\n",
        "\n",
        "    def get_candidate_aspects(self, vectorized_doc, PREDICTION, NOUNS, aspect_threshold=0):\n",
        "        '''\n",
        "        For a given vectorized document, first we compute its overall sentiment, based\n",
        "        on which we retrieve the corresponding explanatory features. Then, we keep the\n",
        "        non-zero features (controlled by threshold), filtering only nouns as aspects\n",
        "        '''\n",
        "        local_explain = pd.DataFrame(self.clf.explain(vectorized_doc).toarray(), index=self.features, columns=self.class_labels)\n",
        "        candidates = local_explain[PREDICTION][local_explain[PREDICTION] > aspect_threshold]\n",
        "        return [candidate for candidate in candidates.index if candidate in NOUNS]\n",
        "\n",
        "    def evaluate_aspect_detection(self, aspect_threshold=0, train_or_test='train'):\n",
        "        '''\n",
        "        True Positive (TP): Elements in both candidate_set and true_set.\n",
        "        False Positive (FP): Elements in candidate_set but not in true_set.\n",
        "        False Negative (FN): Elements in true_set but not in candidate_set.\n",
        "        True Negative (TN): Rewarded when both sets are empty\n",
        "        '''\n",
        "        TP, FP, TN, FN = 0, 0, 0, 0\n",
        "\n",
        "        if train_or_test == 'train':\n",
        "            df = self.train_df\n",
        "            X = self.X_train\n",
        "        elif train_or_test == 'test':\n",
        "            df = self.test_df\n",
        "            X = self.X_test\n",
        "\n",
        "        all_tokens = df['TOKENS'].tolist()\n",
        "        true_aspects = [[aspect.lower() for aspect in aspects] for aspects in df['Aspects'].tolist()]\n",
        "        candidate_aspects = df.apply(lambda d: self.get_candidate_aspects(\n",
        "                vectorized_doc=X[d.name],\n",
        "                PREDICTION=d.PREDICTION,\n",
        "                NOUNS=d.NOUNS,\n",
        "                aspect_threshold=aspect_threshold\n",
        "            ),\n",
        "            axis=1\n",
        "        ).tolist()\n",
        "\n",
        "        for candidate_aspect, true_aspect, tokens in zip(candidate_aspects, true_aspects, all_tokens):\n",
        "            candidate_aspect = self.shorten_aspect_tokens(set(candidate_aspect), set(true_aspect))\n",
        "            true_aspect = self.shorten_aspect_tokens(set(true_aspect), set(candidate_aspect))\n",
        "\n",
        "            TP += len(candidate_aspect & true_aspect)\n",
        "            FP += len(candidate_aspect - true_aspect)\n",
        "            FN += len(true_aspect - candidate_aspect)\n",
        "            TN += len(set(tokens) - candidate_aspect - true_aspect)\n",
        "\n",
        "        accuracy = (TP + TN) / (TP + TN + FP + FN)\n",
        "        precision = TP / (TP + FP) if (TP + FP) > 0 else 0\n",
        "        recall = TP / (TP + FN) if (TP + FN) > 0 else 0\n",
        "        f1 = 2 * precision * recall / (precision + recall) if precision + recall > 0 else 0\n",
        "        evaluation_metrics = {'accuracy': accuracy, 'precision': precision, 'recall': recall, 'f1': f1}\n",
        "\n",
        "        cm = pd.DataFrame(np.array([[TP, FN],[FP, TN]]),\n",
        "            index=['Aspect', 'Non-Aspect'],\n",
        "            columns=['Aspect', 'Non-Aspect'])\n",
        "\n",
        "        return evaluation_metrics, cm\n",
        "\n",
        "    def get_sentence_for_aspects(self, document, aspects, aspect_sentiments):\n",
        "        '''\n",
        "        For a given document (which might contain multiple sentences), it splits\n",
        "        the doc into sentences, transform them using the same transformation on\n",
        "        aspects, and returns the first-matching sentence for each aspect.\n",
        "        '''\n",
        "        clean_sides = string.punctuation + string.whitespace\n",
        "        sentences = re.split(r'(?<=[:;.!?()])', document)\n",
        "        sentences = [sentence.strip(clean_sides) for sentence in sentences if sentence.strip(clean_sides)]\n",
        "\n",
        "        return pd.DataFrame([\n",
        "            {'Aspect': aspect, 'Sentence': sentence, 'Aspect_Sentiment': aspect_sentiment}\n",
        "            for aspect, aspect_sentiment in zip(aspects, aspect_sentiments)\n",
        "            for sentence in [next((s for s in sentences if aspect.lower() in s.lower()), None)]\n",
        "            if sentence is not None\n",
        "        ])\n",
        "\n",
        "    def get_df_aspect_sentence_sentiment(self):\n",
        "        df = pd.concat([self.train_df, self.test_df], ignore_index=True)\n",
        "        df = pd.concat(\n",
        "            df.apply(\n",
        "                lambda d: self.get_sentence_for_aspects(d.Document, d.Aspects, d.Aspect_Sentiments),\n",
        "                axis=1\n",
        "            ).tolist(),\n",
        "            ignore_index=True\n",
        "        )\n",
        "        df = df[df['Aspect_Sentiment'] != 'conflict']\n",
        "        return df\n",
        "\n",
        "    def evaluate_aspect_sentiments_in_portions(self):\n",
        "        '''\n",
        "        In the whole dataset, detect the corresponding sentence portion for each\n",
        "        aspect, and compare the true aspect sentiment with the predicted sentiment\n",
        "        for the portion.\n",
        "        '''\n",
        "        df = self.get_df_aspect_sentence_sentiment()\n",
        "        df['Predicted_Aspect_Sentiment'] = self.clf.predict(self.vec.transform(df['Sentence']))\n",
        "\n",
        "        print(classification_report(df['Aspect_Sentiment'], df['Predicted_Aspect_Sentiment']))\n",
        "        cm = confusion_matrix(df['Aspect_Sentiment'], df['Predicted_Aspect_Sentiment'], labels=self.class_labels)\n",
        "        return cm\n",
        "\n",
        "\n",
        "AD = AspectDetection(semeval_sentiment_analysis)"
      ],
      "metadata": {
        "id": "OMMUuZ7KbfvP"
      },
      "execution_count": 39,
      "outputs": []
    },
    {
      "cell_type": "markdown",
      "source": [
        "### Optimizing Aspect Detection Threshold"
      ],
      "metadata": {
        "id": "WXOkHxjLrJf9"
      }
    },
    {
      "cell_type": "markdown",
      "source": [
        "It took `06:25:11` to run, giving `Best F1-Score: 0.568` with `Corresponding Aspect Threshold: 0.000395`"
      ],
      "metadata": {
        "id": "5EePHK7teU19"
      }
    },
    {
      "cell_type": "code",
      "source": [
        "load_evaluations = True\n",
        "\n",
        "if load_evaluations:\n",
        "    evaluations_df = joblib.load(f'{SAVE_DRIVE_PATH}/evaluations.pkl')\n",
        "else:\n",
        "    evaluations_list = list()\n",
        "    aspect_thresholds = tqdm(np.linspace(0.0001, 0.002, 1200))\n",
        "\n",
        "    for aspect_threshold in aspect_thresholds:\n",
        "        evaluation_metrics, _ = AD.evaluate_aspect_detection(aspect_threshold, train_or_test='train')\n",
        "        evaluations_list.append(evaluation_metrics)\n",
        "        aspect_thresholds.set_description(f'Threshold: {aspect_threshold:.6f}       ' +\n",
        "                                        f'Accuracy: {evaluation_metrics[\"accuracy\"]:.2f}, ' +\n",
        "                                        f'Precision: {evaluation_metrics[\"precision\"]:.2f}, ' +\n",
        "                                        f'Recall: {evaluation_metrics[\"recall\"]:.2f}, ' +\n",
        "                                        f'F-1: {evaluation_metrics[\"f1\"]:.2f}')\n",
        "\n",
        "    evaluations_df = pd.DataFrame(evaluations_list, index=aspect_thresholds)\n",
        "    joblib.dump(evaluations_df, f'{SAVE_DRIVE_PATH}/evaluations.pkl')\n",
        "\n",
        "\n",
        "best_aspect_threshold = evaluations_df['f1'].idxmax()\n",
        "best_f1_score = evaluations_df.loc[best_aspect_threshold, 'f1']\n",
        "\n",
        "print(f'Best F1-Score: {best_f1_score:.3f}')\n",
        "print(f'Corresponding Aspect Threshold: {best_aspect_threshold:.6f}\\n')"
      ],
      "metadata": {
        "colab": {
          "base_uri": "https://localhost:8080/"
        },
        "id": "_vwUa_lBZper",
        "outputId": "398d3147-055b-4ed5-9e3b-992990d04d15"
      },
      "execution_count": 40,
      "outputs": [
        {
          "output_type": "stream",
          "name": "stdout",
          "text": [
            "Best F1-Score: 0.568\n",
            "Corresponding Aspect Threshold: 0.000395\n",
            "\n"
          ]
        }
      ]
    },
    {
      "cell_type": "code",
      "source": [
        "df = evaluations_df.reset_index(names='Threshold').melt(id_vars='Threshold', var_name='Metric', value_name='Value')\n",
        "visualize.aspect_detection_evaluation(df, best_aspect_threshold)"
      ],
      "metadata": {
        "colab": {
          "base_uri": "https://localhost:8080/",
          "height": 0
        },
        "id": "XWfUvG4uf-EQ",
        "outputId": "c8ae13cc-1014-4ae0-e0e5-86eacc1ccda8"
      },
      "execution_count": 41,
      "outputs": [
        {
          "output_type": "display_data",
          "data": {
            "text/plain": [
              "<Figure size 1000x600 with 1 Axes>"
            ],
            "image/png": "[encoded data removed]"
          },
          "metadata": {}
        }
      ]
    },
    {
      "cell_type": "markdown",
      "source": [
        "### Sample Aspect Detection and Token Shortener"
      ],
      "metadata": {
        "id": "NmUos850ZMDe"
      }
    },
    {
      "cell_type": "code",
      "source": [
        "document_id = 15\n",
        "vectorized_doc = AD.X_train[document_id]\n",
        "\n",
        "row = AD.train_df.iloc[document_id]\n",
        "document = row.Document\n",
        "PREDICTION = row.PREDICTION\n",
        "NOUNS = row.NOUNS\n",
        "\n",
        "true_aspects = row.Aspects\n",
        "candidate_aspects = AD.get_candidate_aspects(vectorized_doc, PREDICTION, NOUNS, aspect_threshold=best_aspect_threshold)\n",
        "\n",
        "print(f'Document: {document}\\nTrue Aspects: {true_aspects}\\nDetected Aspects: {candidate_aspects}')"
      ],
      "metadata": {
        "colab": {
          "base_uri": "https://localhost:8080/"
        },
        "id": "bthq0_miZPMA",
        "outputId": "090cebf5-6eb3-4a26-afba-5c5e687af873"
      },
      "execution_count": 42,
      "outputs": [
        {
          "output_type": "stream",
          "name": "stdout",
          "text": [
            "Document: The pizza is the best if you like thin crusted pizza.\n",
            "True Aspects: ['pizza', 'thin crusted pizza']\n",
            "Detected Aspects: ['pizza']\n"
          ]
        }
      ]
    },
    {
      "cell_type": "code",
      "source": [
        "true_aspects_shortened = AD.shorten_aspect_tokens(true_aspects, candidate_aspects)\n",
        "candidate_aspects_shortened = AD.shorten_aspect_tokens(candidate_aspects, true_aspects)\n",
        "\n",
        "print(f'Shortened True Aspects: {true_aspects_shortened}')\n",
        "print(f'Shortened Candidate Aspects: {candidate_aspects_shortened}')"
      ],
      "metadata": {
        "colab": {
          "base_uri": "https://localhost:8080/"
        },
        "id": "y66sv2Xpa4Wd",
        "outputId": "7e6fb6b5-c9cf-4914-e2e4-c5efef534b81"
      },
      "execution_count": 43,
      "outputs": [
        {
          "output_type": "stream",
          "name": "stdout",
          "text": [
            "Shortened True Aspects: {'pizza'}\n",
            "Shortened Candidate Aspects: {'pizza'}\n"
          ]
        }
      ]
    },
    {
      "cell_type": "markdown",
      "source": [
        "### Aspect Detection Evaluation on Test Data"
      ],
      "metadata": {
        "id": "54szvdn6GQo9"
      }
    },
    {
      "cell_type": "code",
      "source": [
        "evaluation_metrics, cm = AD.evaluate_aspect_detection(best_aspect_threshold, train_or_test='test')\n",
        "pd.DataFrame([evaluation_metrics], index=['value'])"
      ],
      "metadata": {
        "colab": {
          "base_uri": "https://localhost:8080/",
          "height": 0
        },
        "id": "16VVQe-TyxlP",
        "outputId": "bf00e631-f535-4b54-e4bd-1a39e03c834a"
      },
      "execution_count": 44,
      "outputs": [
        {
          "output_type": "execute_result",
          "data": {
            "text/plain": [
              "       accuracy  precision    recall        f1\n",
              "value  0.918509   0.548289  0.800893  0.650943"
            ],
            "text/html": [
              "\n",
              "  <div id=\"df-7bbfcff1-2578-475e-8237-74bf5eff905a\" class=\"colab-df-container\">\n",
              "    <div>\n",
              "<style scoped>\n",
              "    .dataframe tbody tr th:only-of-type {\n",
              "        vertical-align: middle;\n",
              "    }\n",
              "\n",
              "    .dataframe tbody tr th {\n",
              "        vertical-align: top;\n",
              "    }\n",
              "\n",
              "    .dataframe thead th {\n",
              "        text-align: right;\n",
              "    }\n",
              "</style>\n",
              "<table border=\"1\" class=\"dataframe\">\n",
              "  <thead>\n",
              "    <tr style=\"text-align: right;\">\n",
              "      <th></th>\n",
              "      <th>accuracy</th>\n",
              "      <th>precision</th>\n",
              "      <th>recall</th>\n",
              "      <th>f1</th>\n",
              "    </tr>\n",
              "  </thead>\n",
              "  <tbody>\n",
              "    <tr>\n",
              "      <th>value</th>\n",
              "      <td>0.918509</td>\n",
              "      <td>0.548289</td>\n",
              "      <td>0.800893</td>\n",
              "      <td>0.650943</td>\n",
              "    </tr>\n",
              "  </tbody>\n",
              "</table>\n",
              "</div>\n",
              "    <div class=\"colab-df-buttons\">\n",
              "\n",
              "  <div class=\"colab-df-container\">\n",
              "    <button class=\"colab-df-convert\" onclick=\"convertToInteractive('df-7bbfcff1-2578-475e-8237-74bf5eff905a')\"\n",
              "            title=\"Convert this dataframe to an interactive table.\"\n",
              "            style=\"display:none;\">\n",
              "\n",
              "  <svg xmlns=\"http://www.w3.org/2000/svg\" height=\"24px\" viewBox=\"0 -960 960 960\">\n",
              "    <path d=\"M120-120v-720h720v720H120Zm60-500h600v-160H180v160Zm220 220h160v-160H400v160Zm0 220h160v-160H400v160ZM180-400h160v-160H180v160Zm440 0h160v-160H620v160ZM180-180h160v-160H180v160Zm440 0h160v-160H620v160Z\"/>\n",
              "  </svg>\n",
              "    </button>\n",
              "\n",
              "  <style>\n",
              "    .colab-df-container {\n",
              "      display:flex;\n",
              "      gap: 12px;\n",
              "    }\n",
              "\n",
              "    .colab-df-convert {\n",
              "      background-color: #E8F0FE;\n",
              "      border: none;\n",
              "      border-radius: 50%;\n",
              "      cursor: pointer;\n",
              "      display: none;\n",
              "      fill: #1967D2;\n",
              "      height: 32px;\n",
              "      padding: 0 0 0 0;\n",
              "      width: 32px;\n",
              "    }\n",
              "\n",
              "    .colab-df-convert:hover {\n",
              "      background-color: #E2EBFA;\n",
              "      box-shadow: 0px 1px 2px rgba(60, 64, 67, 0.3), 0px 1px 3px 1px rgba(60, 64, 67, 0.15);\n",
              "      fill: #174EA6;\n",
              "    }\n",
              "\n",
              "    .colab-df-buttons div {\n",
              "      margin-bottom: 4px;\n",
              "    }\n",
              "\n",
              "    [theme=dark] .colab-df-convert {\n",
              "      background-color: #3B4455;\n",
              "      fill: #D2E3FC;\n",
              "    }\n",
              "\n",
              "    [theme=dark] .colab-df-convert:hover {\n",
              "      background-color: #434B5C;\n",
              "      box-shadow: 0px 1px 3px 1px rgba(0, 0, 0, 0.15);\n",
              "      filter: drop-shadow(0px 1px 2px rgba(0, 0, 0, 0.3));\n",
              "      fill: #FFFFFF;\n",
              "    }\n",
              "  </style>\n",
              "\n",
              "    <script>\n",
              "      const buttonEl =\n",
              "        document.querySelector('#df-7bbfcff1-2578-475e-8237-74bf5eff905a button.colab-df-convert');\n",
              "      buttonEl.style.display =\n",
              "        google.colab.kernel.accessAllowed ? 'block' : 'none';\n",
              "\n",
              "      async function convertToInteractive(key) {\n",
              "        const element = document.querySelector('#df-7bbfcff1-2578-475e-8237-74bf5eff905a');\n",
              "        const dataTable =\n",
              "          await google.colab.kernel.invokeFunction('convertToInteractive',\n",
              "                                                    [key], {});\n",
              "        if (!dataTable) return;\n",
              "\n",
              "        const docLinkHtml = 'Like what you see? Visit the ' +\n",
              "          '<a target=\"_blank\" href=https://colab.research.google.com/notebooks/data_table.ipynb>data table notebook</a>'\n",
              "          + ' to learn more about interactive tables.';\n",
              "        element.innerHTML = '';\n",
              "        dataTable['output_type'] = 'display_data';\n",
              "        await google.colab.output.renderOutput(dataTable, element);\n",
              "        const docLink = document.createElement('div');\n",
              "        docLink.innerHTML = docLinkHtml;\n",
              "        element.appendChild(docLink);\n",
              "      }\n",
              "    </script>\n",
              "  </div>\n",
              "\n",
              "\n",
              "    </div>\n",
              "  </div>\n"
            ],
            "application/vnd.google.colaboratory.intrinsic+json": {
              "type": "dataframe",
              "summary": "{\n  \"name\": \"pd\",\n  \"rows\": 1,\n  \"fields\": [\n    {\n      \"column\": \"accuracy\",\n      \"properties\": {\n        \"dtype\": \"number\",\n        \"std\": null,\n        \"min\": 0.9185091063108852,\n        \"max\": 0.9185091063108852,\n        \"num_unique_values\": 1,\n        \"samples\": [\n          0.9185091063108852\n        ],\n        \"semantic_type\": \"\",\n        \"description\": \"\"\n      }\n    },\n    {\n      \"column\": \"precision\",\n      \"properties\": {\n        \"dtype\": \"number\",\n        \"std\": null,\n        \"min\": 0.5482885085574573,\n        \"max\": 0.5482885085574573,\n        \"num_unique_values\": 1,\n        \"samples\": [\n          0.5482885085574573\n        ],\n        \"semantic_type\": \"\",\n        \"description\": \"\"\n      }\n    },\n    {\n      \"column\": \"recall\",\n      \"properties\": {\n        \"dtype\": \"number\",\n        \"std\": null,\n        \"min\": 0.8008928571428572,\n        \"max\": 0.8008928571428572,\n        \"num_unique_values\": 1,\n        \"samples\": [\n          0.8008928571428572\n        ],\n        \"semantic_type\": \"\",\n        \"description\": \"\"\n      }\n    },\n    {\n      \"column\": \"f1\",\n      \"properties\": {\n        \"dtype\": \"number\",\n        \"std\": null,\n        \"min\": 0.6509433962264151,\n        \"max\": 0.6509433962264151,\n        \"num_unique_values\": 1,\n        \"samples\": [\n          0.6509433962264151\n        ],\n        \"semantic_type\": \"\",\n        \"description\": \"\"\n      }\n    }\n  ]\n}"
            }
          },
          "metadata": {},
          "execution_count": 44
        }
      ]
    },
    {
      "cell_type": "code",
      "source": [
        "visualize.confusion_matrix(cm, pred_labels=cm.columns, true_labels=cm.index)"
      ],
      "metadata": {
        "id": "EkKo4Iuj0DzE",
        "outputId": "acbdf1d9-bfd2-48f5-8674-1006241c939d",
        "colab": {
          "base_uri": "https://localhost:8080/",
          "height": 0
        }
      },
      "execution_count": 45,
      "outputs": [
        {
          "output_type": "display_data",
          "data": {
            "text/plain": [
              "<Figure size 800x400 with 2 Axes>"
            ],
            "image/png": "[encoded data removed]"
          },
          "metadata": {}
        }
      ]
    },
    {
      "cell_type": "markdown",
      "source": [
        "## Aspect-to-Sentence Association and Evaluation of Predicted Sentiments"
      ],
      "metadata": {
        "id": "aI0pkil0KTDi"
      }
    },
    {
      "cell_type": "markdown",
      "source": [
        "- First utilized sent_tokenize from NLTK, but it was unable to detect text portions as it only detects complete sentences.\n",
        "- Wanted to use a sophisticated detection of aspects in sentences based on vectorizing the tokens, but it didn't work well and there were inaccuracies due to out-of-vocabulary tokens.\n",
        "\n",
        "\n",
        "```python\n",
        "def find_aspect_in_sentences(self, aspect, transformed_aspect, sentences, transformed_sentences, aspect_sentiment):\n",
        "    '''\n",
        "    First, it finds the index of the aspect in the whole vocabulary, which might\n",
        "    have been transformed in any way (bigram, lemma, lowercase). Then, it finds\n",
        "    the first-matching sentence in the list of given sentences and returns it.\n",
        "    In the cases where the token is not in vocabulary, it directly looks for the\n",
        "    aspect in the sentence.\n",
        "    '''\n",
        "    aspect_token_indices = set(transformed_aspect.nonzero()[1])\n",
        "\n",
        "    for sentence, transformed_sentence in zip(sentences, transformed_sentences):\n",
        "        sentence_token_indices = transformed_sentence.nonzero()[1]\n",
        "        result = pd.Series({'Aspect': aspect, 'Sentence': sentence, 'Aspect_Sentiment': aspect_sentiment})\n",
        "\n",
        "        if not aspect_token_indices:\n",
        "            if aspect.lower() in sentence.lower():\n",
        "                return result\n",
        "        elif aspect_token_indices.issubset(sentence_token_indices):\n",
        "            return result\n",
        "```"
      ],
      "metadata": {
        "id": "VNZlU_OAuPmE"
      }
    },
    {
      "cell_type": "markdown",
      "source": [
        "### Sample Portion Detection for Aspects"
      ],
      "metadata": {
        "id": "GXD5vzDiG14f"
      }
    },
    {
      "cell_type": "code",
      "source": [
        "document_id = 453\n",
        "\n",
        "row = AD.test_df.iloc[document_id]\n",
        "document = row.Document\n",
        "true_aspects = row.Aspects\n",
        "aspect_sentiments = row.Aspect_Sentiments\n",
        "\n",
        "print(f'Document: {document}\\nTrue Aspects: {true_aspects}\\nAspect Sentiments: {aspect_sentiments}')"
      ],
      "metadata": {
        "colab": {
          "base_uri": "https://localhost:8080/"
        },
        "id": "nfEM41SYndit",
        "outputId": "088b7802-b1bb-4e53-c181-0c64f7f24b9d"
      },
      "execution_count": 46,
      "outputs": [
        {
          "output_type": "stream",
          "name": "stdout",
          "text": [
            "Document: You must try Odessa stew or Rabbit stew; salads-all good; and kompot is soo refreshing during the hot summer day (they make it the way my mom does, reminds me of home a lot).\n",
            "True Aspects: ['Odessa stew', 'Rabbit stew', 'salads', 'kompot']\n",
            "Aspect Sentiments: ['positive', 'positive', 'positive', 'positive']\n"
          ]
        }
      ]
    },
    {
      "cell_type": "code",
      "source": [
        "AD.get_sentence_for_aspects(document, true_aspects, aspect_sentiments)"
      ],
      "metadata": {
        "colab": {
          "base_uri": "https://localhost:8080/",
          "height": 175
        },
        "id": "gueq6XGfnxKy",
        "outputId": "bfc23366-ab4a-4231-d558-15d1fd2880d7"
      },
      "execution_count": 47,
      "outputs": [
        {
          "output_type": "execute_result",
          "data": {
            "text/plain": [
              "        Aspect                                           Sentence  \\\n",
              "0  Odessa stew            You must try Odessa stew or Rabbit stew   \n",
              "1  Rabbit stew            You must try Odessa stew or Rabbit stew   \n",
              "2       salads                                    salads-all good   \n",
              "3       kompot  and kompot is soo refreshing during the hot su...   \n",
              "\n",
              "  Aspect_Sentiment  \n",
              "0         positive  \n",
              "1         positive  \n",
              "2         positive  \n",
              "3         positive  "
            ],
            "text/html": [
              "\n",
              "  <div id=\"df-65d2934b-78ad-4f56-9497-604d73d0b67b\" class=\"colab-df-container\">\n",
              "    <div>\n",
              "<style scoped>\n",
              "    .dataframe tbody tr th:only-of-type {\n",
              "        vertical-align: middle;\n",
              "    }\n",
              "\n",
              "    .dataframe tbody tr th {\n",
              "        vertical-align: top;\n",
              "    }\n",
              "\n",
              "    .dataframe thead th {\n",
              "        text-align: right;\n",
              "    }\n",
              "</style>\n",
              "<table border=\"1\" class=\"dataframe\">\n",
              "  <thead>\n",
              "    <tr style=\"text-align: right;\">\n",
              "      <th></th>\n",
              "      <th>Aspect</th>\n",
              "      <th>Sentence</th>\n",
              "      <th>Aspect_Sentiment</th>\n",
              "    </tr>\n",
              "  </thead>\n",
              "  <tbody>\n",
              "    <tr>\n",
              "      <th>0</th>\n",
              "      <td>Odessa stew</td>\n",
              "      <td>You must try Odessa stew or Rabbit stew</td>\n",
              "      <td>positive</td>\n",
              "    </tr>\n",
              "    <tr>\n",
              "      <th>1</th>\n",
              "      <td>Rabbit stew</td>\n",
              "      <td>You must try Odessa stew or Rabbit stew</td>\n",
              "      <td>positive</td>\n",
              "    </tr>\n",
              "    <tr>\n",
              "      <th>2</th>\n",
              "      <td>salads</td>\n",
              "      <td>salads-all good</td>\n",
              "      <td>positive</td>\n",
              "    </tr>\n",
              "    <tr>\n",
              "      <th>3</th>\n",
              "      <td>kompot</td>\n",
              "      <td>and kompot is soo refreshing during the hot su...</td>\n",
              "      <td>positive</td>\n",
              "    </tr>\n",
              "  </tbody>\n",
              "</table>\n",
              "</div>\n",
              "    <div class=\"colab-df-buttons\">\n",
              "\n",
              "  <div class=\"colab-df-container\">\n",
              "    <button class=\"colab-df-convert\" onclick=\"convertToInteractive('df-65d2934b-78ad-4f56-9497-604d73d0b67b')\"\n",
              "            title=\"Convert this dataframe to an interactive table.\"\n",
              "            style=\"display:none;\">\n",
              "\n",
              "  <svg xmlns=\"http://www.w3.org/2000/svg\" height=\"24px\" viewBox=\"0 -960 960 960\">\n",
              "    <path d=\"M120-120v-720h720v720H120Zm60-500h600v-160H180v160Zm220 220h160v-160H400v160Zm0 220h160v-160H400v160ZM180-400h160v-160H180v160Zm440 0h160v-160H620v160ZM180-180h160v-160H180v160Zm440 0h160v-160H620v160Z\"/>\n",
              "  </svg>\n",
              "    </button>\n",
              "\n",
              "  <style>\n",
              "    .colab-df-container {\n",
              "      display:flex;\n",
              "      gap: 12px;\n",
              "    }\n",
              "\n",
              "    .colab-df-convert {\n",
              "      background-color: #E8F0FE;\n",
              "      border: none;\n",
              "      border-radius: 50%;\n",
              "      cursor: pointer;\n",
              "      display: none;\n",
              "      fill: #1967D2;\n",
              "      height: 32px;\n",
              "      padding: 0 0 0 0;\n",
              "      width: 32px;\n",
              "    }\n",
              "\n",
              "    .colab-df-convert:hover {\n",
              "      background-color: #E2EBFA;\n",
              "      box-shadow: 0px 1px 2px rgba(60, 64, 67, 0.3), 0px 1px 3px 1px rgba(60, 64, 67, 0.15);\n",
              "      fill: #174EA6;\n",
              "    }\n",
              "\n",
              "    .colab-df-buttons div {\n",
              "      margin-bottom: 4px;\n",
              "    }\n",
              "\n",
              "    [theme=dark] .colab-df-convert {\n",
              "      background-color: #3B4455;\n",
              "      fill: #D2E3FC;\n",
              "    }\n",
              "\n",
              "    [theme=dark] .colab-df-convert:hover {\n",
              "      background-color: #434B5C;\n",
              "      box-shadow: 0px 1px 3px 1px rgba(0, 0, 0, 0.15);\n",
              "      filter: drop-shadow(0px 1px 2px rgba(0, 0, 0, 0.3));\n",
              "      fill: #FFFFFF;\n",
              "    }\n",
              "  </style>\n",
              "\n",
              "    <script>\n",
              "      const buttonEl =\n",
              "        document.querySelector('#df-65d2934b-78ad-4f56-9497-604d73d0b67b button.colab-df-convert');\n",
              "      buttonEl.style.display =\n",
              "        google.colab.kernel.accessAllowed ? 'block' : 'none';\n",
              "\n",
              "      async function convertToInteractive(key) {\n",
              "        const element = document.querySelector('#df-65d2934b-78ad-4f56-9497-604d73d0b67b');\n",
              "        const dataTable =\n",
              "          await google.colab.kernel.invokeFunction('convertToInteractive',\n",
              "                                                    [key], {});\n",
              "        if (!dataTable) return;\n",
              "\n",
              "        const docLinkHtml = 'Like what you see? Visit the ' +\n",
              "          '<a target=\"_blank\" href=https://colab.research.google.com/notebooks/data_table.ipynb>data table notebook</a>'\n",
              "          + ' to learn more about interactive tables.';\n",
              "        element.innerHTML = '';\n",
              "        dataTable['output_type'] = 'display_data';\n",
              "        await google.colab.output.renderOutput(dataTable, element);\n",
              "        const docLink = document.createElement('div');\n",
              "        docLink.innerHTML = docLinkHtml;\n",
              "        element.appendChild(docLink);\n",
              "      }\n",
              "    </script>\n",
              "  </div>\n",
              "\n",
              "\n",
              "<div id=\"df-87ac6443-f114-4aa3-84b3-17e2d8e1c438\">\n",
              "  <button class=\"colab-df-quickchart\" onclick=\"quickchart('df-87ac6443-f114-4aa3-84b3-17e2d8e1c438')\"\n",
              "            title=\"Suggest charts\"\n",
              "            style=\"display:none;\">\n",
              "\n",
              "<svg xmlns=\"http://www.w3.org/2000/svg\" height=\"24px\"viewBox=\"0 0 24 24\"\n",
              "     width=\"24px\">\n",
              "    <g>\n",
              "        <path d=\"M19 3H5c-1.1 0-2 .9-2 2v14c0 1.1.9 2 2 2h14c1.1 0 2-.9 2-2V5c0-1.1-.9-2-2-2zM9 17H7v-7h2v7zm4 0h-2V7h2v10zm4 0h-2v-4h2v4z\"/>\n",
              "    </g>\n",
              "</svg>\n",
              "  </button>\n",
              "\n",
              "<style>\n",
              "  .colab-df-quickchart {\n",
              "      --bg-color: #E8F0FE;\n",
              "      --fill-color: #1967D2;\n",
              "      --hover-bg-color: #E2EBFA;\n",
              "      --hover-fill-color: #174EA6;\n",
              "      --disabled-fill-color: #AAA;\n",
              "      --disabled-bg-color: #DDD;\n",
              "  }\n",
              "\n",
              "  [theme=dark] .colab-df-quickchart {\n",
              "      --bg-color: #3B4455;\n",
              "      --fill-color: #D2E3FC;\n",
              "      --hover-bg-color: #434B5C;\n",
              "      --hover-fill-color: #FFFFFF;\n",
              "      --disabled-bg-color: #3B4455;\n",
              "      --disabled-fill-color: #666;\n",
              "  }\n",
              "\n",
              "  .colab-df-quickchart {\n",
              "    background-color: var(--bg-color);\n",
              "    border: none;\n",
              "    border-radius: 50%;\n",
              "    cursor: pointer;\n",
              "    display: none;\n",
              "    fill: var(--fill-color);\n",
              "    height: 32px;\n",
              "    padding: 0;\n",
              "    width: 32px;\n",
              "  }\n",
              "\n",
              "  .colab-df-quickchart:hover {\n",
              "    background-color: var(--hover-bg-color);\n",
              "    box-shadow: 0 1px 2px rgba(60, 64, 67, 0.3), 0 1px 3px 1px rgba(60, 64, 67, 0.15);\n",
              "    fill: var(--button-hover-fill-color);\n",
              "  }\n",
              "\n",
              "  .colab-df-quickchart-complete:disabled,\n",
              "  .colab-df-quickchart-complete:disabled:hover {\n",
              "    background-color: var(--disabled-bg-color);\n",
              "    fill: var(--disabled-fill-color);\n",
              "    box-shadow: none;\n",
              "  }\n",
              "\n",
              "  .colab-df-spinner {\n",
              "    border: 2px solid var(--fill-color);\n",
              "    border-color: transparent;\n",
              "    border-bottom-color: var(--fill-color);\n",
              "    animation:\n",
              "      spin 1s steps(1) infinite;\n",
              "  }\n",
              "\n",
              "  @keyframes spin {\n",
              "    0% {\n",
              "      border-color: transparent;\n",
              "      border-bottom-color: var(--fill-color);\n",
              "      border-left-color: var(--fill-color);\n",
              "    }\n",
              "    20% {\n",
              "      border-color: transparent;\n",
              "      border-left-color: var(--fill-color);\n",
              "      border-top-color: var(--fill-color);\n",
              "    }\n",
              "    30% {\n",
              "      border-color: transparent;\n",
              "      border-left-color: var(--fill-color);\n",
              "      border-top-color: var(--fill-color);\n",
              "      border-right-color: var(--fill-color);\n",
              "    }\n",
              "    40% {\n",
              "      border-color: transparent;\n",
              "      border-right-color: var(--fill-color);\n",
              "      border-top-color: var(--fill-color);\n",
              "    }\n",
              "    60% {\n",
              "      border-color: transparent;\n",
              "      border-right-color: var(--fill-color);\n",
              "    }\n",
              "    80% {\n",
              "      border-color: transparent;\n",
              "      border-right-color: var(--fill-color);\n",
              "      border-bottom-color: var(--fill-color);\n",
              "    }\n",
              "    90% {\n",
              "      border-color: transparent;\n",
              "      border-bottom-color: var(--fill-color);\n",
              "    }\n",
              "  }\n",
              "</style>\n",
              "\n",
              "  <script>\n",
              "    async function quickchart(key) {\n",
              "      const quickchartButtonEl =\n",
              "        document.querySelector('#' + key + ' button');\n",
              "      quickchartButtonEl.disabled = true;  // To prevent multiple clicks.\n",
              "      quickchartButtonEl.classList.add('colab-df-spinner');\n",
              "      try {\n",
              "        const charts = await google.colab.kernel.invokeFunction(\n",
              "            'suggestCharts', [key], {});\n",
              "      } catch (error) {\n",
              "        console.error('Error during call to suggestCharts:', error);\n",
              "      }\n",
              "      quickchartButtonEl.classList.remove('colab-df-spinner');\n",
              "      quickchartButtonEl.classList.add('colab-df-quickchart-complete');\n",
              "    }\n",
              "    (() => {\n",
              "      let quickchartButtonEl =\n",
              "        document.querySelector('#df-87ac6443-f114-4aa3-84b3-17e2d8e1c438 button');\n",
              "      quickchartButtonEl.style.display =\n",
              "        google.colab.kernel.accessAllowed ? 'block' : 'none';\n",
              "    })();\n",
              "  </script>\n",
              "</div>\n",
              "\n",
              "    </div>\n",
              "  </div>\n"
            ],
            "application/vnd.google.colaboratory.intrinsic+json": {
              "type": "dataframe",
              "summary": "{\n  \"name\": \"AD\",\n  \"rows\": 4,\n  \"fields\": [\n    {\n      \"column\": \"Aspect\",\n      \"properties\": {\n        \"dtype\": \"string\",\n        \"num_unique_values\": 4,\n        \"samples\": [\n          \"Rabbit stew\",\n          \"kompot\",\n          \"Odessa stew\"\n        ],\n        \"semantic_type\": \"\",\n        \"description\": \"\"\n      }\n    },\n    {\n      \"column\": \"Sentence\",\n      \"properties\": {\n        \"dtype\": \"string\",\n        \"num_unique_values\": 3,\n        \"samples\": [\n          \"You must try Odessa stew or Rabbit stew\",\n          \"salads-all good\",\n          \"and kompot is soo refreshing during the hot summer day\"\n        ],\n        \"semantic_type\": \"\",\n        \"description\": \"\"\n      }\n    },\n    {\n      \"column\": \"Aspect_Sentiment\",\n      \"properties\": {\n        \"dtype\": \"category\",\n        \"num_unique_values\": 1,\n        \"samples\": [\n          \"positive\"\n        ],\n        \"semantic_type\": \"\",\n        \"description\": \"\"\n      }\n    }\n  ]\n}"
            }
          },
          "metadata": {},
          "execution_count": 47
        }
      ]
    },
    {
      "cell_type": "markdown",
      "source": [
        "### Evaluation of Aspect Sentiments in Portions"
      ],
      "metadata": {
        "id": "oo11W0a3Mrci"
      }
    },
    {
      "cell_type": "code",
      "source": [
        "cm = AD.evaluate_aspect_sentiments_in_portions()\n",
        "visualize.confusion_matrix(cm, pred_labels=AD.class_labels, true_labels=AD.class_labels)"
      ],
      "metadata": {
        "colab": {
          "base_uri": "https://localhost:8080/",
          "height": 0
        },
        "id": "ZVvFT75ZVUv-",
        "outputId": "976854ec-b49a-4e09-adf2-77975324b069"
      },
      "execution_count": 50,
      "outputs": [
        {
          "output_type": "stream",
          "name": "stdout",
          "text": [
            "              precision    recall  f1-score   support\n",
            "\n",
            "    negative       0.68      0.80      0.73      1001\n",
            "     neutral       0.55      0.31      0.40       828\n",
            "    positive       0.85      0.91      0.88      2874\n",
            "\n",
            "    accuracy                           0.78      4703\n",
            "   macro avg       0.70      0.67      0.67      4703\n",
            "weighted avg       0.76      0.78      0.76      4703\n",
            "\n"
          ]
        },
        {
          "output_type": "display_data",
          "data": {
            "text/plain": [
              "<Figure size 800x400 with 2 Axes>"
            ],
            "image/png": "[encoded data removed]"
          },
          "metadata": {}
        }
      ]
    },
    {
      "cell_type": "markdown",
      "source": [
        "## Experiments with LLMs"
      ],
      "metadata": {
        "id": "fI8yH6oj6plK"
      }
    },
    {
      "cell_type": "markdown",
      "source": [
        "Comparison:\n",
        "\n",
        "1. NLTK's `SentimentIntensityAnalyzer` model: This model assigns a sentiment intensity score to sentences, returning a float for sentiment strength based on the input text. [(link)](https://www.nltk.org/api/nltk.sentiment.SentimentIntensityAnalyzer.html)\n",
        "\n",
        "2. HuggingFace's `RoBERTa` model: This roBERTa-base model has been trained on ~58M tweets and finetuned for sentiment analysis with the TweetEval benchmark. It returns a sentiment score for each of the negative, neutral, and positive cases. [(link)](https://huggingface.co/cardiffnlp/twitter-roberta-base-sentiment)"
      ],
      "metadata": {
        "id": "pjhv4vV_j--k"
      }
    },
    {
      "cell_type": "code",
      "source": [
        "class NLTK:\n",
        "    def __init__(self, dataset, class_labels):\n",
        "        self.dataset = dataset\n",
        "        self.class_labels = class_labels\n",
        "        self.sentiment_analyzer = SentimentIntensityAnalyzer()\n",
        "\n",
        "    def predict_sentiment(self, document):\n",
        "        scores = self.sentiment_analyzer.polarity_scores(document)\n",
        "        if scores['compound'] >= 0.05: return 'positive'\n",
        "        elif scores['compound'] <= -0.05: return 'negative'\n",
        "        else: return 'neutral'\n",
        "\n",
        "    def evaluate_model(self, document_col_name, sentiment_col_name):\n",
        "        predictions = self.dataset[document_col_name].progress_apply(self.predict_sentiment)\n",
        "        print('\\n', classification_report(self.dataset[sentiment_col_name], predictions))\n",
        "        cm = confusion_matrix(self.dataset[sentiment_col_name], predictions, labels=self.class_labels)\n",
        "        return cm"
      ],
      "metadata": {
        "id": "R2JSGGdQ9CuZ"
      },
      "execution_count": null,
      "outputs": []
    },
    {
      "cell_type": "code",
      "source": [
        "class RoBERTa:\n",
        "    def __init__(self, dataset, class_labels):\n",
        "        self.dataset = dataset\n",
        "        self.class_labels = class_labels\n",
        "        self.HUGGING_FACE_MODEL_NAME = \"cardiffnlp/twitter-roberta-base-sentiment\"\n",
        "        self.model = AutoModelForSequenceClassification.from_pretrained(self.HUGGING_FACE_MODEL_NAME)\n",
        "        self.tokenizer = AutoTokenizer.from_pretrained(self.HUGGING_FACE_MODEL_NAME)\n",
        "\n",
        "    def predict_sentiment(self, document):\n",
        "        encoded_text = self.tokenizer(document, return_tensors='pt', padding=True)\n",
        "        output = self.model(**encoded_text)\n",
        "        logits = output.logits.detach().numpy()[0]\n",
        "        scores = softmax(logits)\n",
        "\n",
        "        labels = ['negative', 'neutral', 'positive']\n",
        "        sentiment_scores = dict(zip(labels, scores))\n",
        "        predicted_label = max(sentiment_scores, key=sentiment_scores.get)\n",
        "        return predicted_label\n",
        "\n",
        "    def evaluate_model(self, document_col_name, sentiment_col_name):\n",
        "        predictions = self.dataset[document_col_name].progress_apply(self.predict_sentiment)\n",
        "        print('\\n', classification_report(self.dataset[sentiment_col_name], predictions))\n",
        "        cm = confusion_matrix(self.dataset[sentiment_col_name], predictions, labels=self.class_labels)\n",
        "        return cm"
      ],
      "metadata": {
        "id": "STOqHlFyv_Dy"
      },
      "execution_count": null,
      "outputs": []
    },
    {
      "cell_type": "markdown",
      "source": [
        "### Sentiment Classification"
      ],
      "metadata": {
        "id": "mQHo8qEg926d"
      }
    },
    {
      "cell_type": "code",
      "source": [
        "dataset = semeval.dataset\n",
        "class_labels = semeval.class_labels\n",
        "document_col_name = 'Document'\n",
        "sentiment_col_name = 'Sentiment'"
      ],
      "metadata": {
        "id": "MbMME0wP9dud"
      },
      "execution_count": null,
      "outputs": []
    },
    {
      "cell_type": "code",
      "source": [
        "nltk_semeval = NLTK(dataset, class_labels)\n",
        "cm = nltk_semeval.evaluate_model(document_col_name, sentiment_col_name)\n",
        "visualize.confusion_matrix(cm, pred_labels=class_labels, true_labels=class_labels)"
      ],
      "metadata": {
        "id": "Hl2mBfZ4-JsA",
        "outputId": "85875760-c490-4406-8c74-d7e8b85553aa",
        "colab": {
          "base_uri": "https://localhost:8080/",
          "height": 624
        }
      },
      "execution_count": null,
      "outputs": [
        {
          "output_type": "stream",
          "name": "stderr",
          "text": [
            "100%|██████████| 3841/3841 [00:00<00:00, 5046.26it/s]\n"
          ]
        },
        {
          "output_type": "stream",
          "name": "stdout",
          "text": [
            "\n",
            "               precision    recall  f1-score   support\n",
            "\n",
            "    negative       0.45      0.41      0.43       575\n",
            "     neutral       0.59      0.36      0.45      1653\n",
            "    positive       0.57      0.82      0.67      1613\n",
            "\n",
            "    accuracy                           0.56      3841\n",
            "   macro avg       0.54      0.53      0.52      3841\n",
            "weighted avg       0.56      0.56      0.54      3841\n",
            "\n"
          ]
        },
        {
          "output_type": "display_data",
          "data": {
            "text/plain": [
              "<Figure size 800x400 with 2 Axes>"
            ],
            "image/png": "[encoded data removed]"
          },
          "metadata": {}
        }
      ]
    },
    {
      "cell_type": "code",
      "source": [
        "roberta_semeval = RoBERTa(dataset, class_labels)\n",
        "cm = roberta_semeval.evaluate_model(document_col_name, sentiment_col_name)\n",
        "visualize.confusion_matrix(cm, pred_labels=class_labels, true_labels=class_labels)"
      ],
      "metadata": {
        "id": "7G_pFG1fy1iT",
        "outputId": "fe9d8c69-31cd-4a57-9c70-456e8e099f15",
        "colab": {
          "base_uri": "https://localhost:8080/",
          "height": 624
        }
      },
      "execution_count": null,
      "outputs": [
        {
          "output_type": "stream",
          "name": "stderr",
          "text": [
            "100%|██████████| 3841/3841 [08:31<00:00,  7.52it/s]\n"
          ]
        },
        {
          "output_type": "stream",
          "name": "stdout",
          "text": [
            "\n",
            "               precision    recall  f1-score   support\n",
            "\n",
            "    negative       0.51      0.67      0.58       575\n",
            "     neutral       0.64      0.37      0.47      1653\n",
            "    positive       0.65      0.85      0.74      1613\n",
            "\n",
            "    accuracy                           0.62      3841\n",
            "   macro avg       0.60      0.63      0.59      3841\n",
            "weighted avg       0.62      0.62      0.60      3841\n",
            "\n"
          ]
        },
        {
          "output_type": "display_data",
          "data": {
            "text/plain": [
              "<Figure size 800x400 with 2 Axes>"
            ],
            "image/png": "[encoded data removed]"
          },
          "metadata": {}
        }
      ]
    },
    {
      "cell_type": "markdown",
      "source": [
        "### Aspect-Based Sentiment Classification"
      ],
      "metadata": {
        "id": "euGol-GQ7VPq"
      }
    },
    {
      "cell_type": "code",
      "source": [
        "dataset = AD.get_df_aspect_sentence_sentiment()\n",
        "class_labels = sorted(dataset['Aspect_Sentiment'].unique())\n",
        "document_col_name = 'Sentence'\n",
        "sentiment_col_name = 'Aspect_Sentiment'"
      ],
      "metadata": {
        "id": "8Y9JqI3I_B9E"
      },
      "execution_count": null,
      "outputs": []
    },
    {
      "cell_type": "code",
      "source": [
        "nltk_aspect_sentence = NLTK(dataset, class_labels)\n",
        "cm = nltk_aspect_sentence.evaluate_model(document_col_name, sentiment_col_name)\n",
        "visualize.confusion_matrix(cm, pred_labels=class_labels, true_labels=class_labels)"
      ],
      "metadata": {
        "id": "7Fee9thx_Nmq",
        "outputId": "d9df08e8-4935-441a-d3cc-258a5bd6d41f",
        "colab": {
          "base_uri": "https://localhost:8080/",
          "height": 624
        }
      },
      "execution_count": null,
      "outputs": [
        {
          "output_type": "stream",
          "name": "stderr",
          "text": [
            "100%|██████████| 4703/4703 [00:01<00:00, 4663.77it/s]\n"
          ]
        },
        {
          "output_type": "stream",
          "name": "stdout",
          "text": [
            "\n",
            "               precision    recall  f1-score   support\n",
            "\n",
            "    negative       0.65      0.39      0.49      1001\n",
            "     neutral       0.33      0.45      0.38       828\n",
            "    positive       0.78      0.80      0.79      2874\n",
            "\n",
            "    accuracy                           0.65      4703\n",
            "   macro avg       0.58      0.55      0.55      4703\n",
            "weighted avg       0.67      0.65      0.65      4703\n",
            "\n"
          ]
        },
        {
          "output_type": "display_data",
          "data": {
            "text/plain": [
              "<Figure size 800x400 with 2 Axes>"
            ],
            "image/png": "[encoded data removed]"
          },
          "metadata": {}
        }
      ]
    },
    {
      "cell_type": "code",
      "source": [
        "roberta_aspect_sentence = RoBERTa(dataset, class_labels)\n",
        "cm = roberta_aspect_sentence.evaluate_model(document_col_name, sentiment_col_name)\n",
        "visualize.confusion_matrix(cm, pred_labels=class_labels, true_labels=class_labels)"
      ],
      "metadata": {
        "id": "mbblRbt816Xx",
        "outputId": "d97c00f5-4bc7-4499-b052-6a04d1783c47",
        "colab": {
          "base_uri": "https://localhost:8080/",
          "height": 624
        }
      },
      "execution_count": null,
      "outputs": [
        {
          "output_type": "stream",
          "name": "stderr",
          "text": [
            "100%|██████████| 4703/4703 [10:59<00:00,  7.13it/s]\n"
          ]
        },
        {
          "output_type": "stream",
          "name": "stdout",
          "text": [
            "\n",
            "               precision    recall  f1-score   support\n",
            "\n",
            "    negative       0.72      0.63      0.67      1001\n",
            "     neutral       0.38      0.52      0.44       828\n",
            "    positive       0.87      0.82      0.84      2874\n",
            "\n",
            "    accuracy                           0.73      4703\n",
            "   macro avg       0.66      0.66      0.65      4703\n",
            "weighted avg       0.75      0.73      0.74      4703\n",
            "\n"
          ]
        },
        {
          "output_type": "display_data",
          "data": {
            "text/plain": [
              "<Figure size 800x400 with 2 Axes>"
            ],
            "image/png": "[encoded data removed]"
          },
          "metadata": {}
        }
      ]
    },
    {
      "cell_type": "markdown",
      "source": [
        "## References"
      ],
      "metadata": {
        "id": "eQx9Kn8BTGZi"
      }
    },
    {
      "cell_type": "markdown",
      "source": [
        "- Emanuele Guidotti and Alfio Ferrara. Text Classification with Born’s Rule. Advances in Neural Information\n",
        "Processing Systems, 2022.\n",
        "- Schouten, K., & Frasincar, F. (2015). Survey on aspect-level sentiment analysis. IEEE Transactions on\n",
        "Knowledge and Data Engineering, 28(3), 813-830. [link](https://ieeexplore.ieee.org/document/7286808)\n",
        "- Rana, T. A., & Cheah, Y. N. (2016). Aspect extraction in sentiment analysis: comparative analysis and survey.\n",
        "Artificial Intelligence Review, 46(4), 459-483. [link](https://link.springer.com/article/10.1007/s10462-016-9472-z)"
      ],
      "metadata": {
        "id": "ZDvBhAteTGXN"
      }
    }
  ]
}